{
 "cells": [
  {
   "cell_type": "markdown",
   "id": "89932112",
   "metadata": {
    "execution": {
     "iopub.execute_input": "2021-12-05T22:12:35.950392Z",
     "iopub.status.busy": "2021-12-05T22:12:35.950084Z",
     "iopub.status.idle": "2021-12-05T22:12:36.841914Z",
     "shell.execute_reply": "2021-12-05T22:12:36.84125Z",
     "shell.execute_reply.started": "2021-12-05T22:12:35.950293Z"
    },
    "papermill": {
     "duration": 0.014472,
     "end_time": "2022-01-23T11:09:09.642313",
     "exception": false,
     "start_time": "2022-01-23T11:09:09.627841",
     "status": "completed"
    },
    "tags": []
   },
   "source": [
    "# Linear_Regression"
   ]
  },
  {
   "cell_type": "markdown",
   "id": "b506f15f",
   "metadata": {
    "papermill": {
     "duration": 0.013311,
     "end_time": "2022-01-23T11:09:09.671673",
     "exception": false,
     "start_time": "2022-01-23T11:09:09.658362",
     "status": "completed"
    },
    "tags": []
   },
   "source": [
    "__Linear regression attempts to model the relationship between two variables by fitting a linear equation to observed data. ... A linear regression line has an equation of the form Y = a + bX, where X is the explanatory variable and Y is the dependent variable.__"
   ]
  },
  {
   "cell_type": "markdown",
   "id": "addc9a95",
   "metadata": {
    "papermill": {
     "duration": 0.012854,
     "end_time": "2022-01-23T11:09:09.697766",
     "exception": false,
     "start_time": "2022-01-23T11:09:09.684912",
     "status": "completed"
    },
    "tags": []
   },
   "source": [
    "![](data:image/png;base64,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)"
   ]
  },
  {
   "cell_type": "code",
   "execution_count": 1,
   "id": "cf6d95c3",
   "metadata": {
    "execution": {
     "iopub.execute_input": "2022-01-23T11:09:09.733375Z",
     "iopub.status.busy": "2022-01-23T11:09:09.732440Z",
     "iopub.status.idle": "2022-01-23T11:09:10.830961Z",
     "shell.execute_reply": "2022-01-23T11:09:10.830229Z"
    },
    "papermill": {
     "duration": 1.120229,
     "end_time": "2022-01-23T11:09:10.831137",
     "exception": false,
     "start_time": "2022-01-23T11:09:09.710908",
     "status": "completed"
    },
    "tags": []
   },
   "outputs": [],
   "source": [
    "import numpy as np\n",
    "import pandas as pd \n",
    "import matplotlib.pyplot as plt\n",
    "import seaborn as sns\n",
    "%matplotlib inline\n",
    "sns.set_theme(style=\"darkgrid\")\n"
   ]
  },
  {
   "cell_type": "code",
   "execution_count": 2,
   "id": "2cdad09e",
   "metadata": {
    "execution": {
     "iopub.execute_input": "2022-01-23T11:09:10.865324Z",
     "iopub.status.busy": "2022-01-23T11:09:10.864643Z",
     "iopub.status.idle": "2022-01-23T11:09:12.476823Z",
     "shell.execute_reply": "2022-01-23T11:09:12.477365Z",
     "shell.execute_reply.started": "2021-12-05T22:12:36.843632Z"
    },
    "papermill": {
     "duration": 1.632869,
     "end_time": "2022-01-23T11:09:12.477542",
     "exception": false,
     "start_time": "2022-01-23T11:09:10.844673",
     "status": "completed"
    },
    "tags": []
   },
   "outputs": [
    {
     "data": {
      "text/html": [
       "<div>\n",
       "<style scoped>\n",
       "    .dataframe tbody tr th:only-of-type {\n",
       "        vertical-align: middle;\n",
       "    }\n",
       "\n",
       "    .dataframe tbody tr th {\n",
       "        vertical-align: top;\n",
       "    }\n",
       "\n",
       "    .dataframe thead th {\n",
       "        text-align: right;\n",
       "    }\n",
       "</style>\n",
       "<table border=\"1\" class=\"dataframe\">\n",
       "  <thead>\n",
       "    <tr style=\"text-align: right;\">\n",
       "      <th></th>\n",
       "      <th>Hours</th>\n",
       "      <th>Scores</th>\n",
       "    </tr>\n",
       "  </thead>\n",
       "  <tbody>\n",
       "    <tr>\n",
       "      <th>0</th>\n",
       "      <td>2.5</td>\n",
       "      <td>21</td>\n",
       "    </tr>\n",
       "    <tr>\n",
       "      <th>1</th>\n",
       "      <td>5.1</td>\n",
       "      <td>47</td>\n",
       "    </tr>\n",
       "    <tr>\n",
       "      <th>2</th>\n",
       "      <td>3.2</td>\n",
       "      <td>27</td>\n",
       "    </tr>\n",
       "    <tr>\n",
       "      <th>3</th>\n",
       "      <td>8.5</td>\n",
       "      <td>75</td>\n",
       "    </tr>\n",
       "    <tr>\n",
       "      <th>4</th>\n",
       "      <td>3.5</td>\n",
       "      <td>30</td>\n",
       "    </tr>\n",
       "  </tbody>\n",
       "</table>\n",
       "</div>"
      ],
      "text/plain": [
       "   Hours  Scores\n",
       "0    2.5      21\n",
       "1    5.1      47\n",
       "2    3.2      27\n",
       "3    8.5      75\n",
       "4    3.5      30"
      ]
     },
     "execution_count": 2,
     "metadata": {},
     "output_type": "execute_result"
    }
   ],
   "source": [
    "data= pd.read_csv(\"http://bit.ly/w-data\")\n",
    "data.head()"
   ]
  },
  {
   "cell_type": "code",
   "execution_count": 3,
   "id": "ff80cf58",
   "metadata": {
    "execution": {
     "iopub.execute_input": "2022-01-23T11:09:12.508708Z",
     "iopub.status.busy": "2022-01-23T11:09:12.508067Z",
     "iopub.status.idle": "2022-01-23T11:09:12.855990Z",
     "shell.execute_reply": "2022-01-23T11:09:12.855362Z",
     "shell.execute_reply.started": "2021-12-05T22:12:37.433394Z"
    },
    "papermill": {
     "duration": 0.364349,
     "end_time": "2022-01-23T11:09:12.856177",
     "exception": false,
     "start_time": "2022-01-23T11:09:12.491828",
     "status": "completed"
    },
    "tags": []
   },
   "outputs": [
    {
     "data": {
      "text/plain": [
       "<Figure size 576x432 with 0 Axes>"
      ]
     },
     "metadata": {},
     "output_type": "display_data"
    },
    {
     "data": {
      "image/png": "[encoded data removed]",
      "text/plain": [
       "<Figure size 432x288 with 1 Axes>"
      ]
     },
     "metadata": {},
     "output_type": "display_data"
    }
   ],
   "source": [
    "fig = plt.figure(figsize=(8, 6))\n",
    "data.plot(x='Hours', y='Scores', style='*')  \n",
    "plt.title('les scores en fonction de heures')  \n",
    "plt.xlabel('Hours Studied')  \n",
    "plt.ylabel(' Score')  \n",
    "plt.show()"
   ]
  },
  {
   "cell_type": "code",
   "execution_count": 4,
   "id": "cfdedb4c",
   "metadata": {
    "execution": {
     "iopub.execute_input": "2022-01-23T11:09:12.893765Z",
     "iopub.status.busy": "2022-01-23T11:09:12.892994Z",
     "iopub.status.idle": "2022-01-23T11:09:12.895978Z",
     "shell.execute_reply": "2022-01-23T11:09:12.895453Z",
     "shell.execute_reply.started": "2021-12-05T22:12:37.745214Z"
    },
    "papermill": {
     "duration": 0.024534,
     "end_time": "2022-01-23T11:09:12.896157",
     "exception": false,
     "start_time": "2022-01-23T11:09:12.871623",
     "status": "completed"
    },
    "tags": []
   },
   "outputs": [],
   "source": [
    "x = data.drop(\"Hours\", axis=1)\n",
    "y = data[\"Scores\"]"
   ]
  },
  {
   "cell_type": "code",
   "execution_count": 5,
   "id": "7d188676",
   "metadata": {
    "execution": {
     "iopub.execute_input": "2022-01-23T11:09:12.932089Z",
     "iopub.status.busy": "2022-01-23T11:09:12.931433Z",
     "iopub.status.idle": "2022-01-23T11:09:12.933857Z",
     "shell.execute_reply": "2022-01-23T11:09:12.934345Z"
    },
    "papermill": {
     "duration": 0.023191,
     "end_time": "2022-01-23T11:09:12.934504",
     "exception": false,
     "start_time": "2022-01-23T11:09:12.911313",
     "status": "completed"
    },
    "tags": []
   },
   "outputs": [
    {
     "data": {
      "text/plain": [
       "(25, 1)"
      ]
     },
     "execution_count": 5,
     "metadata": {},
     "output_type": "execute_result"
    }
   ],
   "source": [
    "x.shape"
   ]
  },
  {
   "cell_type": "code",
   "execution_count": 6,
   "id": "3ac155db",
   "metadata": {
    "execution": {
     "iopub.execute_input": "2022-01-23T11:09:12.969244Z",
     "iopub.status.busy": "2022-01-23T11:09:12.968547Z",
     "iopub.status.idle": "2022-01-23T11:09:13.514872Z",
     "shell.execute_reply": "2022-01-23T11:09:13.515360Z"
    },
    "papermill": {
     "duration": 0.565601,
     "end_time": "2022-01-23T11:09:13.515536",
     "exception": false,
     "start_time": "2022-01-23T11:09:12.949935",
     "status": "completed"
    },
    "tags": []
   },
   "outputs": [
    {
     "data": {
      "image/png": "[encoded data removed]",
      "text/plain": [
       "<Figure size 1296x720 with 2 Axes>"
      ]
     },
     "metadata": {},
     "output_type": "display_data"
    }
   ],
   "source": [
    "numericals=[data[\"Hours\"], data[\"Scores\"]]\n",
    "fig, axes = plt.subplots(nrows=len(numericals), ncols=1, figsize=(18, 5*len(numericals)))\n",
    "numericals=[data[\"Scores\"], data[\"Hours\"]]\n",
    "for i in range(len(numericals)):\n",
    "    col = numericals[i]\n",
    "    sns.histplot(x=col, data=x, ax=axes[i], color=\"blueviolet\", kde=True)\n",
    "plt.show()"
   ]
  },
  {
   "cell_type": "code",
   "execution_count": 7,
   "id": "1363681b",
   "metadata": {
    "execution": {
     "iopub.execute_input": "2022-01-23T11:09:13.553703Z",
     "iopub.status.busy": "2022-01-23T11:09:13.552997Z",
     "iopub.status.idle": "2022-01-23T11:09:14.024512Z",
     "shell.execute_reply": "2022-01-23T11:09:14.024963Z",
     "shell.execute_reply.started": "2021-12-05T22:12:37.763624Z"
    },
    "papermill": {
     "duration": 0.492419,
     "end_time": "2022-01-23T11:09:14.025210",
     "exception": false,
     "start_time": "2022-01-23T11:09:13.532791",
     "status": "completed"
    },
    "tags": []
   },
   "outputs": [
    {
     "data": {
      "image/png": "[encoded data removed]",
      "text/plain": [
       "<Figure size 360x360 with 1 Axes>"
      ]
     },
     "metadata": {},
     "output_type": "display_data"
    }
   ],
   "source": [
    "sns.relplot(x=\"Scores\", y=\"Hours\", estimator=None, kind=\"line\", data=data);"
   ]
  },
  {
   "cell_type": "code",
   "execution_count": 8,
   "id": "e0bdc752",
   "metadata": {
    "execution": {
     "iopub.execute_input": "2022-01-23T11:09:14.064657Z",
     "iopub.status.busy": "2022-01-23T11:09:14.063917Z",
     "iopub.status.idle": "2022-01-23T11:09:14.338396Z",
     "shell.execute_reply": "2022-01-23T11:09:14.337805Z",
     "shell.execute_reply.started": "2021-12-05T22:12:37.76557Z"
    },
    "papermill": {
     "duration": 0.295238,
     "end_time": "2022-01-23T11:09:14.338543",
     "exception": false,
     "start_time": "2022-01-23T11:09:14.043305",
     "status": "completed"
    },
    "tags": []
   },
   "outputs": [
    {
     "name": "stdout",
     "output_type": "stream",
     "text": [
      "[17. 21. 24. 88. 76.]\n"
     ]
    }
   ],
   "source": [
    "from sklearn.model_selection import train_test_split\n",
    "X_train, X_test, y_train, y_test = train_test_split(x, y, test_size=0.2, random_state=2) \n",
    "from sklearn.linear_model import LinearRegression  \n",
    "LinearR= LinearRegression()  \n",
    "LinearR.fit(X_train, y_train) \n",
    "y_pr=LinearR.predict(X_test)\n",
    "print(y_pr)"
   ]
  },
  {
   "cell_type": "code",
   "execution_count": 9,
   "id": "1f760b4c",
   "metadata": {
    "execution": {
     "iopub.execute_input": "2022-01-23T11:09:14.381382Z",
     "iopub.status.busy": "2022-01-23T11:09:14.380703Z",
     "iopub.status.idle": "2022-01-23T11:09:14.385113Z",
     "shell.execute_reply": "2022-01-23T11:09:14.385887Z",
     "shell.execute_reply.started": "2021-12-05T22:12:37.767152Z"
    },
    "papermill": {
     "duration": 0.028906,
     "end_time": "2022-01-23T11:09:14.386155",
     "exception": false,
     "start_time": "2022-01-23T11:09:14.357249",
     "status": "completed"
    },
    "tags": []
   },
   "outputs": [
    {
     "name": "stdout",
     "output_type": "stream",
     "text": [
      "[17. 21. 24. 88. 76.]\n"
     ]
    }
   ],
   "source": [
    "print(y_pr)"
   ]
  },
  {
   "cell_type": "code",
   "execution_count": 10,
   "id": "c60a8ca1",
   "metadata": {
    "execution": {
     "iopub.execute_input": "2022-01-23T11:09:14.431950Z",
     "iopub.status.busy": "2022-01-23T11:09:14.431131Z",
     "iopub.status.idle": "2022-01-23T11:09:14.434331Z",
     "shell.execute_reply": "2022-01-23T11:09:14.434824Z",
     "shell.execute_reply.started": "2021-12-05T22:12:37.769143Z"
    },
    "papermill": {
     "duration": 0.028732,
     "end_time": "2022-01-23T11:09:14.434995",
     "exception": false,
     "start_time": "2022-01-23T11:09:14.406263",
     "status": "completed"
    },
    "tags": []
   },
   "outputs": [
    {
     "name": "stdout",
     "output_type": "stream",
     "text": [
      "14    17\n",
      "0     21\n",
      "17    24\n",
      "6     88\n",
      "23    76\n",
      "Name: Scores, dtype: int64\n",
      "9     25\n",
      "3     75\n",
      "16    30\n",
      "12    41\n",
      "22    35\n",
      "4     30\n",
      "10    85\n",
      "5     20\n",
      "19    69\n",
      "1     47\n",
      "2     27\n",
      "7     60\n",
      "21    54\n",
      "20    30\n",
      "18    67\n",
      "11    62\n",
      "24    86\n",
      "13    42\n",
      "15    95\n",
      "8     81\n",
      "Name: Scores, dtype: int64\n"
     ]
    }
   ],
   "source": [
    "print(y_test)\n",
    "print(y_train)"
   ]
  },
  {
   "cell_type": "code",
   "execution_count": 11,
   "id": "45d60c04",
   "metadata": {
    "execution": {
     "iopub.execute_input": "2022-01-23T11:09:14.480366Z",
     "iopub.status.busy": "2022-01-23T11:09:14.479592Z",
     "iopub.status.idle": "2022-01-23T11:09:14.482790Z",
     "shell.execute_reply": "2022-01-23T11:09:14.483323Z"
    },
    "papermill": {
     "duration": 0.029119,
     "end_time": "2022-01-23T11:09:14.483496",
     "exception": false,
     "start_time": "2022-01-23T11:09:14.454377",
     "status": "completed"
    },
    "tags": []
   },
   "outputs": [
    {
     "name": "stdout",
     "output_type": "stream",
     "text": [
      "    Scores\n",
      "14      17\n",
      "0       21\n",
      "17      24\n",
      "6       88\n",
      "23      76\n"
     ]
    }
   ],
   "source": [
    "print(X_test)\n"
   ]
  },
  {
   "cell_type": "code",
   "execution_count": 12,
   "id": "42c60b4a",
   "metadata": {
    "execution": {
     "iopub.execute_input": "2022-01-23T11:09:14.533509Z",
     "iopub.status.busy": "2022-01-23T11:09:14.532540Z",
     "iopub.status.idle": "2022-01-23T11:09:14.536779Z",
     "shell.execute_reply": "2022-01-23T11:09:14.536158Z"
    },
    "papermill": {
     "duration": 0.033752,
     "end_time": "2022-01-23T11:09:14.536914",
     "exception": false,
     "start_time": "2022-01-23T11:09:14.503162",
     "status": "completed"
    },
    "tags": []
   },
   "outputs": [
    {
     "data": {
      "text/html": [
       "<div>\n",
       "<style scoped>\n",
       "    .dataframe tbody tr th:only-of-type {\n",
       "        vertical-align: middle;\n",
       "    }\n",
       "\n",
       "    .dataframe tbody tr th {\n",
       "        vertical-align: top;\n",
       "    }\n",
       "\n",
       "    .dataframe thead th {\n",
       "        text-align: right;\n",
       "    }\n",
       "</style>\n",
       "<table border=\"1\" class=\"dataframe\">\n",
       "  <thead>\n",
       "    <tr style=\"text-align: right;\">\n",
       "      <th></th>\n",
       "      <th>ytst</th>\n",
       "      <th>ypr</th>\n",
       "    </tr>\n",
       "  </thead>\n",
       "  <tbody>\n",
       "    <tr>\n",
       "      <th>14</th>\n",
       "      <td>17</td>\n",
       "      <td>17.0</td>\n",
       "    </tr>\n",
       "    <tr>\n",
       "      <th>0</th>\n",
       "      <td>21</td>\n",
       "      <td>21.0</td>\n",
       "    </tr>\n",
       "    <tr>\n",
       "      <th>17</th>\n",
       "      <td>24</td>\n",
       "      <td>24.0</td>\n",
       "    </tr>\n",
       "    <tr>\n",
       "      <th>6</th>\n",
       "      <td>88</td>\n",
       "      <td>88.0</td>\n",
       "    </tr>\n",
       "    <tr>\n",
       "      <th>23</th>\n",
       "      <td>76</td>\n",
       "      <td>76.0</td>\n",
       "    </tr>\n",
       "  </tbody>\n",
       "</table>\n",
       "</div>"
      ],
      "text/plain": [
       "    ytst   ypr\n",
       "14    17  17.0\n",
       "0     21  21.0\n",
       "17    24  24.0\n",
       "6     88  88.0\n",
       "23    76  76.0"
      ]
     },
     "execution_count": 12,
     "metadata": {},
     "output_type": "execute_result"
    }
   ],
   "source": [
    "DF=pd.DataFrame({'ytst': y_test, 'ypr': y_pr})\n",
    "DF.head(5)"
   ]
  },
  {
   "cell_type": "code",
   "execution_count": 13,
   "id": "b3bfbc74",
   "metadata": {
    "execution": {
     "iopub.execute_input": "2022-01-23T11:09:14.583650Z",
     "iopub.status.busy": "2022-01-23T11:09:14.582816Z",
     "iopub.status.idle": "2022-01-23T11:09:14.586389Z",
     "shell.execute_reply": "2022-01-23T11:09:14.586846Z"
    },
    "papermill": {
     "duration": 0.029837,
     "end_time": "2022-01-23T11:09:14.587041",
     "exception": false,
     "start_time": "2022-01-23T11:09:14.557204",
     "status": "completed"
    },
    "tags": []
   },
   "outputs": [
    {
     "name": "stdout",
     "output_type": "stream",
     "text": [
      "No of Hours [[9.5]]\n",
      "Predicted Score 9.499999999999988\n"
     ]
    }
   ],
   "source": [
    "Hours= [[9.5]]\n",
    "mypr = LinearR.predict(Hours)\n",
    "print(\"No of Hours\",Hours )\n",
    "print(\"Predicted Score\",mypr[0])"
   ]
  },
  {
   "cell_type": "code",
   "execution_count": 14,
   "id": "b51fb0bd",
   "metadata": {
    "execution": {
     "iopub.execute_input": "2022-01-23T11:09:14.634844Z",
     "iopub.status.busy": "2022-01-23T11:09:14.634137Z",
     "iopub.status.idle": "2022-01-23T11:09:14.637975Z",
     "shell.execute_reply": "2022-01-23T11:09:14.638510Z"
    },
    "papermill": {
     "duration": 0.031056,
     "end_time": "2022-01-23T11:09:14.638688",
     "exception": false,
     "start_time": "2022-01-23T11:09:14.607632",
     "status": "completed"
    },
    "tags": []
   },
   "outputs": [
    {
     "name": "stdout",
     "output_type": "stream",
     "text": [
      "Mean Absolute Error: 5.684341886080802e-15\n",
      "Mean Square Error: 5.553580772755924e-29\n"
     ]
    }
   ],
   "source": [
    "from sklearn import metrics  \n",
    "print('Mean Absolute Error:', metrics.mean_absolute_error(y_test, y_pr)) \n",
    "print('Mean Square Error:', metrics.mean_squared_error(y_test, y_pr)) "
   ]
  },
  {
   "cell_type": "code",
   "execution_count": 15,
   "id": "ee7143f4",
   "metadata": {
    "execution": {
     "iopub.execute_input": "2022-01-23T11:09:14.690384Z",
     "iopub.status.busy": "2022-01-23T11:09:14.689719Z",
     "iopub.status.idle": "2022-01-23T11:09:14.692907Z",
     "shell.execute_reply": "2022-01-23T11:09:14.692363Z"
    },
    "papermill": {
     "duration": 0.03208,
     "end_time": "2022-01-23T11:09:14.693054",
     "exception": false,
     "start_time": "2022-01-23T11:09:14.660974",
     "status": "completed"
    },
    "tags": []
   },
   "outputs": [
    {
     "data": {
      "text/plain": [
       "1.0"
      ]
     },
     "execution_count": 15,
     "metadata": {},
     "output_type": "execute_result"
    }
   ],
   "source": [
    "score=LinearR.score(X_test,y_test)\n",
    "score"
   ]
  }
 ],
 "metadata": {
  "kernelspec": {
   "display_name": "Python 3",
   "language": "python",
   "name": "python3"
  },
  "language_info": {
   "codemirror_mode": {
    "name": "ipython",
    "version": 3
   },
   "file_extension": ".py",
   "mimetype": "text/x-python",
   "name": "python",
   "nbconvert_exporter": "python",
   "pygments_lexer": "ipython3",
   "version": "3.7.12"
  },
  "papermill": {
   "default_parameters": {},
   "duration": 15.906417,
   "end_time": "2022-01-23T11:09:15.424627",
   "environment_variables": {},
   "exception": null,
   "input_path": "__notebook__.ipynb",
   "output_path": "__notebook__.ipynb",
   "parameters": {},
   "start_time": "2022-01-23T11:08:59.518210",
   "version": "2.3.3"
  }
 },
 "nbformat": 4,
 "nbformat_minor": 5
}
