{
 "cells": [
  {
   "cell_type": "code",
   "execution_count": 1,
   "id": "0de52a82",
   "metadata": {
    "_cell_guid": "b1076dfc-b9ad-4769-8c92-a6c4dae69d19",
    "_uuid": "8f2839f25d086af736a60e9eeb907d3b93b6e0e5",
    "execution": {
     "iopub.execute_input": "2021-12-19T18:59:11.710099Z",
     "iopub.status.busy": "2021-12-19T18:59:11.708313Z",
     "iopub.status.idle": "2021-12-19T18:59:12.735895Z",
     "shell.execute_reply": "2021-12-19T18:59:12.735213Z",
     "shell.execute_reply.started": "2021-12-19T18:33:13.109682Z"
    },
    "papermill": {
     "duration": 1.091343,
     "end_time": "2021-12-19T18:59:12.736067",
     "exception": false,
     "start_time": "2021-12-19T18:59:11.644724",
     "status": "completed"
    },
    "tags": []
   },
   "outputs": [],
   "source": [
    "import numpy as np \n",
    "import pandas as pd \n",
    "import matplotlib.pyplot as plt\n",
    "import matplotlib.style as style\n",
    "import seaborn as sns"
   ]
  },
  {
   "cell_type": "markdown",
   "id": "7f3ef506",
   "metadata": {
    "papermill": {
     "duration": 0.057282,
     "end_time": "2021-12-19T18:59:12.854345",
     "exception": false,
     "start_time": "2021-12-19T18:59:12.797063",
     "status": "completed"
    },
    "tags": []
   },
   "source": [
    "# Regression"
   ]
  },
  {
   "cell_type": "markdown",
   "id": "b487eee3",
   "metadata": {
    "papermill": {
     "duration": 0.060033,
     "end_time": "2021-12-19T18:59:12.975380",
     "exception": false,
     "start_time": "2021-12-19T18:59:12.915347",
     "status": "completed"
    },
    "tags": []
   },
   "source": [
    "<img src= \"https://www.tibco.com/sites/tibco/files/media_entity/2020-09/regression-analysis-diagram.svg\" alt =\"Regression\" style='width: 800px;'>"
   ]
  },
  {
   "cell_type": "code",
   "execution_count": 2,
   "id": "75f8fb93",
   "metadata": {
    "execution": {
     "iopub.execute_input": "2021-12-19T18:59:13.098476Z",
     "iopub.status.busy": "2021-12-19T18:59:13.097833Z",
     "iopub.status.idle": "2021-12-19T18:59:13.152915Z",
     "shell.execute_reply": "2021-12-19T18:59:13.153499Z",
     "shell.execute_reply.started": "2021-12-19T18:33:14.227608Z"
    },
    "papermill": {
     "duration": 0.119112,
     "end_time": "2021-12-19T18:59:13.153674",
     "exception": false,
     "start_time": "2021-12-19T18:59:13.034562",
     "status": "completed"
    },
    "tags": []
   },
   "outputs": [],
   "source": [
    "bitcoin=pd.read_csv(\"../input/cryptocurrencypricehistory/coin_Bitcoin.csv\")\n",
    "HF=pd.read_csv(\"../input/heart-failure-clinical-data/heart_failure_clinical_records_dataset.csv\")"
   ]
  },
  {
   "cell_type": "code",
   "execution_count": 3,
   "id": "421abcb9",
   "metadata": {
    "execution": {
     "iopub.execute_input": "2021-12-19T18:59:13.278679Z",
     "iopub.status.busy": "2021-12-19T18:59:13.277992Z",
     "iopub.status.idle": "2021-12-19T18:59:13.302263Z",
     "shell.execute_reply": "2021-12-19T18:59:13.302815Z",
     "shell.execute_reply.started": "2021-12-19T18:33:14.283436Z"
    },
    "papermill": {
     "duration": 0.088651,
     "end_time": "2021-12-19T18:59:13.302992",
     "exception": false,
     "start_time": "2021-12-19T18:59:13.214341",
     "status": "completed"
    },
    "tags": []
   },
   "outputs": [
    {
     "data": {
      "text/html": [
       "<div>\n",
       "<style scoped>\n",
       "    .dataframe tbody tr th:only-of-type {\n",
       "        vertical-align: middle;\n",
       "    }\n",
       "\n",
       "    .dataframe tbody tr th {\n",
       "        vertical-align: top;\n",
       "    }\n",
       "\n",
       "    .dataframe thead th {\n",
       "        text-align: right;\n",
       "    }\n",
       "</style>\n",
       "<table border=\"1\" class=\"dataframe\">\n",
       "  <thead>\n",
       "    <tr style=\"text-align: right;\">\n",
       "      <th></th>\n",
       "      <th>SNo</th>\n",
       "      <th>Name</th>\n",
       "      <th>Symbol</th>\n",
       "      <th>Date</th>\n",
       "      <th>High</th>\n",
       "      <th>Low</th>\n",
       "      <th>Open</th>\n",
       "      <th>Close</th>\n",
       "      <th>Volume</th>\n",
       "      <th>Marketcap</th>\n",
       "    </tr>\n",
       "  </thead>\n",
       "  <tbody>\n",
       "    <tr>\n",
       "      <th>0</th>\n",
       "      <td>1</td>\n",
       "      <td>Bitcoin</td>\n",
       "      <td>BTC</td>\n",
       "      <td>2013-04-29 23:59:59</td>\n",
       "      <td>147.488007</td>\n",
       "      <td>134.000000</td>\n",
       "      <td>134.444000</td>\n",
       "      <td>144.539993</td>\n",
       "      <td>0.0</td>\n",
       "      <td>1.603769e+09</td>\n",
       "    </tr>\n",
       "    <tr>\n",
       "      <th>1</th>\n",
       "      <td>2</td>\n",
       "      <td>Bitcoin</td>\n",
       "      <td>BTC</td>\n",
       "      <td>2013-04-30 23:59:59</td>\n",
       "      <td>146.929993</td>\n",
       "      <td>134.050003</td>\n",
       "      <td>144.000000</td>\n",
       "      <td>139.000000</td>\n",
       "      <td>0.0</td>\n",
       "      <td>1.542813e+09</td>\n",
       "    </tr>\n",
       "    <tr>\n",
       "      <th>2</th>\n",
       "      <td>3</td>\n",
       "      <td>Bitcoin</td>\n",
       "      <td>BTC</td>\n",
       "      <td>2013-05-01 23:59:59</td>\n",
       "      <td>139.889999</td>\n",
       "      <td>107.720001</td>\n",
       "      <td>139.000000</td>\n",
       "      <td>116.989998</td>\n",
       "      <td>0.0</td>\n",
       "      <td>1.298955e+09</td>\n",
       "    </tr>\n",
       "    <tr>\n",
       "      <th>3</th>\n",
       "      <td>4</td>\n",
       "      <td>Bitcoin</td>\n",
       "      <td>BTC</td>\n",
       "      <td>2013-05-02 23:59:59</td>\n",
       "      <td>125.599998</td>\n",
       "      <td>92.281898</td>\n",
       "      <td>116.379997</td>\n",
       "      <td>105.209999</td>\n",
       "      <td>0.0</td>\n",
       "      <td>1.168517e+09</td>\n",
       "    </tr>\n",
       "    <tr>\n",
       "      <th>4</th>\n",
       "      <td>5</td>\n",
       "      <td>Bitcoin</td>\n",
       "      <td>BTC</td>\n",
       "      <td>2013-05-03 23:59:59</td>\n",
       "      <td>108.127998</td>\n",
       "      <td>79.099998</td>\n",
       "      <td>106.250000</td>\n",
       "      <td>97.750000</td>\n",
       "      <td>0.0</td>\n",
       "      <td>1.085995e+09</td>\n",
       "    </tr>\n",
       "  </tbody>\n",
       "</table>\n",
       "</div>"
      ],
      "text/plain": [
       "   SNo     Name Symbol                 Date        High         Low  \\\n",
       "0    1  Bitcoin    BTC  2013-04-29 23:59:59  147.488007  134.000000   \n",
       "1    2  Bitcoin    BTC  2013-04-30 23:59:59  146.929993  134.050003   \n",
       "2    3  Bitcoin    BTC  2013-05-01 23:59:59  139.889999  107.720001   \n",
       "3    4  Bitcoin    BTC  2013-05-02 23:59:59  125.599998   92.281898   \n",
       "4    5  Bitcoin    BTC  2013-05-03 23:59:59  108.127998   79.099998   \n",
       "\n",
       "         Open       Close  Volume     Marketcap  \n",
       "0  134.444000  144.539993     0.0  1.603769e+09  \n",
       "1  144.000000  139.000000     0.0  1.542813e+09  \n",
       "2  139.000000  116.989998     0.0  1.298955e+09  \n",
       "3  116.379997  105.209999     0.0  1.168517e+09  \n",
       "4  106.250000   97.750000     0.0  1.085995e+09  "
      ]
     },
     "execution_count": 3,
     "metadata": {},
     "output_type": "execute_result"
    }
   ],
   "source": [
    "pd.set_option('display.max_columns', None)\n",
    "bitcoin.head()"
   ]
  },
  {
   "cell_type": "code",
   "execution_count": 4,
   "id": "a6c39944",
   "metadata": {
    "execution": {
     "iopub.execute_input": "2021-12-19T18:59:13.428965Z",
     "iopub.status.busy": "2021-12-19T18:59:13.427884Z",
     "iopub.status.idle": "2021-12-19T18:59:13.432361Z",
     "shell.execute_reply": "2021-12-19T18:59:13.432886Z",
     "shell.execute_reply.started": "2021-12-19T18:33:14.310658Z"
    },
    "papermill": {
     "duration": 0.06933,
     "end_time": "2021-12-19T18:59:13.433070",
     "exception": false,
     "start_time": "2021-12-19T18:59:13.363740",
     "status": "completed"
    },
    "tags": []
   },
   "outputs": [
    {
     "data": {
      "text/plain": [
       "(2991, 10)"
      ]
     },
     "execution_count": 4,
     "metadata": {},
     "output_type": "execute_result"
    }
   ],
   "source": [
    "bitcoin.shape"
   ]
  },
  {
   "cell_type": "code",
   "execution_count": 5,
   "id": "cd4cb979",
   "metadata": {
    "execution": {
     "iopub.execute_input": "2021-12-19T18:59:13.557388Z",
     "iopub.status.busy": "2021-12-19T18:59:13.556429Z",
     "iopub.status.idle": "2021-12-19T18:59:13.568226Z",
     "shell.execute_reply": "2021-12-19T18:59:13.568868Z",
     "shell.execute_reply.started": "2021-12-19T18:33:14.318297Z"
    },
    "papermill": {
     "duration": 0.074599,
     "end_time": "2021-12-19T18:59:13.569038",
     "exception": false,
     "start_time": "2021-12-19T18:59:13.494439",
     "status": "completed"
    },
    "tags": []
   },
   "outputs": [
    {
     "data": {
      "text/plain": [
       "array(['Bitcoin'], dtype=object)"
      ]
     },
     "execution_count": 5,
     "metadata": {},
     "output_type": "execute_result"
    }
   ],
   "source": [
    "bitcoin.Name.unique()"
   ]
  },
  {
   "cell_type": "code",
   "execution_count": 6,
   "id": "f192a879",
   "metadata": {
    "execution": {
     "iopub.execute_input": "2021-12-19T18:59:13.692018Z",
     "iopub.status.busy": "2021-12-19T18:59:13.691272Z",
     "iopub.status.idle": "2021-12-19T18:59:13.694822Z",
     "shell.execute_reply": "2021-12-19T18:59:13.695398Z",
     "shell.execute_reply.started": "2021-12-19T18:33:14.337541Z"
    },
    "papermill": {
     "duration": 0.06767,
     "end_time": "2021-12-19T18:59:13.695585",
     "exception": false,
     "start_time": "2021-12-19T18:59:13.627915",
     "status": "completed"
    },
    "tags": []
   },
   "outputs": [
    {
     "data": {
      "text/plain": [
       "array(['BTC'], dtype=object)"
      ]
     },
     "execution_count": 6,
     "metadata": {},
     "output_type": "execute_result"
    }
   ],
   "source": [
    "bitcoin.Symbol.unique()"
   ]
  },
  {
   "cell_type": "code",
   "execution_count": 7,
   "id": "06ae7a87",
   "metadata": {
    "execution": {
     "iopub.execute_input": "2021-12-19T18:59:13.823433Z",
     "iopub.status.busy": "2021-12-19T18:59:13.822729Z",
     "iopub.status.idle": "2021-12-19T18:59:13.828508Z",
     "shell.execute_reply": "2021-12-19T18:59:13.827792Z",
     "shell.execute_reply.started": "2021-12-19T18:33:14.346241Z"
    },
    "papermill": {
     "duration": 0.07359,
     "end_time": "2021-12-19T18:59:13.828658",
     "exception": false,
     "start_time": "2021-12-19T18:59:13.755068",
     "status": "completed"
    },
    "tags": []
   },
   "outputs": [],
   "source": [
    "bitcoin.drop([\"Name\"],axis=1, inplace=True)"
   ]
  },
  {
   "cell_type": "code",
   "execution_count": 8,
   "id": "f4b0dcae",
   "metadata": {
    "execution": {
     "iopub.execute_input": "2021-12-19T18:59:13.958284Z",
     "iopub.status.busy": "2021-12-19T18:59:13.957306Z",
     "iopub.status.idle": "2021-12-19T18:59:13.959977Z",
     "shell.execute_reply": "2021-12-19T18:59:13.959320Z",
     "shell.execute_reply.started": "2021-12-19T18:33:14.358809Z"
    },
    "papermill": {
     "duration": 0.069964,
     "end_time": "2021-12-19T18:59:13.960118",
     "exception": false,
     "start_time": "2021-12-19T18:59:13.890154",
     "status": "completed"
    },
    "tags": []
   },
   "outputs": [],
   "source": [
    "bitcoin.drop([\"SNo\"],axis=1, inplace=True)"
   ]
  },
  {
   "cell_type": "code",
   "execution_count": 9,
   "id": "0312ec63",
   "metadata": {
    "execution": {
     "iopub.execute_input": "2021-12-19T18:59:14.090067Z",
     "iopub.status.busy": "2021-12-19T18:59:14.089344Z",
     "iopub.status.idle": "2021-12-19T18:59:14.093675Z",
     "shell.execute_reply": "2021-12-19T18:59:14.094201Z",
     "shell.execute_reply.started": "2021-12-19T18:33:14.370714Z"
    },
    "papermill": {
     "duration": 0.070692,
     "end_time": "2021-12-19T18:59:14.094368",
     "exception": false,
     "start_time": "2021-12-19T18:59:14.023676",
     "status": "completed"
    },
    "tags": []
   },
   "outputs": [],
   "source": [
    "bitcoin.drop([\"Symbol\"],axis=1, inplace=True)"
   ]
  },
  {
   "cell_type": "code",
   "execution_count": 10,
   "id": "da8fa04c",
   "metadata": {
    "execution": {
     "iopub.execute_input": "2021-12-19T18:59:14.226063Z",
     "iopub.status.busy": "2021-12-19T18:59:14.225271Z",
     "iopub.status.idle": "2021-12-19T18:59:14.228340Z",
     "shell.execute_reply": "2021-12-19T18:59:14.228853Z",
     "shell.execute_reply.started": "2021-12-19T18:33:14.383109Z"
    },
    "papermill": {
     "duration": 0.070247,
     "end_time": "2021-12-19T18:59:14.229029",
     "exception": false,
     "start_time": "2021-12-19T18:59:14.158782",
     "status": "completed"
    },
    "tags": []
   },
   "outputs": [
    {
     "data": {
      "text/plain": [
       "Index(['Date', 'High', 'Low', 'Open', 'Close', 'Volume', 'Marketcap'], dtype='object')"
      ]
     },
     "execution_count": 10,
     "metadata": {},
     "output_type": "execute_result"
    }
   ],
   "source": [
    "bitcoin.columns"
   ]
  },
  {
   "cell_type": "code",
   "execution_count": 11,
   "id": "917976c7",
   "metadata": {
    "execution": {
     "iopub.execute_input": "2021-12-19T18:59:14.351960Z",
     "iopub.status.busy": "2021-12-19T18:59:14.351029Z",
     "iopub.status.idle": "2021-12-19T18:59:14.365459Z",
     "shell.execute_reply": "2021-12-19T18:59:14.366055Z",
     "shell.execute_reply.started": "2021-12-19T18:33:14.396157Z"
    },
    "papermill": {
     "duration": 0.077495,
     "end_time": "2021-12-19T18:59:14.366221",
     "exception": false,
     "start_time": "2021-12-19T18:59:14.288726",
     "status": "completed"
    },
    "tags": []
   },
   "outputs": [
    {
     "data": {
      "text/html": [
       "<div>\n",
       "<style scoped>\n",
       "    .dataframe tbody tr th:only-of-type {\n",
       "        vertical-align: middle;\n",
       "    }\n",
       "\n",
       "    .dataframe tbody tr th {\n",
       "        vertical-align: top;\n",
       "    }\n",
       "\n",
       "    .dataframe thead th {\n",
       "        text-align: right;\n",
       "    }\n",
       "</style>\n",
       "<table border=\"1\" class=\"dataframe\">\n",
       "  <thead>\n",
       "    <tr style=\"text-align: right;\">\n",
       "      <th></th>\n",
       "      <th>age</th>\n",
       "      <th>anaemia</th>\n",
       "      <th>creatinine_phosphokinase</th>\n",
       "      <th>diabetes</th>\n",
       "      <th>ejection_fraction</th>\n",
       "      <th>high_blood_pressure</th>\n",
       "      <th>platelets</th>\n",
       "      <th>serum_creatinine</th>\n",
       "      <th>serum_sodium</th>\n",
       "      <th>sex</th>\n",
       "      <th>smoking</th>\n",
       "      <th>time</th>\n",
       "      <th>DEATH_EVENT</th>\n",
       "    </tr>\n",
       "  </thead>\n",
       "  <tbody>\n",
       "    <tr>\n",
       "      <th>0</th>\n",
       "      <td>75.0</td>\n",
       "      <td>0</td>\n",
       "      <td>582</td>\n",
       "      <td>0</td>\n",
       "      <td>20</td>\n",
       "      <td>1</td>\n",
       "      <td>265000.00</td>\n",
       "      <td>1.9</td>\n",
       "      <td>130</td>\n",
       "      <td>1</td>\n",
       "      <td>0</td>\n",
       "      <td>4</td>\n",
       "      <td>1</td>\n",
       "    </tr>\n",
       "    <tr>\n",
       "      <th>1</th>\n",
       "      <td>55.0</td>\n",
       "      <td>0</td>\n",
       "      <td>7861</td>\n",
       "      <td>0</td>\n",
       "      <td>38</td>\n",
       "      <td>0</td>\n",
       "      <td>263358.03</td>\n",
       "      <td>1.1</td>\n",
       "      <td>136</td>\n",
       "      <td>1</td>\n",
       "      <td>0</td>\n",
       "      <td>6</td>\n",
       "      <td>1</td>\n",
       "    </tr>\n",
       "    <tr>\n",
       "      <th>2</th>\n",
       "      <td>65.0</td>\n",
       "      <td>0</td>\n",
       "      <td>146</td>\n",
       "      <td>0</td>\n",
       "      <td>20</td>\n",
       "      <td>0</td>\n",
       "      <td>162000.00</td>\n",
       "      <td>1.3</td>\n",
       "      <td>129</td>\n",
       "      <td>1</td>\n",
       "      <td>1</td>\n",
       "      <td>7</td>\n",
       "      <td>1</td>\n",
       "    </tr>\n",
       "    <tr>\n",
       "      <th>3</th>\n",
       "      <td>50.0</td>\n",
       "      <td>1</td>\n",
       "      <td>111</td>\n",
       "      <td>0</td>\n",
       "      <td>20</td>\n",
       "      <td>0</td>\n",
       "      <td>210000.00</td>\n",
       "      <td>1.9</td>\n",
       "      <td>137</td>\n",
       "      <td>1</td>\n",
       "      <td>0</td>\n",
       "      <td>7</td>\n",
       "      <td>1</td>\n",
       "    </tr>\n",
       "    <tr>\n",
       "      <th>4</th>\n",
       "      <td>65.0</td>\n",
       "      <td>1</td>\n",
       "      <td>160</td>\n",
       "      <td>1</td>\n",
       "      <td>20</td>\n",
       "      <td>0</td>\n",
       "      <td>327000.00</td>\n",
       "      <td>2.7</td>\n",
       "      <td>116</td>\n",
       "      <td>0</td>\n",
       "      <td>0</td>\n",
       "      <td>8</td>\n",
       "      <td>1</td>\n",
       "    </tr>\n",
       "  </tbody>\n",
       "</table>\n",
       "</div>"
      ],
      "text/plain": [
       "    age  anaemia  creatinine_phosphokinase  diabetes  ejection_fraction  \\\n",
       "0  75.0        0                       582         0                 20   \n",
       "1  55.0        0                      7861         0                 38   \n",
       "2  65.0        0                       146         0                 20   \n",
       "3  50.0        1                       111         0                 20   \n",
       "4  65.0        1                       160         1                 20   \n",
       "\n",
       "   high_blood_pressure  platelets  serum_creatinine  serum_sodium  sex  \\\n",
       "0                    1  265000.00               1.9           130    1   \n",
       "1                    0  263358.03               1.1           136    1   \n",
       "2                    0  162000.00               1.3           129    1   \n",
       "3                    0  210000.00               1.9           137    1   \n",
       "4                    0  327000.00               2.7           116    0   \n",
       "\n",
       "   smoking  time  DEATH_EVENT  \n",
       "0        0     4            1  \n",
       "1        0     6            1  \n",
       "2        1     7            1  \n",
       "3        0     7            1  \n",
       "4        0     8            1  "
      ]
     },
     "execution_count": 11,
     "metadata": {},
     "output_type": "execute_result"
    }
   ],
   "source": [
    "HF.head()"
   ]
  },
  {
   "cell_type": "code",
   "execution_count": 12,
   "id": "a8bbbf21",
   "metadata": {
    "execution": {
     "iopub.execute_input": "2021-12-19T18:59:14.490675Z",
     "iopub.status.busy": "2021-12-19T18:59:14.489712Z",
     "iopub.status.idle": "2021-12-19T18:59:14.495087Z",
     "shell.execute_reply": "2021-12-19T18:59:14.495695Z",
     "shell.execute_reply.started": "2021-12-19T18:33:14.419142Z"
    },
    "papermill": {
     "duration": 0.069289,
     "end_time": "2021-12-19T18:59:14.495859",
     "exception": false,
     "start_time": "2021-12-19T18:59:14.426570",
     "status": "completed"
    },
    "tags": []
   },
   "outputs": [
    {
     "data": {
      "text/plain": [
       "Index(['age', 'anaemia', 'creatinine_phosphokinase', 'diabetes',\n",
       "       'ejection_fraction', 'high_blood_pressure', 'platelets',\n",
       "       'serum_creatinine', 'serum_sodium', 'sex', 'smoking', 'time',\n",
       "       'DEATH_EVENT'],\n",
       "      dtype='object')"
      ]
     },
     "execution_count": 12,
     "metadata": {},
     "output_type": "execute_result"
    }
   ],
   "source": [
    "HF.columns"
   ]
  },
  {
   "cell_type": "code",
   "execution_count": 13,
   "id": "aba6bd3d",
   "metadata": {
    "execution": {
     "iopub.execute_input": "2021-12-19T18:59:14.620373Z",
     "iopub.status.busy": "2021-12-19T18:59:14.619467Z",
     "iopub.status.idle": "2021-12-19T18:59:14.635804Z",
     "shell.execute_reply": "2021-12-19T18:59:14.636341Z",
     "shell.execute_reply.started": "2021-12-19T18:33:14.43369Z"
    },
    "papermill": {
     "duration": 0.080176,
     "end_time": "2021-12-19T18:59:14.636543",
     "exception": false,
     "start_time": "2021-12-19T18:59:14.556367",
     "status": "completed"
    },
    "tags": []
   },
   "outputs": [
    {
     "name": "stdout",
     "output_type": "stream",
     "text": [
      "<class 'pandas.core.frame.DataFrame'>\n",
      "RangeIndex: 299 entries, 0 to 298\n",
      "Data columns (total 13 columns):\n",
      " #   Column                    Non-Null Count  Dtype  \n",
      "---  ------                    --------------  -----  \n",
      " 0   age                       299 non-null    float64\n",
      " 1   anaemia                   299 non-null    int64  \n",
      " 2   creatinine_phosphokinase  299 non-null    int64  \n",
      " 3   diabetes                  299 non-null    int64  \n",
      " 4   ejection_fraction         299 non-null    int64  \n",
      " 5   high_blood_pressure       299 non-null    int64  \n",
      " 6   platelets                 299 non-null    float64\n",
      " 7   serum_creatinine          299 non-null    float64\n",
      " 8   serum_sodium              299 non-null    int64  \n",
      " 9   sex                       299 non-null    int64  \n",
      " 10  smoking                   299 non-null    int64  \n",
      " 11  time                      299 non-null    int64  \n",
      " 12  DEATH_EVENT               299 non-null    int64  \n",
      "dtypes: float64(3), int64(10)\n",
      "memory usage: 30.5 KB\n"
     ]
    }
   ],
   "source": [
    "HF.info()"
   ]
  },
  {
   "cell_type": "code",
   "execution_count": 14,
   "id": "4fc840e9",
   "metadata": {
    "execution": {
     "iopub.execute_input": "2021-12-19T18:59:14.771838Z",
     "iopub.status.busy": "2021-12-19T18:59:14.770951Z",
     "iopub.status.idle": "2021-12-19T18:59:14.774277Z",
     "shell.execute_reply": "2021-12-19T18:59:14.774924Z",
     "shell.execute_reply.started": "2021-12-19T18:33:14.456929Z"
    },
    "papermill": {
     "duration": 0.077216,
     "end_time": "2021-12-19T18:59:14.775096",
     "exception": false,
     "start_time": "2021-12-19T18:59:14.697880",
     "status": "completed"
    },
    "tags": []
   },
   "outputs": [
    {
     "name": "stdout",
     "output_type": "stream",
     "text": [
      "<class 'pandas.core.frame.DataFrame'>\n",
      "RangeIndex: 2991 entries, 0 to 2990\n",
      "Data columns (total 7 columns):\n",
      " #   Column     Non-Null Count  Dtype  \n",
      "---  ------     --------------  -----  \n",
      " 0   Date       2991 non-null   object \n",
      " 1   High       2991 non-null   float64\n",
      " 2   Low        2991 non-null   float64\n",
      " 3   Open       2991 non-null   float64\n",
      " 4   Close      2991 non-null   float64\n",
      " 5   Volume     2991 non-null   float64\n",
      " 6   Marketcap  2991 non-null   float64\n",
      "dtypes: float64(6), object(1)\n",
      "memory usage: 163.7+ KB\n"
     ]
    }
   ],
   "source": [
    "bitcoin.info()"
   ]
  },
  {
   "cell_type": "code",
   "execution_count": 15,
   "id": "66b1973f",
   "metadata": {
    "execution": {
     "iopub.execute_input": "2021-12-19T18:59:14.902714Z",
     "iopub.status.busy": "2021-12-19T18:59:14.901679Z",
     "iopub.status.idle": "2021-12-19T18:59:14.929431Z",
     "shell.execute_reply": "2021-12-19T18:59:14.929902Z",
     "shell.execute_reply.started": "2021-12-19T18:33:14.476163Z"
    },
    "papermill": {
     "duration": 0.093112,
     "end_time": "2021-12-19T18:59:14.930084",
     "exception": false,
     "start_time": "2021-12-19T18:59:14.836972",
     "status": "completed"
    },
    "tags": []
   },
   "outputs": [
    {
     "data": {
      "text/html": [
       "<div>\n",
       "<style scoped>\n",
       "    .dataframe tbody tr th:only-of-type {\n",
       "        vertical-align: middle;\n",
       "    }\n",
       "\n",
       "    .dataframe tbody tr th {\n",
       "        vertical-align: top;\n",
       "    }\n",
       "\n",
       "    .dataframe thead th {\n",
       "        text-align: right;\n",
       "    }\n",
       "</style>\n",
       "<table border=\"1\" class=\"dataframe\">\n",
       "  <thead>\n",
       "    <tr style=\"text-align: right;\">\n",
       "      <th></th>\n",
       "      <th>High</th>\n",
       "      <th>Low</th>\n",
       "      <th>Open</th>\n",
       "      <th>Close</th>\n",
       "      <th>Volume</th>\n",
       "      <th>Marketcap</th>\n",
       "    </tr>\n",
       "  </thead>\n",
       "  <tbody>\n",
       "    <tr>\n",
       "      <th>count</th>\n",
       "      <td>2991.000000</td>\n",
       "      <td>2991.000000</td>\n",
       "      <td>2991.000000</td>\n",
       "      <td>2991.000000</td>\n",
       "      <td>2.991000e+03</td>\n",
       "      <td>2.991000e+03</td>\n",
       "    </tr>\n",
       "    <tr>\n",
       "      <th>mean</th>\n",
       "      <td>6893.326038</td>\n",
       "      <td>6486.009539</td>\n",
       "      <td>6700.146240</td>\n",
       "      <td>6711.290443</td>\n",
       "      <td>1.090633e+10</td>\n",
       "      <td>1.208761e+11</td>\n",
       "    </tr>\n",
       "    <tr>\n",
       "      <th>std</th>\n",
       "      <td>11642.832456</td>\n",
       "      <td>10869.032130</td>\n",
       "      <td>11288.043736</td>\n",
       "      <td>11298.141921</td>\n",
       "      <td>1.888895e+10</td>\n",
       "      <td>2.109438e+11</td>\n",
       "    </tr>\n",
       "    <tr>\n",
       "      <th>min</th>\n",
       "      <td>74.561096</td>\n",
       "      <td>65.526001</td>\n",
       "      <td>68.504997</td>\n",
       "      <td>68.431000</td>\n",
       "      <td>0.000000e+00</td>\n",
       "      <td>7.784112e+08</td>\n",
       "    </tr>\n",
       "    <tr>\n",
       "      <th>25%</th>\n",
       "      <td>436.179001</td>\n",
       "      <td>422.879486</td>\n",
       "      <td>430.445496</td>\n",
       "      <td>430.569489</td>\n",
       "      <td>3.036725e+07</td>\n",
       "      <td>6.305579e+09</td>\n",
       "    </tr>\n",
       "    <tr>\n",
       "      <th>50%</th>\n",
       "      <td>2387.610107</td>\n",
       "      <td>2178.500000</td>\n",
       "      <td>2269.889893</td>\n",
       "      <td>2286.409912</td>\n",
       "      <td>9.460360e+08</td>\n",
       "      <td>3.741503e+10</td>\n",
       "    </tr>\n",
       "    <tr>\n",
       "      <th>75%</th>\n",
       "      <td>8733.926948</td>\n",
       "      <td>8289.800459</td>\n",
       "      <td>8569.656494</td>\n",
       "      <td>8576.238715</td>\n",
       "      <td>1.592015e+10</td>\n",
       "      <td>1.499957e+11</td>\n",
       "    </tr>\n",
       "    <tr>\n",
       "      <th>max</th>\n",
       "      <td>64863.098908</td>\n",
       "      <td>62208.964366</td>\n",
       "      <td>63523.754869</td>\n",
       "      <td>63503.457930</td>\n",
       "      <td>3.509679e+11</td>\n",
       "      <td>1.186364e+12</td>\n",
       "    </tr>\n",
       "  </tbody>\n",
       "</table>\n",
       "</div>"
      ],
      "text/plain": [
       "               High           Low          Open         Close        Volume  \\\n",
       "count   2991.000000   2991.000000   2991.000000   2991.000000  2.991000e+03   \n",
       "mean    6893.326038   6486.009539   6700.146240   6711.290443  1.090633e+10   \n",
       "std    11642.832456  10869.032130  11288.043736  11298.141921  1.888895e+10   \n",
       "min       74.561096     65.526001     68.504997     68.431000  0.000000e+00   \n",
       "25%      436.179001    422.879486    430.445496    430.569489  3.036725e+07   \n",
       "50%     2387.610107   2178.500000   2269.889893   2286.409912  9.460360e+08   \n",
       "75%     8733.926948   8289.800459   8569.656494   8576.238715  1.592015e+10   \n",
       "max    64863.098908  62208.964366  63523.754869  63503.457930  3.509679e+11   \n",
       "\n",
       "          Marketcap  \n",
       "count  2.991000e+03  \n",
       "mean   1.208761e+11  \n",
       "std    2.109438e+11  \n",
       "min    7.784112e+08  \n",
       "25%    6.305579e+09  \n",
       "50%    3.741503e+10  \n",
       "75%    1.499957e+11  \n",
       "max    1.186364e+12  "
      ]
     },
     "execution_count": 15,
     "metadata": {},
     "output_type": "execute_result"
    }
   ],
   "source": [
    "bitcoin.describe()"
   ]
  },
  {
   "cell_type": "code",
   "execution_count": 16,
   "id": "a4e8a4cf",
   "metadata": {
    "execution": {
     "iopub.execute_input": "2021-12-19T18:59:15.061857Z",
     "iopub.status.busy": "2021-12-19T18:59:15.060876Z",
     "iopub.status.idle": "2021-12-19T18:59:15.076887Z",
     "shell.execute_reply": "2021-12-19T18:59:15.077365Z",
     "shell.execute_reply.started": "2021-12-19T18:33:14.504592Z"
    },
    "papermill": {
     "duration": 0.082414,
     "end_time": "2021-12-19T18:59:15.077565",
     "exception": false,
     "start_time": "2021-12-19T18:59:14.995151",
     "status": "completed"
    },
    "tags": []
   },
   "outputs": [],
   "source": [
    "import datetime as dt\n",
    "bitcoin[\"Date\"]=pd.to_datetime(bitcoin[\"Date\"])\n",
    "bitcoin['Date_year'] = bitcoin[\"Date\"].dt.year\n",
    "bitcoin['Date_month'] = bitcoin[\"Date\"].dt.month\n",
    "bitcoin['Date_day'] = bitcoin[\"Date\"].dt.day\n",
    "bitcoin['Date_hour'] = bitcoin[\"Date\"].dt.hour\n",
    "bitcoin['Date_minute'] = bitcoin[\"Date\"].dt.minute\n",
    "bitcoin['Date_seconde'] = bitcoin[\"Date\"].dt.second\n"
   ]
  },
  {
   "cell_type": "code",
   "execution_count": 17,
   "id": "80fe4cce",
   "metadata": {
    "execution": {
     "iopub.execute_input": "2021-12-19T18:59:15.205644Z",
     "iopub.status.busy": "2021-12-19T18:59:15.204993Z",
     "iopub.status.idle": "2021-12-19T18:59:15.210166Z",
     "shell.execute_reply": "2021-12-19T18:59:15.210763Z",
     "shell.execute_reply.started": "2021-12-19T18:33:14.527149Z"
    },
    "papermill": {
     "duration": 0.070917,
     "end_time": "2021-12-19T18:59:15.210928",
     "exception": false,
     "start_time": "2021-12-19T18:59:15.140011",
     "status": "completed"
    },
    "tags": []
   },
   "outputs": [],
   "source": [
    "bitcoin.drop([\"Date\"], axis=1, inplace=True)"
   ]
  },
  {
   "cell_type": "code",
   "execution_count": 18,
   "id": "feef7655",
   "metadata": {
    "execution": {
     "iopub.execute_input": "2021-12-19T18:59:15.351703Z",
     "iopub.status.busy": "2021-12-19T18:59:15.338978Z",
     "iopub.status.idle": "2021-12-19T18:59:15.354112Z",
     "shell.execute_reply": "2021-12-19T18:59:15.354702Z",
     "shell.execute_reply.started": "2021-12-19T18:33:14.534826Z"
    },
    "papermill": {
     "duration": 0.082188,
     "end_time": "2021-12-19T18:59:15.354877",
     "exception": false,
     "start_time": "2021-12-19T18:59:15.272689",
     "status": "completed"
    },
    "tags": []
   },
   "outputs": [
    {
     "data": {
      "text/html": [
       "<div>\n",
       "<style scoped>\n",
       "    .dataframe tbody tr th:only-of-type {\n",
       "        vertical-align: middle;\n",
       "    }\n",
       "\n",
       "    .dataframe tbody tr th {\n",
       "        vertical-align: top;\n",
       "    }\n",
       "\n",
       "    .dataframe thead th {\n",
       "        text-align: right;\n",
       "    }\n",
       "</style>\n",
       "<table border=\"1\" class=\"dataframe\">\n",
       "  <thead>\n",
       "    <tr style=\"text-align: right;\">\n",
       "      <th></th>\n",
       "      <th>High</th>\n",
       "      <th>Low</th>\n",
       "      <th>Open</th>\n",
       "      <th>Close</th>\n",
       "      <th>Volume</th>\n",
       "      <th>Marketcap</th>\n",
       "      <th>Date_year</th>\n",
       "      <th>Date_month</th>\n",
       "      <th>Date_day</th>\n",
       "      <th>Date_hour</th>\n",
       "      <th>Date_minute</th>\n",
       "      <th>Date_seconde</th>\n",
       "    </tr>\n",
       "  </thead>\n",
       "  <tbody>\n",
       "    <tr>\n",
       "      <th>0</th>\n",
       "      <td>147.488007</td>\n",
       "      <td>134.000000</td>\n",
       "      <td>134.444000</td>\n",
       "      <td>144.539993</td>\n",
       "      <td>0.0</td>\n",
       "      <td>1.603769e+09</td>\n",
       "      <td>2013</td>\n",
       "      <td>4</td>\n",
       "      <td>29</td>\n",
       "      <td>23</td>\n",
       "      <td>59</td>\n",
       "      <td>59</td>\n",
       "    </tr>\n",
       "    <tr>\n",
       "      <th>1</th>\n",
       "      <td>146.929993</td>\n",
       "      <td>134.050003</td>\n",
       "      <td>144.000000</td>\n",
       "      <td>139.000000</td>\n",
       "      <td>0.0</td>\n",
       "      <td>1.542813e+09</td>\n",
       "      <td>2013</td>\n",
       "      <td>4</td>\n",
       "      <td>30</td>\n",
       "      <td>23</td>\n",
       "      <td>59</td>\n",
       "      <td>59</td>\n",
       "    </tr>\n",
       "    <tr>\n",
       "      <th>2</th>\n",
       "      <td>139.889999</td>\n",
       "      <td>107.720001</td>\n",
       "      <td>139.000000</td>\n",
       "      <td>116.989998</td>\n",
       "      <td>0.0</td>\n",
       "      <td>1.298955e+09</td>\n",
       "      <td>2013</td>\n",
       "      <td>5</td>\n",
       "      <td>1</td>\n",
       "      <td>23</td>\n",
       "      <td>59</td>\n",
       "      <td>59</td>\n",
       "    </tr>\n",
       "    <tr>\n",
       "      <th>3</th>\n",
       "      <td>125.599998</td>\n",
       "      <td>92.281898</td>\n",
       "      <td>116.379997</td>\n",
       "      <td>105.209999</td>\n",
       "      <td>0.0</td>\n",
       "      <td>1.168517e+09</td>\n",
       "      <td>2013</td>\n",
       "      <td>5</td>\n",
       "      <td>2</td>\n",
       "      <td>23</td>\n",
       "      <td>59</td>\n",
       "      <td>59</td>\n",
       "    </tr>\n",
       "    <tr>\n",
       "      <th>4</th>\n",
       "      <td>108.127998</td>\n",
       "      <td>79.099998</td>\n",
       "      <td>106.250000</td>\n",
       "      <td>97.750000</td>\n",
       "      <td>0.0</td>\n",
       "      <td>1.085995e+09</td>\n",
       "      <td>2013</td>\n",
       "      <td>5</td>\n",
       "      <td>3</td>\n",
       "      <td>23</td>\n",
       "      <td>59</td>\n",
       "      <td>59</td>\n",
       "    </tr>\n",
       "  </tbody>\n",
       "</table>\n",
       "</div>"
      ],
      "text/plain": [
       "         High         Low        Open       Close  Volume     Marketcap  \\\n",
       "0  147.488007  134.000000  134.444000  144.539993     0.0  1.603769e+09   \n",
       "1  146.929993  134.050003  144.000000  139.000000     0.0  1.542813e+09   \n",
       "2  139.889999  107.720001  139.000000  116.989998     0.0  1.298955e+09   \n",
       "3  125.599998   92.281898  116.379997  105.209999     0.0  1.168517e+09   \n",
       "4  108.127998   79.099998  106.250000   97.750000     0.0  1.085995e+09   \n",
       "\n",
       "   Date_year  Date_month  Date_day  Date_hour  Date_minute  Date_seconde  \n",
       "0       2013           4        29         23           59            59  \n",
       "1       2013           4        30         23           59            59  \n",
       "2       2013           5         1         23           59            59  \n",
       "3       2013           5         2         23           59            59  \n",
       "4       2013           5         3         23           59            59  "
      ]
     },
     "execution_count": 18,
     "metadata": {},
     "output_type": "execute_result"
    }
   ],
   "source": [
    "bitcoin.head()"
   ]
  },
  {
   "cell_type": "code",
   "execution_count": 19,
   "id": "2fab63b6",
   "metadata": {
    "execution": {
     "iopub.execute_input": "2021-12-19T18:59:15.485063Z",
     "iopub.status.busy": "2021-12-19T18:59:15.484304Z",
     "iopub.status.idle": "2021-12-19T18:59:15.499113Z",
     "shell.execute_reply": "2021-12-19T18:59:15.499763Z",
     "shell.execute_reply.started": "2021-12-19T18:33:14.557951Z"
    },
    "papermill": {
     "duration": 0.082682,
     "end_time": "2021-12-19T18:59:15.499950",
     "exception": false,
     "start_time": "2021-12-19T18:59:15.417268",
     "status": "completed"
    },
    "tags": []
   },
   "outputs": [
    {
     "data": {
      "text/html": [
       "<div>\n",
       "<style scoped>\n",
       "    .dataframe tbody tr th:only-of-type {\n",
       "        vertical-align: middle;\n",
       "    }\n",
       "\n",
       "    .dataframe tbody tr th {\n",
       "        vertical-align: top;\n",
       "    }\n",
       "\n",
       "    .dataframe thead th {\n",
       "        text-align: right;\n",
       "    }\n",
       "</style>\n",
       "<table border=\"1\" class=\"dataframe\">\n",
       "  <thead>\n",
       "    <tr style=\"text-align: right;\">\n",
       "      <th></th>\n",
       "      <th>High</th>\n",
       "      <th>Low</th>\n",
       "      <th>Open</th>\n",
       "      <th>Close</th>\n",
       "      <th>Volume</th>\n",
       "      <th>Date_year</th>\n",
       "      <th>Date_month</th>\n",
       "      <th>Date_day</th>\n",
       "      <th>Date_hour</th>\n",
       "      <th>Date_minute</th>\n",
       "      <th>Date_seconde</th>\n",
       "    </tr>\n",
       "  </thead>\n",
       "  <tbody>\n",
       "    <tr>\n",
       "      <th>0</th>\n",
       "      <td>147.488007</td>\n",
       "      <td>134.000000</td>\n",
       "      <td>134.444000</td>\n",
       "      <td>144.539993</td>\n",
       "      <td>0.0</td>\n",
       "      <td>2013</td>\n",
       "      <td>4</td>\n",
       "      <td>29</td>\n",
       "      <td>23</td>\n",
       "      <td>59</td>\n",
       "      <td>59</td>\n",
       "    </tr>\n",
       "    <tr>\n",
       "      <th>1</th>\n",
       "      <td>146.929993</td>\n",
       "      <td>134.050003</td>\n",
       "      <td>144.000000</td>\n",
       "      <td>139.000000</td>\n",
       "      <td>0.0</td>\n",
       "      <td>2013</td>\n",
       "      <td>4</td>\n",
       "      <td>30</td>\n",
       "      <td>23</td>\n",
       "      <td>59</td>\n",
       "      <td>59</td>\n",
       "    </tr>\n",
       "    <tr>\n",
       "      <th>2</th>\n",
       "      <td>139.889999</td>\n",
       "      <td>107.720001</td>\n",
       "      <td>139.000000</td>\n",
       "      <td>116.989998</td>\n",
       "      <td>0.0</td>\n",
       "      <td>2013</td>\n",
       "      <td>5</td>\n",
       "      <td>1</td>\n",
       "      <td>23</td>\n",
       "      <td>59</td>\n",
       "      <td>59</td>\n",
       "    </tr>\n",
       "    <tr>\n",
       "      <th>3</th>\n",
       "      <td>125.599998</td>\n",
       "      <td>92.281898</td>\n",
       "      <td>116.379997</td>\n",
       "      <td>105.209999</td>\n",
       "      <td>0.0</td>\n",
       "      <td>2013</td>\n",
       "      <td>5</td>\n",
       "      <td>2</td>\n",
       "      <td>23</td>\n",
       "      <td>59</td>\n",
       "      <td>59</td>\n",
       "    </tr>\n",
       "    <tr>\n",
       "      <th>4</th>\n",
       "      <td>108.127998</td>\n",
       "      <td>79.099998</td>\n",
       "      <td>106.250000</td>\n",
       "      <td>97.750000</td>\n",
       "      <td>0.0</td>\n",
       "      <td>2013</td>\n",
       "      <td>5</td>\n",
       "      <td>3</td>\n",
       "      <td>23</td>\n",
       "      <td>59</td>\n",
       "      <td>59</td>\n",
       "    </tr>\n",
       "  </tbody>\n",
       "</table>\n",
       "</div>"
      ],
      "text/plain": [
       "         High         Low        Open       Close  Volume  Date_year  \\\n",
       "0  147.488007  134.000000  134.444000  144.539993     0.0       2013   \n",
       "1  146.929993  134.050003  144.000000  139.000000     0.0       2013   \n",
       "2  139.889999  107.720001  139.000000  116.989998     0.0       2013   \n",
       "3  125.599998   92.281898  116.379997  105.209999     0.0       2013   \n",
       "4  108.127998   79.099998  106.250000   97.750000     0.0       2013   \n",
       "\n",
       "   Date_month  Date_day  Date_hour  Date_minute  Date_seconde  \n",
       "0           4        29         23           59            59  \n",
       "1           4        30         23           59            59  \n",
       "2           5         1         23           59            59  \n",
       "3           5         2         23           59            59  \n",
       "4           5         3         23           59            59  "
      ]
     },
     "execution_count": 19,
     "metadata": {},
     "output_type": "execute_result"
    }
   ],
   "source": [
    "X=bitcoin.drop([\"Marketcap\"], axis=1)\n",
    "Y=bitcoin[\"Marketcap\"]\n",
    "X.head()"
   ]
  },
  {
   "cell_type": "code",
   "execution_count": 20,
   "id": "81b66131",
   "metadata": {
    "execution": {
     "iopub.execute_input": "2021-12-19T18:59:15.630331Z",
     "iopub.status.busy": "2021-12-19T18:59:15.629662Z",
     "iopub.status.idle": "2021-12-19T18:59:15.884690Z",
     "shell.execute_reply": "2021-12-19T18:59:15.884001Z",
     "shell.execute_reply.started": "2021-12-19T18:33:14.577183Z"
    },
    "papermill": {
     "duration": 0.320768,
     "end_time": "2021-12-19T18:59:15.884840",
     "exception": false,
     "start_time": "2021-12-19T18:59:15.564072",
     "status": "completed"
    },
    "tags": []
   },
   "outputs": [],
   "source": [
    "from sklearn.linear_model import LinearRegression\n",
    "LR=LinearRegression()\n",
    "\n"
   ]
  },
  {
   "cell_type": "code",
   "execution_count": 21,
   "id": "bbe57a8d",
   "metadata": {
    "execution": {
     "iopub.execute_input": "2021-12-19T18:59:16.021057Z",
     "iopub.status.busy": "2021-12-19T18:59:16.020121Z",
     "iopub.status.idle": "2021-12-19T18:59:16.023135Z",
     "shell.execute_reply": "2021-12-19T18:59:16.022635Z",
     "shell.execute_reply.started": "2021-12-19T18:33:14.841454Z"
    },
    "papermill": {
     "duration": 0.075067,
     "end_time": "2021-12-19T18:59:16.023274",
     "exception": false,
     "start_time": "2021-12-19T18:59:15.948207",
     "status": "completed"
    },
    "tags": []
   },
   "outputs": [],
   "source": [
    "from sklearn.model_selection import train_test_split\n",
    "xtrain,xtest,ytrain,ytest=train_test_split(X,Y,test_size=0.2)"
   ]
  },
  {
   "cell_type": "code",
   "execution_count": 22,
   "id": "6b6bb724",
   "metadata": {
    "execution": {
     "iopub.execute_input": "2021-12-19T18:59:16.157569Z",
     "iopub.status.busy": "2021-12-19T18:59:16.156426Z",
     "iopub.status.idle": "2021-12-19T18:59:16.180745Z",
     "shell.execute_reply": "2021-12-19T18:59:16.181269Z",
     "shell.execute_reply.started": "2021-12-19T18:33:14.852444Z"
    },
    "papermill": {
     "duration": 0.094122,
     "end_time": "2021-12-19T18:59:16.181469",
     "exception": false,
     "start_time": "2021-12-19T18:59:16.087347",
     "status": "completed"
    },
    "tags": []
   },
   "outputs": [
    {
     "data": {
      "text/plain": [
       "LinearRegression()"
      ]
     },
     "execution_count": 22,
     "metadata": {},
     "output_type": "execute_result"
    }
   ],
   "source": [
    "LR.fit(xtrain,ytrain)"
   ]
  },
  {
   "cell_type": "code",
   "execution_count": 23,
   "id": "8380fa13",
   "metadata": {
    "execution": {
     "iopub.execute_input": "2021-12-19T18:59:16.313910Z",
     "iopub.status.busy": "2021-12-19T18:59:16.312941Z",
     "iopub.status.idle": "2021-12-19T18:59:16.318856Z",
     "shell.execute_reply": "2021-12-19T18:59:16.319316Z",
     "shell.execute_reply.started": "2021-12-19T18:33:14.888179Z"
    },
    "papermill": {
     "duration": 0.0727,
     "end_time": "2021-12-19T18:59:16.319535",
     "exception": false,
     "start_time": "2021-12-19T18:59:16.246835",
     "status": "completed"
    },
    "tags": []
   },
   "outputs": [],
   "source": [
    "ypred=LR.predict(xtest)"
   ]
  },
  {
   "cell_type": "code",
   "execution_count": 24,
   "id": "d08c1d61",
   "metadata": {
    "execution": {
     "iopub.execute_input": "2021-12-19T18:59:16.451112Z",
     "iopub.status.busy": "2021-12-19T18:59:16.450165Z",
     "iopub.status.idle": "2021-12-19T18:59:16.464145Z",
     "shell.execute_reply": "2021-12-19T18:59:16.463607Z",
     "shell.execute_reply.started": "2021-12-19T18:33:14.897927Z"
    },
    "papermill": {
     "duration": 0.081575,
     "end_time": "2021-12-19T18:59:16.464280",
     "exception": false,
     "start_time": "2021-12-19T18:59:16.382705",
     "status": "completed"
    },
    "tags": []
   },
   "outputs": [
    {
     "data": {
      "text/plain": [
       "array([3.04339045e+11, 1.96749196e+11, 1.27657690e+11, 8.55502648e+09,\n",
       "       1.84586852e+11, 9.97291083e+10, 6.97108166e+11, 8.69927405e+08,\n",
       "       5.99239388e+09, 6.23249133e+11, 9.30426026e+10, 1.09287619e+11,\n",
       "       7.04736035e+11, 1.46532434e+11, 6.42830250e+09, 5.65944503e+10,\n",
       "       6.43196166e+09, 9.10024779e+08, 1.78716934e+11, 1.85433527e+11,\n",
       "       4.56529816e+08, 1.75769900e+11, 9.53184252e+09, 5.99020974e+11,\n",
       "       1.73939451e+09, 3.95599571e+09, 2.36945727e+11, 5.44466811e+08,\n",
       "       2.52771360e+11, 2.09627314e+11, 5.91585131e+08, 3.35666879e+11,\n",
       "       2.57005703e+11, 9.20060288e+09, 1.60466381e+09, 9.47162741e+09,\n",
       "       6.54190164e+10, 4.42176021e+08, 1.68333101e+11, 3.59574734e+09,\n",
       "       1.28977425e+11, 7.27874469e+11, 6.24203241e+08, 1.06943058e+12,\n",
       "       8.44508714e+09, 2.94924890e+09, 9.24785555e+10, 4.12086363e+10,\n",
       "       1.60177927e+11, 3.93199239e+09, 1.48163205e+11, 3.22873789e+09,\n",
       "       1.48130734e+11, 1.33726407e+11, 7.36950092e+08, 1.63061721e+10,\n",
       "       1.27109040e+11, 1.22130682e+11, 7.68718032e+09, 1.12729482e+09,\n",
       "       1.12219208e+11, 9.32358252e+11, 9.01007713e+08, 4.53388377e+09,\n",
       "       1.16862237e+11, 9.35285911e+11, 9.18810639e+09, 2.21293760e+09,\n",
       "       4.63569824e+08, 3.52201268e+10, 1.14581340e+11, 5.85392958e+08,\n",
       "       1.77182411e+11, 1.12016634e+11, 9.51364458e+09, 1.15327406e+11,\n",
       "       1.72636161e+11, 4.64641314e+09, 9.92035915e+10, 1.31313778e+11,\n",
       "       1.55099686e+11, 1.13215654e+11, 1.14623730e+11, 6.04363142e+09,\n",
       "       2.11976203e+11, 3.45243578e+09, 8.88733706e+10, 3.57052048e+10,\n",
       "       8.46824306e+10, 7.12330510e+11, 7.62215540e+10, 8.32787527e+10,\n",
       "       8.13393357e+09, 1.12610484e+09, 8.87574330e+09, 1.28874041e+11,\n",
       "       2.12326420e+11, 6.46600603e+10, 3.03064980e+09, 8.89219032e+10,\n",
       "       1.39253417e+11, 7.91532708e+09, 6.54015068e+08, 9.77575924e+09,\n",
       "       4.07491968e+10, 1.06404197e+10, 1.41022183e+10, 1.37226213e+11,\n",
       "       8.39771129e+09, 1.49709486e+11, 1.96839485e+10, 9.19433667e+09,\n",
       "       6.09750481e+11, 1.79349121e+11, 1.15168476e+11, 1.48566220e+11,\n",
       "       1.58833595e+11, 7.09896549e+10, 9.37726484e+08, 6.55842421e+11,\n",
       "       1.27414357e+11, 9.37760445e+09, 2.01521524e+11, 1.38931071e+11,\n",
       "       1.03824500e+11, 6.44760410e+09, 1.09188248e+10, 4.09924772e+09,\n",
       "       9.31321452e+08, 6.02830175e+09, 2.92620661e+11, 1.08787473e+10,\n",
       "       6.55404557e+10, 1.35396213e+09, 1.83736394e+11, 1.15362736e+09,\n",
       "       1.29763613e+11, 9.84054867e+10, 4.07268881e+08, 9.28122162e+11,\n",
       "       2.14249900e+11, 1.09694364e+09, 1.62040717e+11, 2.37639229e+11,\n",
       "       2.80115455e+11, 4.95164520e+10, 1.64589364e+11, 6.52888977e+09,\n",
       "       2.04717380e+11, 3.81936809e+10, 2.07940949e+11, 4.24438755e+10,\n",
       "       1.15650812e+11, 1.76456152e+11, 7.50065675e+11, 3.31189240e+09,\n",
       "       6.21324026e+10, 1.64889204e+11, 1.64109508e+11, 1.01135842e+09,\n",
       "       1.66894179e+10, 1.40312376e+10, 5.69323162e+10, 1.44747181e+11,\n",
       "       6.10534061e+11, 3.83449619e+08, 4.19269077e+09, 1.10628645e+11,\n",
       "       1.50236046e+11, 8.11127657e+09, 7.58597423e+09, 2.07076255e+09,\n",
       "       8.97719998e+09, 4.10356807e+10, 2.32216790e+10, 2.58579549e+08,\n",
       "       1.58953013e+10, 1.16919232e+11, 1.80347295e+10, 7.71216230e+09,\n",
       "       4.52301183e+10, 1.70912898e+11, 1.53546216e+10, 6.31832478e+09,\n",
       "       1.30157907e+10, 1.41621717e+11, 3.43233722e+09, 1.61425157e+09,\n",
       "       5.32731298e+08, 1.08804764e+11, 1.29347369e+11, 3.44487774e+09,\n",
       "       1.02018214e+12, 7.42452501e+08, 1.93696759e+11, 4.46416573e+10,\n",
       "       5.93690455e+09, 1.67659043e+11, 2.06949364e+11, 7.28971665e+10,\n",
       "       3.62429118e+09, 6.67476109e+10, 1.37750116e+10, 6.20947018e+09,\n",
       "       1.45206728e+11, 7.25122421e+11, 1.43279663e+09, 1.65329391e+10,\n",
       "       1.49222602e+11, 1.17815315e+11, 6.97911397e+10, 1.04503028e+09,\n",
       "       9.95485028e+09, 8.24552158e+09, 8.41947332e+09, 8.69636477e+11,\n",
       "       1.62808543e+11, 3.43426050e+09, 7.81365072e+09, 6.09415897e+09,\n",
       "       5.80468883e+09, 1.67669648e+11, 5.72676128e+09, 1.19147467e+11,\n",
       "       6.24230630e+08, 2.00592472e+09, 8.18541034e+09, 8.94577112e+09,\n",
       "       2.60515953e+09, 1.15678969e+11, 3.11129770e+09, 1.67708821e+11,\n",
       "       1.39494512e+11, 3.87421675e+09, 2.17499663e+11, 1.47663573e+11,\n",
       "       1.48824168e+11, 6.07425202e+09, 4.45358768e+10, 2.90992725e+09,\n",
       "       1.70960841e+11, 7.88372749e+08, 3.35113783e+09, 7.12792497e+10,\n",
       "       1.70630486e+11, 5.03940290e+08, 7.01408084e+10, 7.55007865e+09,\n",
       "       6.02076269e+09, 3.55762248e+11, 9.41012734e+08, 6.69046690e+10,\n",
       "       1.82882599e+11, 1.31516366e+11, 6.88169074e+09, 3.61736838e+11,\n",
       "       6.61914450e+11, 1.52754465e+11, 1.92528156e+10, 3.86102621e+09,\n",
       "       4.04601537e+08, 1.29800699e+11, 1.34017433e+10, 1.99295899e+11,\n",
       "       1.62730625e+11, 4.87632642e+11, 1.86083172e+11, 8.13007186e+09,\n",
       "       1.14217870e+10, 5.04418164e+08, 1.14756100e+11, 9.44706445e+08,\n",
       "       2.12832433e+11, 7.29429981e+09, 8.14879829e+09, 1.85049380e+11,\n",
       "       1.96360577e+11, 1.45554993e+11, 1.95061294e+11, 7.44567028e+10,\n",
       "       7.46620997e+10, 4.88019294e+11, 1.35188899e+11, 2.09730537e+11,\n",
       "       6.55560385e+10, 1.05281579e+09, 1.75861436e+11, 3.24775923e+09,\n",
       "       6.34393670e+09, 9.34360002e+10, 9.44422954e+09, 6.63437213e+09,\n",
       "       7.57460695e+11, 1.47123372e+11, 1.31532597e+11, 1.03886777e+12,\n",
       "       1.87336678e+09, 1.79164793e+11, 9.76780313e+09, 1.69381974e+11,\n",
       "       1.73064790e+09, 9.66447938e+09, 3.51137355e+09, 4.57365645e+09,\n",
       "       6.22451848e+09, 1.34865451e+11, 1.61404902e+09, 1.31600998e+11,\n",
       "       3.58457601e+09, 5.80008360e+10, 6.87963388e+10, 8.67339472e+09,\n",
       "       1.00999702e+11, 5.43649360e+09, 1.30983069e+10, 1.30860777e+11,\n",
       "       9.04095619e+10, 8.30221856e+09, 1.57693533e+09, 6.64761338e+10,\n",
       "       1.72033685e+10, 2.54878887e+11, 7.08616490e+09, 6.38655898e+11,\n",
       "       5.97996557e+08, 1.44017105e+10, 4.69854231e+10, 9.49354700e+08,\n",
       "       1.50886610e+11, 2.81152090e+11, 1.42678945e+10, 8.53664572e+10,\n",
       "       1.67155905e+11, 3.98530538e+10, 8.85754938e+08, 1.22138439e+11,\n",
       "       1.77699969e+11, 7.08476212e+10, 9.28292017e+11, 5.95598728e+11,\n",
       "       1.52859191e+09, 1.12781461e+11, 4.23540999e+09, 6.09578648e+08,\n",
       "       5.44725269e+09, 1.15387652e+11, 7.77700328e+08, 1.34941038e+09,\n",
       "       4.85191375e+09, 1.94249162e+11, 3.95607236e+09, 7.59370335e+09,\n",
       "       1.41518666e+11, 5.73601780e+09, 1.15554008e+11, 1.06379684e+10,\n",
       "       1.74341953e+11, 9.17037397e+11, 1.31644865e+11, 2.67311835e+10,\n",
       "       1.08596366e+12, 3.73873732e+09, 3.54423207e+09, 1.24610441e+09,\n",
       "       2.74056157e+09, 1.81051798e+11, 1.72220879e+11, 9.36597075e+10,\n",
       "       1.47191727e+09, 6.06943827e+11, 1.43009079e+11, 1.70326705e+11,\n",
       "       5.70917729e+10, 1.30290080e+10, 1.34438300e+11, 8.54557533e+09,\n",
       "       1.37528689e+11, 1.52871080e+11, 1.40917823e+09, 7.07585473e+10,\n",
       "       2.70898572e+09, 5.97525594e+09, 1.11853527e+11, 1.86475669e+11,\n",
       "       5.99617984e+09, 8.35798974e+09, 7.13133798e+10, 3.47454166e+11,\n",
       "       9.59447207e+09, 1.24186672e+11, 3.54108917e+11, 7.21455790e+10,\n",
       "       1.80461209e+09, 5.05792690e+08, 1.75321083e+11, 5.87284409e+09,\n",
       "       6.08055183e+08, 1.48567017e+11, 1.04528753e+09, 1.08380748e+11,\n",
       "       1.32346390e+11, 1.47845740e+11, 6.99683234e+09, 1.22401817e+11,\n",
       "       6.28989884e+11, 3.32614886e+09, 1.47149706e+11, 6.62645711e+10,\n",
       "       2.17949378e+09, 1.62372162e+11, 9.52734840e+09, 2.55927455e+11,\n",
       "       8.96122281e+08, 7.17986906e+10, 1.73931312e+11, 7.96476277e+10,\n",
       "       9.13015745e+08, 2.18311655e+11, 1.71182408e+11, 7.27597419e+09,\n",
       "       1.14280058e+11, 9.55516399e+10, 1.19255384e+10, 3.70217559e+09,\n",
       "       2.75880781e+09, 9.13275351e+09, 1.64053460e+11, 1.01927324e+12,\n",
       "       1.49577327e+10, 1.73355542e+09, 6.98676704e+10, 2.00227294e+09,\n",
       "       3.32353946e+09, 1.34860425e+10, 9.38661688e+10, 8.80997811e+09,\n",
       "       1.45401399e+11, 1.44761482e+11, 4.78110706e+10, 1.43958418e+11,\n",
       "       6.83977754e+10, 1.19038002e+11, 9.26093369e+09, 7.25643974e+09,\n",
       "       5.82087834e+09, 6.19821805e+09, 1.34804119e+09, 4.28708392e+09,\n",
       "       5.93492037e+08, 4.52331845e+09, 1.73857901e+11, 1.45736865e+11,\n",
       "       1.74711422e+11, 6.11064764e+10, 1.00175647e+09, 1.30641290e+11,\n",
       "       1.45921036e+11, 9.60755834e+08, 8.74108172e+09, 6.30112301e+09,\n",
       "       9.00610103e+08, 1.19106743e+10, 6.61540476e+11, 7.30593917e+11,\n",
       "       3.98647469e+09, 1.62618796e+10, 8.70703003e+09, 5.92949055e+11,\n",
       "       1.99897308e+11, 7.17610208e+10, 6.80237473e+09, 9.62948735e+09,\n",
       "       1.63078666e+11, 1.10895008e+11, 6.55969404e+09, 1.06396890e+09,\n",
       "       8.19869622e+08, 6.81756076e+11, 6.02197734e+09, 3.69274076e+08,\n",
       "       7.74271012e+08, 1.71268087e+11, 1.97429378e+11, 7.74200949e+08,\n",
       "       1.22963784e+10, 8.27896661e+09, 1.97229139e+11, 1.67925529e+11,\n",
       "       8.85628077e+09, 4.49215462e+10, 1.71090608e+11, 1.01190020e+10,\n",
       "       1.13104374e+11, 1.52696797e+11, 2.98932996e+11, 6.59517601e+10,\n",
       "       1.67375576e+11, 1.88420469e+09, 9.33575801e+09, 1.85469745e+09,\n",
       "       1.46720736e+11, 1.88714899e+09, 1.78801657e+09, 7.01387618e+09,\n",
       "       9.09551958e+09, 9.14969358e+08, 7.01353768e+10, 1.49817283e+11,\n",
       "       1.66542800e+11, 9.97948291e+09, 9.41225299e+08, 6.79904179e+08,\n",
       "       1.72258861e+09, 1.80996275e+10, 1.32295663e+11, 3.94905285e+09,\n",
       "       1.64245306e+11, 1.57812164e+11, 6.75994614e+10, 5.80576762e+10,\n",
       "       7.05941326e+10, 7.78348780e+09, 9.40532615e+09, 1.18554155e+11,\n",
       "       8.30660510e+09, 2.71281664e+11, 1.19686219e+10, 7.60056113e+10,\n",
       "       3.90876317e+09, 1.63425739e+11, 2.07509396e+11, 5.26219900e+09,\n",
       "       6.04903011e+09, 1.59307466e+11, 1.23727424e+10, 5.31152367e+08,\n",
       "       1.48754366e+11, 1.44339076e+09, 1.32642985e+11, 1.44223148e+09,\n",
       "       5.44650164e+08, 5.19629719e+09, 3.51601443e+11, 8.58267530e+11,\n",
       "       9.96945915e+11, 1.62501353e+10, 1.16532986e+11, 3.26929828e+09,\n",
       "       5.98208777e+09, 4.76256512e+08, 2.50735353e+09, 3.92775988e+09,\n",
       "       5.68681764e+10, 3.41040651e+09, 2.06941648e+11, 6.28909997e+10,\n",
       "       3.46961101e+09, 9.59018050e+09, 1.62196553e+11, 8.18114069e+08,\n",
       "       1.14262484e+11, 1.34818147e+10, 9.29671223e+09, 1.97389422e+11,\n",
       "       1.29157089e+10, 1.01612403e+11, 1.02813659e+11, 1.40721492e+11,\n",
       "       9.32486063e+09, 2.07031046e+11, 2.11693619e+11, 1.40352235e+11,\n",
       "       3.63466711e+09, 1.64828125e+10, 9.12902404e+09, 1.56609448e+11,\n",
       "       7.62683449e+10, 6.70672362e+09, 1.89008061e+09, 3.36166435e+09,\n",
       "       1.85733519e+11, 1.32826352e+11, 3.86255915e+09, 1.70277024e+11,\n",
       "       2.23379020e+11, 8.20855842e+09, 6.22237023e+10, 7.61446110e+10,\n",
       "       3.71306125e+09, 3.31792444e+09, 1.82898416e+11, 6.39481556e+09,\n",
       "       2.03542853e+11, 5.97534450e+09, 1.39118227e+10, 5.73597943e+09,\n",
       "       6.22275791e+11, 1.41505628e+11, 6.42834909e+09])"
      ]
     },
     "execution_count": 24,
     "metadata": {},
     "output_type": "execute_result"
    }
   ],
   "source": [
    "ypred"
   ]
  },
  {
   "cell_type": "code",
   "execution_count": 25,
   "id": "bffc4c5f",
   "metadata": {
    "execution": {
     "iopub.execute_input": "2021-12-19T18:59:16.596689Z",
     "iopub.status.busy": "2021-12-19T18:59:16.595998Z",
     "iopub.status.idle": "2021-12-19T18:59:16.605839Z",
     "shell.execute_reply": "2021-12-19T18:59:16.605066Z",
     "shell.execute_reply.started": "2021-12-19T18:33:14.920581Z"
    },
    "papermill": {
     "duration": 0.077483,
     "end_time": "2021-12-19T18:59:16.606027",
     "exception": false,
     "start_time": "2021-12-19T18:59:16.528544",
     "status": "completed"
    },
    "tags": []
   },
   "outputs": [
    {
     "name": "stdout",
     "output_type": "stream",
     "text": [
      "        real_value    pred_value\n",
      "1690  2.773103e+11  3.043390e+11\n",
      "2706  1.978100e+11  1.967492e+11\n",
      "1951  1.240446e+11  1.276577e+11\n",
      "458   7.670841e+09  8.555026e+09\n",
      "2311  1.823255e+11  1.845869e+11\n",
      "...            ...           ...\n",
      "1377  1.683741e+10  1.391182e+10\n",
      "198   4.883103e+09  5.735979e+09\n",
      "2977  6.320113e+11  6.222758e+11\n",
      "1810  1.340430e+11  1.415056e+11\n",
      "1227  9.743676e+09  6.428349e+09\n",
      "\n",
      "[599 rows x 2 columns]\n"
     ]
    }
   ],
   "source": [
    "print(pd.DataFrame({'real_value':ytest,'pred_value':ypred}))"
   ]
  },
  {
   "cell_type": "code",
   "execution_count": 26,
   "id": "a290cff5",
   "metadata": {
    "execution": {
     "iopub.execute_input": "2021-12-19T18:59:16.739669Z",
     "iopub.status.busy": "2021-12-19T18:59:16.738911Z",
     "iopub.status.idle": "2021-12-19T18:59:16.745193Z",
     "shell.execute_reply": "2021-12-19T18:59:16.745843Z",
     "shell.execute_reply.started": "2021-12-19T18:33:14.93435Z"
    },
    "papermill": {
     "duration": 0.074698,
     "end_time": "2021-12-19T18:59:16.746015",
     "exception": false,
     "start_time": "2021-12-19T18:59:16.671317",
     "status": "completed"
    },
    "tags": []
   },
   "outputs": [
    {
     "data": {
      "text/plain": [
       "3050924904.938302"
      ]
     },
     "execution_count": 26,
     "metadata": {},
     "output_type": "execute_result"
    }
   ],
   "source": [
    "from sklearn.metrics import mean_absolute_error\n",
    "mean_absolute_error(ytest, ypred)\n"
   ]
  },
  {
   "cell_type": "code",
   "execution_count": 27,
   "id": "3d6bbf21",
   "metadata": {
    "execution": {
     "iopub.execute_input": "2021-12-19T18:59:16.880742Z",
     "iopub.status.busy": "2021-12-19T18:59:16.880039Z",
     "iopub.status.idle": "2021-12-19T18:59:16.887109Z",
     "shell.execute_reply": "2021-12-19T18:59:16.887679Z",
     "shell.execute_reply.started": "2021-12-19T18:33:14.948483Z"
    },
    "papermill": {
     "duration": 0.075772,
     "end_time": "2021-12-19T18:59:16.887854",
     "exception": false,
     "start_time": "2021-12-19T18:59:16.812082",
     "status": "completed"
    },
    "tags": []
   },
   "outputs": [
    {
     "data": {
      "text/plain": [
       "0.9994421696573469"
      ]
     },
     "execution_count": 27,
     "metadata": {},
     "output_type": "execute_result"
    }
   ],
   "source": [
    "LR.score(xtest,ytest)"
   ]
  },
  {
   "cell_type": "markdown",
   "id": "e93d4fe5",
   "metadata": {
    "papermill": {
     "duration": 0.065681,
     "end_time": "2021-12-19T18:59:17.018443",
     "exception": false,
     "start_time": "2021-12-19T18:59:16.952762",
     "status": "completed"
    },
    "tags": []
   },
   "source": [
    "# Lasso Regression\n",
    "\n"
   ]
  },
  {
   "cell_type": "markdown",
   "id": "6d1f594a",
   "metadata": {
    "papermill": {
     "duration": 0.064334,
     "end_time": "2021-12-19T18:59:17.148074",
     "exception": false,
     "start_time": "2021-12-19T18:59:17.083740",
     "status": "completed"
    },
    "tags": []
   },
   "source": [
    "<img src= \"https://i.ytimg.com/vi/NGf0voTMlcs/maxresdefault.jpg\" alt =\"Lasso \" style='width: 800px;'>"
   ]
  },
  {
   "cell_type": "code",
   "execution_count": 28,
   "id": "4fb32673",
   "metadata": {
    "execution": {
     "iopub.execute_input": "2021-12-19T18:59:17.285734Z",
     "iopub.status.busy": "2021-12-19T18:59:17.285052Z",
     "iopub.status.idle": "2021-12-19T18:59:17.342487Z",
     "shell.execute_reply": "2021-12-19T18:59:17.341543Z",
     "shell.execute_reply.started": "2021-12-19T18:33:14.976982Z"
    },
    "papermill": {
     "duration": 0.128745,
     "end_time": "2021-12-19T18:59:17.342815",
     "exception": false,
     "start_time": "2021-12-19T18:59:17.214070",
     "status": "completed"
    },
    "tags": []
   },
   "outputs": [
    {
     "name": "stderr",
     "output_type": "stream",
     "text": [
      "/opt/conda/lib/python3.7/site-packages/sklearn/linear_model/_coordinate_descent.py:531: ConvergenceWarning: Objective did not converge. You might want to increase the number of iterations. Duality gap: 3.4008853745049105e+22, tolerance: 1.117938737863933e+22\n",
      "  positive)\n"
     ]
    },
    {
     "data": {
      "text/plain": [
       "0.9992343600424525"
      ]
     },
     "execution_count": 28,
     "metadata": {},
     "output_type": "execute_result"
    }
   ],
   "source": [
    "from sklearn.linear_model import Lasso\n",
    "Ls=Lasso()\n",
    "Ls.fit(xtrain,ytrain)\n",
    "ypred=Ls.predict(xtest)\n",
    "Ls.score(xtest,ytest)"
   ]
  },
  {
   "cell_type": "code",
   "execution_count": 29,
   "id": "0cae9b70",
   "metadata": {
    "execution": {
     "iopub.execute_input": "2021-12-19T18:59:17.524528Z",
     "iopub.status.busy": "2021-12-19T18:59:17.523802Z",
     "iopub.status.idle": "2021-12-19T18:59:17.526329Z",
     "shell.execute_reply": "2021-12-19T18:59:17.526855Z",
     "shell.execute_reply.started": "2021-12-19T18:33:15.047233Z"
    },
    "papermill": {
     "duration": 0.074844,
     "end_time": "2021-12-19T18:59:17.527026",
     "exception": false,
     "start_time": "2021-12-19T18:59:17.452182",
     "status": "completed"
    },
    "tags": []
   },
   "outputs": [
    {
     "data": {
      "text/plain": [
       "3462926078.2266183"
      ]
     },
     "execution_count": 29,
     "metadata": {},
     "output_type": "execute_result"
    }
   ],
   "source": [
    "from sklearn.metrics import mean_absolute_error\n",
    "mean_absolute_error(ytest, ypred)"
   ]
  },
  {
   "cell_type": "markdown",
   "id": "9c250794",
   "metadata": {
    "papermill": {
     "duration": 0.065684,
     "end_time": "2021-12-19T18:59:17.658715",
     "exception": false,
     "start_time": "2021-12-19T18:59:17.593031",
     "status": "completed"
    },
    "tags": []
   },
   "source": [
    "# DECISION TREE REGRESSION "
   ]
  },
  {
   "cell_type": "markdown",
   "id": "0725f419",
   "metadata": {
    "papermill": {
     "duration": 0.06668,
     "end_time": "2021-12-19T18:59:17.791454",
     "exception": false,
     "start_time": "2021-12-19T18:59:17.724774",
     "status": "completed"
    },
    "tags": []
   },
   "source": [
    "<img src= \"https://www.saedsayad.com/images/Decision_tree_r1.png\" alt =\"\" style='width: 800px;'>"
   ]
  },
  {
   "cell_type": "code",
   "execution_count": 30,
   "id": "e3b8d4f8",
   "metadata": {
    "execution": {
     "iopub.execute_input": "2021-12-19T18:59:17.929622Z",
     "iopub.status.busy": "2021-12-19T18:59:17.928851Z",
     "iopub.status.idle": "2021-12-19T18:59:18.030367Z",
     "shell.execute_reply": "2021-12-19T18:59:18.030914Z",
     "shell.execute_reply.started": "2021-12-19T18:33:15.065741Z"
    },
    "papermill": {
     "duration": 0.173445,
     "end_time": "2021-12-19T18:59:18.031095",
     "exception": false,
     "start_time": "2021-12-19T18:59:17.857650",
     "status": "completed"
    },
    "tags": []
   },
   "outputs": [
    {
     "data": {
      "text/plain": [
       "0.7691704644820736"
      ]
     },
     "execution_count": 30,
     "metadata": {},
     "output_type": "execute_result"
    }
   ],
   "source": [
    "from sklearn.tree import DecisionTreeRegressor\n",
    "mytre=DecisionTreeRegressor(max_depth=1)\n",
    "mytre.fit(xtrain,ytrain)\n",
    "ypredd=mytre.predict(xtest)\n",
    "mytre.score(xtest,ytest)"
   ]
  },
  {
   "cell_type": "markdown",
   "id": "01c9a413",
   "metadata": {
    "papermill": {
     "duration": 0.066386,
     "end_time": "2021-12-19T18:59:18.164225",
     "exception": false,
     "start_time": "2021-12-19T18:59:18.097839",
     "status": "completed"
    },
    "tags": []
   },
   "source": [
    "here we see the difference between the two model when we play with their params"
   ]
  },
  {
   "cell_type": "code",
   "execution_count": 31,
   "id": "9675edae",
   "metadata": {
    "execution": {
     "iopub.execute_input": "2021-12-19T18:59:18.303953Z",
     "iopub.status.busy": "2021-12-19T18:59:18.300047Z",
     "iopub.status.idle": "2021-12-19T18:59:18.320501Z",
     "shell.execute_reply": "2021-12-19T18:59:18.319840Z",
     "shell.execute_reply.started": "2021-12-19T18:33:15.171159Z"
    },
    "papermill": {
     "duration": 0.090029,
     "end_time": "2021-12-19T18:59:18.320651",
     "exception": false,
     "start_time": "2021-12-19T18:59:18.230622",
     "status": "completed"
    },
    "tags": []
   },
   "outputs": [
    {
     "data": {
      "text/plain": [
       "0.997896237921588"
      ]
     },
     "execution_count": 31,
     "metadata": {},
     "output_type": "execute_result"
    }
   ],
   "source": [
    "from sklearn.tree import DecisionTreeRegressor\n",
    "mytre=DecisionTreeRegressor(max_depth=5)\n",
    "mytre.fit(xtrain,ytrain)\n",
    "ypredd=mytre.predict(xtest)\n",
    "mytre.score(xtest,ytest)"
   ]
  },
  {
   "cell_type": "code",
   "execution_count": 32,
   "id": "bc043614",
   "metadata": {
    "execution": {
     "iopub.execute_input": "2021-12-19T18:59:18.461608Z",
     "iopub.status.busy": "2021-12-19T18:59:18.460887Z",
     "iopub.status.idle": "2021-12-19T18:59:18.464757Z",
     "shell.execute_reply": "2021-12-19T18:59:18.465320Z",
     "shell.execute_reply.started": "2021-12-19T18:33:15.192296Z"
    },
    "papermill": {
     "duration": 0.076536,
     "end_time": "2021-12-19T18:59:18.465525",
     "exception": false,
     "start_time": "2021-12-19T18:59:18.388989",
     "status": "completed"
    },
    "tags": []
   },
   "outputs": [
    {
     "data": {
      "text/plain": [
       "5077785411.153317"
      ]
     },
     "execution_count": 32,
     "metadata": {},
     "output_type": "execute_result"
    }
   ],
   "source": [
    "from sklearn.metrics import mean_absolute_error\n",
    "mean_absolute_error(ytest, ypredd)"
   ]
  },
  {
   "cell_type": "markdown",
   "id": "058d2697",
   "metadata": {
    "papermill": {
     "duration": 0.066605,
     "end_time": "2021-12-19T18:59:18.599728",
     "exception": false,
     "start_time": "2021-12-19T18:59:18.533123",
     "status": "completed"
    },
    "tags": []
   },
   "source": [
    "# Classification"
   ]
  },
  {
   "cell_type": "markdown",
   "id": "206d8462",
   "metadata": {
    "papermill": {
     "duration": 0.068315,
     "end_time": "2021-12-19T18:59:18.734606",
     "exception": false,
     "start_time": "2021-12-19T18:59:18.666291",
     "status": "completed"
    },
    "tags": []
   },
   "source": [
    "![](https://csharpcorner-mindcrackerinc.netdna-ssl.com/article/a-quick-overview-of-machine-learning-tasks/Images/Classification%20in%20Machine%20learning.JPG)"
   ]
  },
  {
   "cell_type": "code",
   "execution_count": 33,
   "id": "629a74e4",
   "metadata": {
    "execution": {
     "iopub.execute_input": "2021-12-19T18:59:18.885920Z",
     "iopub.status.busy": "2021-12-19T18:59:18.885237Z",
     "iopub.status.idle": "2021-12-19T18:59:18.888028Z",
     "shell.execute_reply": "2021-12-19T18:59:18.888550Z",
     "shell.execute_reply.started": "2021-12-19T18:33:15.200548Z"
    },
    "papermill": {
     "duration": 0.08612,
     "end_time": "2021-12-19T18:59:18.888721",
     "exception": false,
     "start_time": "2021-12-19T18:59:18.802601",
     "status": "completed"
    },
    "tags": []
   },
   "outputs": [
    {
     "data": {
      "text/html": [
       "<div>\n",
       "<style scoped>\n",
       "    .dataframe tbody tr th:only-of-type {\n",
       "        vertical-align: middle;\n",
       "    }\n",
       "\n",
       "    .dataframe tbody tr th {\n",
       "        vertical-align: top;\n",
       "    }\n",
       "\n",
       "    .dataframe thead th {\n",
       "        text-align: right;\n",
       "    }\n",
       "</style>\n",
       "<table border=\"1\" class=\"dataframe\">\n",
       "  <thead>\n",
       "    <tr style=\"text-align: right;\">\n",
       "      <th></th>\n",
       "      <th>age</th>\n",
       "      <th>anaemia</th>\n",
       "      <th>creatinine_phosphokinase</th>\n",
       "      <th>diabetes</th>\n",
       "      <th>ejection_fraction</th>\n",
       "      <th>high_blood_pressure</th>\n",
       "      <th>platelets</th>\n",
       "      <th>serum_creatinine</th>\n",
       "      <th>serum_sodium</th>\n",
       "      <th>sex</th>\n",
       "      <th>smoking</th>\n",
       "      <th>time</th>\n",
       "      <th>DEATH_EVENT</th>\n",
       "    </tr>\n",
       "  </thead>\n",
       "  <tbody>\n",
       "    <tr>\n",
       "      <th>0</th>\n",
       "      <td>75.0</td>\n",
       "      <td>0</td>\n",
       "      <td>582</td>\n",
       "      <td>0</td>\n",
       "      <td>20</td>\n",
       "      <td>1</td>\n",
       "      <td>265000.00</td>\n",
       "      <td>1.9</td>\n",
       "      <td>130</td>\n",
       "      <td>1</td>\n",
       "      <td>0</td>\n",
       "      <td>4</td>\n",
       "      <td>1</td>\n",
       "    </tr>\n",
       "    <tr>\n",
       "      <th>1</th>\n",
       "      <td>55.0</td>\n",
       "      <td>0</td>\n",
       "      <td>7861</td>\n",
       "      <td>0</td>\n",
       "      <td>38</td>\n",
       "      <td>0</td>\n",
       "      <td>263358.03</td>\n",
       "      <td>1.1</td>\n",
       "      <td>136</td>\n",
       "      <td>1</td>\n",
       "      <td>0</td>\n",
       "      <td>6</td>\n",
       "      <td>1</td>\n",
       "    </tr>\n",
       "    <tr>\n",
       "      <th>2</th>\n",
       "      <td>65.0</td>\n",
       "      <td>0</td>\n",
       "      <td>146</td>\n",
       "      <td>0</td>\n",
       "      <td>20</td>\n",
       "      <td>0</td>\n",
       "      <td>162000.00</td>\n",
       "      <td>1.3</td>\n",
       "      <td>129</td>\n",
       "      <td>1</td>\n",
       "      <td>1</td>\n",
       "      <td>7</td>\n",
       "      <td>1</td>\n",
       "    </tr>\n",
       "    <tr>\n",
       "      <th>3</th>\n",
       "      <td>50.0</td>\n",
       "      <td>1</td>\n",
       "      <td>111</td>\n",
       "      <td>0</td>\n",
       "      <td>20</td>\n",
       "      <td>0</td>\n",
       "      <td>210000.00</td>\n",
       "      <td>1.9</td>\n",
       "      <td>137</td>\n",
       "      <td>1</td>\n",
       "      <td>0</td>\n",
       "      <td>7</td>\n",
       "      <td>1</td>\n",
       "    </tr>\n",
       "    <tr>\n",
       "      <th>4</th>\n",
       "      <td>65.0</td>\n",
       "      <td>1</td>\n",
       "      <td>160</td>\n",
       "      <td>1</td>\n",
       "      <td>20</td>\n",
       "      <td>0</td>\n",
       "      <td>327000.00</td>\n",
       "      <td>2.7</td>\n",
       "      <td>116</td>\n",
       "      <td>0</td>\n",
       "      <td>0</td>\n",
       "      <td>8</td>\n",
       "      <td>1</td>\n",
       "    </tr>\n",
       "  </tbody>\n",
       "</table>\n",
       "</div>"
      ],
      "text/plain": [
       "    age  anaemia  creatinine_phosphokinase  diabetes  ejection_fraction  \\\n",
       "0  75.0        0                       582         0                 20   \n",
       "1  55.0        0                      7861         0                 38   \n",
       "2  65.0        0                       146         0                 20   \n",
       "3  50.0        1                       111         0                 20   \n",
       "4  65.0        1                       160         1                 20   \n",
       "\n",
       "   high_blood_pressure  platelets  serum_creatinine  serum_sodium  sex  \\\n",
       "0                    1  265000.00               1.9           130    1   \n",
       "1                    0  263358.03               1.1           136    1   \n",
       "2                    0  162000.00               1.3           129    1   \n",
       "3                    0  210000.00               1.9           137    1   \n",
       "4                    0  327000.00               2.7           116    0   \n",
       "\n",
       "   smoking  time  DEATH_EVENT  \n",
       "0        0     4            1  \n",
       "1        0     6            1  \n",
       "2        1     7            1  \n",
       "3        0     7            1  \n",
       "4        0     8            1  "
      ]
     },
     "execution_count": 33,
     "metadata": {},
     "output_type": "execute_result"
    }
   ],
   "source": [
    "HF.head()"
   ]
  },
  {
   "cell_type": "code",
   "execution_count": 34,
   "id": "6ed335f0",
   "metadata": {
    "execution": {
     "iopub.execute_input": "2021-12-19T18:59:19.030872Z",
     "iopub.status.busy": "2021-12-19T18:59:19.030161Z",
     "iopub.status.idle": "2021-12-19T18:59:19.032340Z",
     "shell.execute_reply": "2021-12-19T18:59:19.032975Z",
     "shell.execute_reply.started": "2021-12-19T18:33:15.221554Z"
    },
    "papermill": {
     "duration": 0.077212,
     "end_time": "2021-12-19T18:59:19.033139",
     "exception": false,
     "start_time": "2021-12-19T18:59:18.955927",
     "status": "completed"
    },
    "tags": []
   },
   "outputs": [],
   "source": [
    "x=HF.drop([\"DEATH_EVENT\"], axis=1)\n",
    "y=HF[\"DEATH_EVENT\"]"
   ]
  },
  {
   "cell_type": "code",
   "execution_count": 35,
   "id": "a883723d",
   "metadata": {
    "execution": {
     "iopub.execute_input": "2021-12-19T18:59:19.176689Z",
     "iopub.status.busy": "2021-12-19T18:59:19.174053Z",
     "iopub.status.idle": "2021-12-19T18:59:19.181057Z",
     "shell.execute_reply": "2021-12-19T18:59:19.181574Z",
     "shell.execute_reply.started": "2021-12-19T18:33:15.226994Z"
    },
    "papermill": {
     "duration": 0.078238,
     "end_time": "2021-12-19T18:59:19.181759",
     "exception": false,
     "start_time": "2021-12-19T18:59:19.103521",
     "status": "completed"
    },
    "tags": []
   },
   "outputs": [
    {
     "data": {
      "text/plain": [
       "Index(['age', 'anaemia', 'creatinine_phosphokinase', 'diabetes',\n",
       "       'ejection_fraction', 'high_blood_pressure', 'platelets',\n",
       "       'serum_creatinine', 'serum_sodium', 'sex', 'smoking', 'time'],\n",
       "      dtype='object')"
      ]
     },
     "execution_count": 35,
     "metadata": {},
     "output_type": "execute_result"
    }
   ],
   "source": [
    "x.columns"
   ]
  },
  {
   "cell_type": "code",
   "execution_count": 36,
   "id": "6f2ff854",
   "metadata": {
    "execution": {
     "iopub.execute_input": "2021-12-19T18:59:19.324741Z",
     "iopub.status.busy": "2021-12-19T18:59:19.323952Z",
     "iopub.status.idle": "2021-12-19T18:59:19.331925Z",
     "shell.execute_reply": "2021-12-19T18:59:19.331404Z",
     "shell.execute_reply.started": "2021-12-19T18:33:15.242013Z"
    },
    "papermill": {
     "duration": 0.079132,
     "end_time": "2021-12-19T18:59:19.332074",
     "exception": false,
     "start_time": "2021-12-19T18:59:19.252942",
     "status": "completed"
    },
    "tags": []
   },
   "outputs": [
    {
     "data": {
      "text/plain": [
       "age                         0\n",
       "anaemia                     0\n",
       "creatinine_phosphokinase    0\n",
       "diabetes                    0\n",
       "ejection_fraction           0\n",
       "high_blood_pressure         0\n",
       "platelets                   0\n",
       "serum_creatinine            0\n",
       "serum_sodium                0\n",
       "sex                         0\n",
       "smoking                     0\n",
       "time                        0\n",
       "dtype: int64"
      ]
     },
     "execution_count": 36,
     "metadata": {},
     "output_type": "execute_result"
    }
   ],
   "source": [
    "x.isnull().sum()"
   ]
  },
  {
   "cell_type": "markdown",
   "id": "3df05535",
   "metadata": {
    "papermill": {
     "duration": 0.067538,
     "end_time": "2021-12-19T18:59:19.468074",
     "exception": false,
     "start_time": "2021-12-19T18:59:19.400536",
     "status": "completed"
    },
    "tags": []
   },
   "source": [
    "##### "
   ]
  },
  {
   "cell_type": "code",
   "execution_count": 37,
   "id": "03d9d65e",
   "metadata": {
    "execution": {
     "iopub.execute_input": "2021-12-19T18:59:19.611084Z",
     "iopub.status.busy": "2021-12-19T18:59:19.610385Z",
     "iopub.status.idle": "2021-12-19T18:59:19.612875Z",
     "shell.execute_reply": "2021-12-19T18:59:19.613465Z",
     "shell.execute_reply.started": "2021-12-19T18:33:15.255385Z"
    },
    "papermill": {
     "duration": 0.076374,
     "end_time": "2021-12-19T18:59:19.613636",
     "exception": false,
     "start_time": "2021-12-19T18:59:19.537262",
     "status": "completed"
    },
    "tags": []
   },
   "outputs": [
    {
     "data": {
      "text/plain": [
       "0"
      ]
     },
     "execution_count": 37,
     "metadata": {},
     "output_type": "execute_result"
    }
   ],
   "source": [
    "y.isnull().sum()"
   ]
  },
  {
   "cell_type": "code",
   "execution_count": 38,
   "id": "8b25ffe7",
   "metadata": {
    "execution": {
     "iopub.execute_input": "2021-12-19T18:59:19.763827Z",
     "iopub.status.busy": "2021-12-19T18:59:19.752877Z",
     "iopub.status.idle": "2021-12-19T18:59:19.765691Z",
     "shell.execute_reply": "2021-12-19T18:59:19.766159Z",
     "shell.execute_reply.started": "2021-12-19T18:33:15.269841Z"
    },
    "papermill": {
     "duration": 0.084399,
     "end_time": "2021-12-19T18:59:19.766322",
     "exception": false,
     "start_time": "2021-12-19T18:59:19.681923",
     "status": "completed"
    },
    "tags": []
   },
   "outputs": [
    {
     "name": "stdout",
     "output_type": "stream",
     "text": [
      "<class 'pandas.core.frame.DataFrame'>\n",
      "RangeIndex: 299 entries, 0 to 298\n",
      "Data columns (total 12 columns):\n",
      " #   Column                    Non-Null Count  Dtype  \n",
      "---  ------                    --------------  -----  \n",
      " 0   age                       299 non-null    float64\n",
      " 1   anaemia                   299 non-null    int64  \n",
      " 2   creatinine_phosphokinase  299 non-null    int64  \n",
      " 3   diabetes                  299 non-null    int64  \n",
      " 4   ejection_fraction         299 non-null    int64  \n",
      " 5   high_blood_pressure       299 non-null    int64  \n",
      " 6   platelets                 299 non-null    float64\n",
      " 7   serum_creatinine          299 non-null    float64\n",
      " 8   serum_sodium              299 non-null    int64  \n",
      " 9   sex                       299 non-null    int64  \n",
      " 10  smoking                   299 non-null    int64  \n",
      " 11  time                      299 non-null    int64  \n",
      "dtypes: float64(3), int64(9)\n",
      "memory usage: 28.2 KB\n"
     ]
    }
   ],
   "source": [
    "x.info()"
   ]
  },
  {
   "cell_type": "code",
   "execution_count": 39,
   "id": "d11239b9",
   "metadata": {
    "execution": {
     "iopub.execute_input": "2021-12-19T18:59:19.913385Z",
     "iopub.status.busy": "2021-12-19T18:59:19.911143Z",
     "iopub.status.idle": "2021-12-19T18:59:19.951227Z",
     "shell.execute_reply": "2021-12-19T18:59:19.950681Z",
     "shell.execute_reply.started": "2021-12-19T18:33:15.286377Z"
    },
    "papermill": {
     "duration": 0.116302,
     "end_time": "2021-12-19T18:59:19.951369",
     "exception": false,
     "start_time": "2021-12-19T18:59:19.835067",
     "status": "completed"
    },
    "tags": []
   },
   "outputs": [
    {
     "data": {
      "text/html": [
       "<div>\n",
       "<style scoped>\n",
       "    .dataframe tbody tr th:only-of-type {\n",
       "        vertical-align: middle;\n",
       "    }\n",
       "\n",
       "    .dataframe tbody tr th {\n",
       "        vertical-align: top;\n",
       "    }\n",
       "\n",
       "    .dataframe thead th {\n",
       "        text-align: right;\n",
       "    }\n",
       "</style>\n",
       "<table border=\"1\" class=\"dataframe\">\n",
       "  <thead>\n",
       "    <tr style=\"text-align: right;\">\n",
       "      <th></th>\n",
       "      <th>age</th>\n",
       "      <th>anaemia</th>\n",
       "      <th>creatinine_phosphokinase</th>\n",
       "      <th>diabetes</th>\n",
       "      <th>ejection_fraction</th>\n",
       "      <th>high_blood_pressure</th>\n",
       "      <th>platelets</th>\n",
       "      <th>serum_creatinine</th>\n",
       "      <th>serum_sodium</th>\n",
       "      <th>sex</th>\n",
       "      <th>smoking</th>\n",
       "      <th>time</th>\n",
       "    </tr>\n",
       "  </thead>\n",
       "  <tbody>\n",
       "    <tr>\n",
       "      <th>count</th>\n",
       "      <td>299.000000</td>\n",
       "      <td>299.000000</td>\n",
       "      <td>299.000000</td>\n",
       "      <td>299.000000</td>\n",
       "      <td>299.000000</td>\n",
       "      <td>299.000000</td>\n",
       "      <td>299.000000</td>\n",
       "      <td>299.00000</td>\n",
       "      <td>299.000000</td>\n",
       "      <td>299.000000</td>\n",
       "      <td>299.00000</td>\n",
       "      <td>299.000000</td>\n",
       "    </tr>\n",
       "    <tr>\n",
       "      <th>mean</th>\n",
       "      <td>60.833893</td>\n",
       "      <td>0.431438</td>\n",
       "      <td>581.839465</td>\n",
       "      <td>0.418060</td>\n",
       "      <td>38.083612</td>\n",
       "      <td>0.351171</td>\n",
       "      <td>263358.029264</td>\n",
       "      <td>1.39388</td>\n",
       "      <td>136.625418</td>\n",
       "      <td>0.648829</td>\n",
       "      <td>0.32107</td>\n",
       "      <td>130.260870</td>\n",
       "    </tr>\n",
       "    <tr>\n",
       "      <th>std</th>\n",
       "      <td>11.894809</td>\n",
       "      <td>0.496107</td>\n",
       "      <td>970.287881</td>\n",
       "      <td>0.494067</td>\n",
       "      <td>11.834841</td>\n",
       "      <td>0.478136</td>\n",
       "      <td>97804.236869</td>\n",
       "      <td>1.03451</td>\n",
       "      <td>4.412477</td>\n",
       "      <td>0.478136</td>\n",
       "      <td>0.46767</td>\n",
       "      <td>77.614208</td>\n",
       "    </tr>\n",
       "    <tr>\n",
       "      <th>min</th>\n",
       "      <td>40.000000</td>\n",
       "      <td>0.000000</td>\n",
       "      <td>23.000000</td>\n",
       "      <td>0.000000</td>\n",
       "      <td>14.000000</td>\n",
       "      <td>0.000000</td>\n",
       "      <td>25100.000000</td>\n",
       "      <td>0.50000</td>\n",
       "      <td>113.000000</td>\n",
       "      <td>0.000000</td>\n",
       "      <td>0.00000</td>\n",
       "      <td>4.000000</td>\n",
       "    </tr>\n",
       "    <tr>\n",
       "      <th>25%</th>\n",
       "      <td>51.000000</td>\n",
       "      <td>0.000000</td>\n",
       "      <td>116.500000</td>\n",
       "      <td>0.000000</td>\n",
       "      <td>30.000000</td>\n",
       "      <td>0.000000</td>\n",
       "      <td>212500.000000</td>\n",
       "      <td>0.90000</td>\n",
       "      <td>134.000000</td>\n",
       "      <td>0.000000</td>\n",
       "      <td>0.00000</td>\n",
       "      <td>73.000000</td>\n",
       "    </tr>\n",
       "    <tr>\n",
       "      <th>50%</th>\n",
       "      <td>60.000000</td>\n",
       "      <td>0.000000</td>\n",
       "      <td>250.000000</td>\n",
       "      <td>0.000000</td>\n",
       "      <td>38.000000</td>\n",
       "      <td>0.000000</td>\n",
       "      <td>262000.000000</td>\n",
       "      <td>1.10000</td>\n",
       "      <td>137.000000</td>\n",
       "      <td>1.000000</td>\n",
       "      <td>0.00000</td>\n",
       "      <td>115.000000</td>\n",
       "    </tr>\n",
       "    <tr>\n",
       "      <th>75%</th>\n",
       "      <td>70.000000</td>\n",
       "      <td>1.000000</td>\n",
       "      <td>582.000000</td>\n",
       "      <td>1.000000</td>\n",
       "      <td>45.000000</td>\n",
       "      <td>1.000000</td>\n",
       "      <td>303500.000000</td>\n",
       "      <td>1.40000</td>\n",
       "      <td>140.000000</td>\n",
       "      <td>1.000000</td>\n",
       "      <td>1.00000</td>\n",
       "      <td>203.000000</td>\n",
       "    </tr>\n",
       "    <tr>\n",
       "      <th>max</th>\n",
       "      <td>95.000000</td>\n",
       "      <td>1.000000</td>\n",
       "      <td>7861.000000</td>\n",
       "      <td>1.000000</td>\n",
       "      <td>80.000000</td>\n",
       "      <td>1.000000</td>\n",
       "      <td>850000.000000</td>\n",
       "      <td>9.40000</td>\n",
       "      <td>148.000000</td>\n",
       "      <td>1.000000</td>\n",
       "      <td>1.00000</td>\n",
       "      <td>285.000000</td>\n",
       "    </tr>\n",
       "  </tbody>\n",
       "</table>\n",
       "</div>"
      ],
      "text/plain": [
       "              age     anaemia  creatinine_phosphokinase    diabetes  \\\n",
       "count  299.000000  299.000000                299.000000  299.000000   \n",
       "mean    60.833893    0.431438                581.839465    0.418060   \n",
       "std     11.894809    0.496107                970.287881    0.494067   \n",
       "min     40.000000    0.000000                 23.000000    0.000000   \n",
       "25%     51.000000    0.000000                116.500000    0.000000   \n",
       "50%     60.000000    0.000000                250.000000    0.000000   \n",
       "75%     70.000000    1.000000                582.000000    1.000000   \n",
       "max     95.000000    1.000000               7861.000000    1.000000   \n",
       "\n",
       "       ejection_fraction  high_blood_pressure      platelets  \\\n",
       "count         299.000000           299.000000     299.000000   \n",
       "mean           38.083612             0.351171  263358.029264   \n",
       "std            11.834841             0.478136   97804.236869   \n",
       "min            14.000000             0.000000   25100.000000   \n",
       "25%            30.000000             0.000000  212500.000000   \n",
       "50%            38.000000             0.000000  262000.000000   \n",
       "75%            45.000000             1.000000  303500.000000   \n",
       "max            80.000000             1.000000  850000.000000   \n",
       "\n",
       "       serum_creatinine  serum_sodium         sex    smoking        time  \n",
       "count         299.00000    299.000000  299.000000  299.00000  299.000000  \n",
       "mean            1.39388    136.625418    0.648829    0.32107  130.260870  \n",
       "std             1.03451      4.412477    0.478136    0.46767   77.614208  \n",
       "min             0.50000    113.000000    0.000000    0.00000    4.000000  \n",
       "25%             0.90000    134.000000    0.000000    0.00000   73.000000  \n",
       "50%             1.10000    137.000000    1.000000    0.00000  115.000000  \n",
       "75%             1.40000    140.000000    1.000000    1.00000  203.000000  \n",
       "max             9.40000    148.000000    1.000000    1.00000  285.000000  "
      ]
     },
     "execution_count": 39,
     "metadata": {},
     "output_type": "execute_result"
    }
   ],
   "source": [
    "x.describe()"
   ]
  },
  {
   "cell_type": "code",
   "execution_count": 40,
   "id": "1cc9742c",
   "metadata": {
    "execution": {
     "iopub.execute_input": "2021-12-19T18:59:20.098305Z",
     "iopub.status.busy": "2021-12-19T18:59:20.097394Z",
     "iopub.status.idle": "2021-12-19T18:59:20.101182Z",
     "shell.execute_reply": "2021-12-19T18:59:20.100648Z",
     "shell.execute_reply.started": "2021-12-19T18:33:15.338753Z"
    },
    "papermill": {
     "duration": 0.078741,
     "end_time": "2021-12-19T18:59:20.101327",
     "exception": false,
     "start_time": "2021-12-19T18:59:20.022586",
     "status": "completed"
    },
    "tags": []
   },
   "outputs": [],
   "source": [
    "xtrain,xtest,ytrain,ytest=train_test_split(x,y,test_size=0.2)"
   ]
  },
  {
   "cell_type": "markdown",
   "id": "5d665ab1",
   "metadata": {
    "papermill": {
     "duration": 0.070874,
     "end_time": "2021-12-19T18:59:20.242044",
     "exception": false,
     "start_time": "2021-12-19T18:59:20.171170",
     "status": "completed"
    },
    "tags": []
   },
   "source": [
    "# Support Vector Machines"
   ]
  },
  {
   "cell_type": "markdown",
   "id": "0b35d759",
   "metadata": {
    "papermill": {
     "duration": 0.069006,
     "end_time": "2021-12-19T18:59:20.380500",
     "exception": false,
     "start_time": "2021-12-19T18:59:20.311494",
     "status": "completed"
    },
    "tags": []
   },
   "source": [
    "![](https://static.javatpoint.com/tutorial/machine-learning/images/support-vector-machine-algorithm.png)"
   ]
  },
  {
   "cell_type": "code",
   "execution_count": 41,
   "id": "d16b9f1f",
   "metadata": {
    "execution": {
     "iopub.execute_input": "2021-12-19T18:59:20.526345Z",
     "iopub.status.busy": "2021-12-19T18:59:20.525709Z",
     "iopub.status.idle": "2021-12-19T18:59:20.533155Z",
     "shell.execute_reply": "2021-12-19T18:59:20.532550Z",
     "shell.execute_reply.started": "2021-12-19T18:33:15.347351Z"
    },
    "papermill": {
     "duration": 0.082683,
     "end_time": "2021-12-19T18:59:20.533288",
     "exception": false,
     "start_time": "2021-12-19T18:59:20.450605",
     "status": "completed"
    },
    "tags": []
   },
   "outputs": [
    {
     "data": {
      "text/plain": [
       "SVC()"
      ]
     },
     "execution_count": 41,
     "metadata": {},
     "output_type": "execute_result"
    }
   ],
   "source": [
    "from sklearn import svm\n",
    "svm= svm.SVC()\n",
    "svm.fit(xtrain,ytrain)"
   ]
  },
  {
   "cell_type": "code",
   "execution_count": 42,
   "id": "abd9fbab",
   "metadata": {
    "execution": {
     "iopub.execute_input": "2021-12-19T18:59:20.680182Z",
     "iopub.status.busy": "2021-12-19T18:59:20.679357Z",
     "iopub.status.idle": "2021-12-19T18:59:20.682304Z",
     "shell.execute_reply": "2021-12-19T18:59:20.682823Z",
     "shell.execute_reply.started": "2021-12-19T18:33:15.365064Z"
    },
    "papermill": {
     "duration": 0.079893,
     "end_time": "2021-12-19T18:59:20.683004",
     "exception": false,
     "start_time": "2021-12-19T18:59:20.603111",
     "status": "completed"
    },
    "tags": []
   },
   "outputs": [],
   "source": [
    "ypred=svm.predict(xtest)"
   ]
  },
  {
   "cell_type": "code",
   "execution_count": 43,
   "id": "2efd719b",
   "metadata": {
    "execution": {
     "iopub.execute_input": "2021-12-19T18:59:20.830804Z",
     "iopub.status.busy": "2021-12-19T18:59:20.829992Z",
     "iopub.status.idle": "2021-12-19T18:59:20.834549Z",
     "shell.execute_reply": "2021-12-19T18:59:20.835065Z",
     "shell.execute_reply.started": "2021-12-19T18:33:15.372655Z"
    },
    "papermill": {
     "duration": 0.081319,
     "end_time": "2021-12-19T18:59:20.835243",
     "exception": false,
     "start_time": "2021-12-19T18:59:20.753924",
     "status": "completed"
    },
    "tags": []
   },
   "outputs": [
    {
     "data": {
      "text/plain": [
       "0.7"
      ]
     },
     "execution_count": 43,
     "metadata": {},
     "output_type": "execute_result"
    }
   ],
   "source": [
    "svm.score(xtest,ytest)"
   ]
  },
  {
   "cell_type": "code",
   "execution_count": 44,
   "id": "e862c16a",
   "metadata": {
    "execution": {
     "iopub.execute_input": "2021-12-19T18:59:20.979562Z",
     "iopub.status.busy": "2021-12-19T18:59:20.978873Z",
     "iopub.status.idle": "2021-12-19T18:59:20.984736Z",
     "shell.execute_reply": "2021-12-19T18:59:20.985271Z",
     "shell.execute_reply.started": "2021-12-19T18:33:15.388455Z"
    },
    "papermill": {
     "duration": 0.079564,
     "end_time": "2021-12-19T18:59:20.985462",
     "exception": false,
     "start_time": "2021-12-19T18:59:20.905898",
     "status": "completed"
    },
    "tags": []
   },
   "outputs": [
    {
     "data": {
      "text/plain": [
       "0.3"
      ]
     },
     "execution_count": 44,
     "metadata": {},
     "output_type": "execute_result"
    }
   ],
   "source": [
    "from sklearn.metrics import mean_absolute_error\n",
    "mean_absolute_error(ytest, ypred)"
   ]
  },
  {
   "cell_type": "markdown",
   "id": "041bf28b",
   "metadata": {
    "papermill": {
     "duration": 0.071432,
     "end_time": "2021-12-19T18:59:21.127514",
     "exception": false,
     "start_time": "2021-12-19T18:59:21.056082",
     "status": "completed"
    },
    "tags": []
   },
   "source": [
    "# Logistic Regression"
   ]
  },
  {
   "cell_type": "markdown",
   "id": "582a9b5f",
   "metadata": {
    "papermill": {
     "duration": 0.071552,
     "end_time": "2021-12-19T18:59:21.273246",
     "exception": false,
     "start_time": "2021-12-19T18:59:21.201694",
     "status": "completed"
    },
    "tags": []
   },
   "source": [
    "![](https://static.javatpoint.com/tutorial/machine-learning/images/linear-regression-vs-logistic-regression.png)"
   ]
  },
  {
   "cell_type": "code",
   "execution_count": 45,
   "id": "64aaffff",
   "metadata": {
    "execution": {
     "iopub.execute_input": "2021-12-19T18:59:21.420092Z",
     "iopub.status.busy": "2021-12-19T18:59:21.419392Z",
     "iopub.status.idle": "2021-12-19T18:59:21.424340Z",
     "shell.execute_reply": "2021-12-19T18:59:21.424849Z",
     "shell.execute_reply.started": "2021-12-19T18:33:15.399701Z"
    },
    "papermill": {
     "duration": 0.081138,
     "end_time": "2021-12-19T18:59:21.425018",
     "exception": false,
     "start_time": "2021-12-19T18:59:21.343880",
     "status": "completed"
    },
    "tags": []
   },
   "outputs": [],
   "source": [
    "xtrain,xtest,ytrain,ytest=train_test_split(x,y,test_size=0.2)"
   ]
  },
  {
   "cell_type": "code",
   "execution_count": 46,
   "id": "6de75ea1",
   "metadata": {
    "execution": {
     "iopub.execute_input": "2021-12-19T18:59:21.573736Z",
     "iopub.status.busy": "2021-12-19T18:59:21.573013Z",
     "iopub.status.idle": "2021-12-19T18:59:21.574676Z",
     "shell.execute_reply": "2021-12-19T18:59:21.575123Z",
     "shell.execute_reply.started": "2021-12-19T18:33:15.409996Z"
    },
    "papermill": {
     "duration": 0.077847,
     "end_time": "2021-12-19T18:59:21.575302",
     "exception": false,
     "start_time": "2021-12-19T18:59:21.497455",
     "status": "completed"
    },
    "tags": []
   },
   "outputs": [],
   "source": [
    "from sklearn.linear_model import LogisticRegression\n",
    "LGR=LogisticRegression()\n"
   ]
  },
  {
   "cell_type": "code",
   "execution_count": 47,
   "id": "728742ab",
   "metadata": {
    "execution": {
     "iopub.execute_input": "2021-12-19T18:59:21.720140Z",
     "iopub.status.busy": "2021-12-19T18:59:21.719502Z",
     "iopub.status.idle": "2021-12-19T18:59:21.747119Z",
     "shell.execute_reply": "2021-12-19T18:59:21.747727Z",
     "shell.execute_reply.started": "2021-12-19T18:33:15.419404Z"
    },
    "papermill": {
     "duration": 0.101635,
     "end_time": "2021-12-19T18:59:21.747903",
     "exception": false,
     "start_time": "2021-12-19T18:59:21.646268",
     "status": "completed"
    },
    "tags": []
   },
   "outputs": [
    {
     "data": {
      "text/plain": [
       "LogisticRegression()"
      ]
     },
     "execution_count": 47,
     "metadata": {},
     "output_type": "execute_result"
    }
   ],
   "source": [
    "LGR.fit(xtrain,ytrain)"
   ]
  },
  {
   "cell_type": "code",
   "execution_count": 48,
   "id": "66cba0a9",
   "metadata": {
    "execution": {
     "iopub.execute_input": "2021-12-19T18:59:21.898450Z",
     "iopub.status.busy": "2021-12-19T18:59:21.894834Z",
     "iopub.status.idle": "2021-12-19T18:59:21.900714Z",
     "shell.execute_reply": "2021-12-19T18:59:21.901180Z",
     "shell.execute_reply.started": "2021-12-19T18:33:15.463998Z"
    },
    "papermill": {
     "duration": 0.081405,
     "end_time": "2021-12-19T18:59:21.901354",
     "exception": false,
     "start_time": "2021-12-19T18:59:21.819949",
     "status": "completed"
    },
    "tags": []
   },
   "outputs": [],
   "source": [
    "ypred=LGR.predict(xtest)"
   ]
  },
  {
   "cell_type": "code",
   "execution_count": 49,
   "id": "fcbcc091",
   "metadata": {
    "execution": {
     "iopub.execute_input": "2021-12-19T18:59:22.051481Z",
     "iopub.status.busy": "2021-12-19T18:59:22.050298Z",
     "iopub.status.idle": "2021-12-19T18:59:22.055102Z",
     "shell.execute_reply": "2021-12-19T18:59:22.055722Z",
     "shell.execute_reply.started": "2021-12-19T18:33:15.473267Z"
    },
    "papermill": {
     "duration": 0.083605,
     "end_time": "2021-12-19T18:59:22.055910",
     "exception": false,
     "start_time": "2021-12-19T18:59:21.972305",
     "status": "completed"
    },
    "tags": []
   },
   "outputs": [
    {
     "data": {
      "text/plain": [
       "0.8166666666666667"
      ]
     },
     "execution_count": 49,
     "metadata": {},
     "output_type": "execute_result"
    }
   ],
   "source": [
    "LGR.score(xtest,ytest)"
   ]
  },
  {
   "cell_type": "code",
   "execution_count": 50,
   "id": "dda17886",
   "metadata": {
    "execution": {
     "iopub.execute_input": "2021-12-19T18:59:22.207429Z",
     "iopub.status.busy": "2021-12-19T18:59:22.206386Z",
     "iopub.status.idle": "2021-12-19T18:59:22.212173Z",
     "shell.execute_reply": "2021-12-19T18:59:22.212796Z",
     "shell.execute_reply.started": "2021-12-19T18:33:15.488941Z"
    },
    "papermill": {
     "duration": 0.085761,
     "end_time": "2021-12-19T18:59:22.212973",
     "exception": false,
     "start_time": "2021-12-19T18:59:22.127212",
     "status": "completed"
    },
    "tags": []
   },
   "outputs": [
    {
     "data": {
      "text/plain": [
       "0.18333333333333332"
      ]
     },
     "execution_count": 50,
     "metadata": {},
     "output_type": "execute_result"
    }
   ],
   "source": [
    "from sklearn.metrics import mean_absolute_error\n",
    "mean_absolute_error(ytest, ypred)"
   ]
  },
  {
   "cell_type": "markdown",
   "id": "f191405c",
   "metadata": {
    "papermill": {
     "duration": 0.072639,
     "end_time": "2021-12-19T18:59:22.377706",
     "exception": false,
     "start_time": "2021-12-19T18:59:22.305067",
     "status": "completed"
    },
    "tags": []
   },
   "source": [
    "# KNeighborsClassifier"
   ]
  },
  {
   "cell_type": "markdown",
   "id": "c9b1b43e",
   "metadata": {
    "papermill": {
     "duration": 0.070982,
     "end_time": "2021-12-19T18:59:22.520324",
     "exception": false,
     "start_time": "2021-12-19T18:59:22.449342",
     "status": "completed"
    },
    "tags": []
   },
   "source": [
    "![](https://static.javatpoint.com/tutorial/machine-learning/images/k-nearest-neighbor-algorithm-for-machine-learning2.png)"
   ]
  },
  {
   "cell_type": "code",
   "execution_count": 51,
   "id": "b9300df2",
   "metadata": {
    "execution": {
     "iopub.execute_input": "2021-12-19T18:59:22.666650Z",
     "iopub.status.busy": "2021-12-19T18:59:22.666001Z",
     "iopub.status.idle": "2021-12-19T18:59:22.676429Z",
     "shell.execute_reply": "2021-12-19T18:59:22.677162Z",
     "shell.execute_reply.started": "2021-12-19T18:33:15.498636Z"
    },
    "papermill": {
     "duration": 0.085236,
     "end_time": "2021-12-19T18:59:22.677370",
     "exception": false,
     "start_time": "2021-12-19T18:59:22.592134",
     "status": "completed"
    },
    "tags": []
   },
   "outputs": [
    {
     "data": {
      "text/plain": [
       "KNeighborsClassifier()"
      ]
     },
     "execution_count": 51,
     "metadata": {},
     "output_type": "execute_result"
    }
   ],
   "source": [
    "from sklearn.neighbors import KNeighborsClassifier\n",
    "KNN=KNeighborsClassifier()\n",
    "KNN.fit(xtrain,ytrain)"
   ]
  },
  {
   "cell_type": "code",
   "execution_count": 52,
   "id": "1f95ab5b",
   "metadata": {
    "execution": {
     "iopub.execute_input": "2021-12-19T18:59:22.825450Z",
     "iopub.status.busy": "2021-12-19T18:59:22.824801Z",
     "iopub.status.idle": "2021-12-19T18:59:22.835740Z",
     "shell.execute_reply": "2021-12-19T18:59:22.836344Z",
     "shell.execute_reply.started": "2021-12-19T18:33:15.515804Z"
    },
    "papermill": {
     "duration": 0.086402,
     "end_time": "2021-12-19T18:59:22.836529",
     "exception": false,
     "start_time": "2021-12-19T18:59:22.750127",
     "status": "completed"
    },
    "tags": []
   },
   "outputs": [
    {
     "data": {
      "text/plain": [
       "array([0, 0, 0, 1, 0, 0, 0, 0, 0, 0, 0, 0, 0, 0, 0, 0, 1, 0, 1, 0, 0, 0,\n",
       "       1, 0, 0, 0, 1, 0, 0, 0, 0, 0, 0, 0, 0, 1, 0, 0, 0, 0, 0, 0, 0, 0,\n",
       "       0, 0, 1, 0, 1, 1, 0, 0, 0, 0, 0, 0, 0, 0, 0, 0])"
      ]
     },
     "execution_count": 52,
     "metadata": {},
     "output_type": "execute_result"
    }
   ],
   "source": [
    "KNN.predict(xtest)"
   ]
  },
  {
   "cell_type": "code",
   "execution_count": 53,
   "id": "f7681798",
   "metadata": {
    "execution": {
     "iopub.execute_input": "2021-12-19T18:59:22.984877Z",
     "iopub.status.busy": "2021-12-19T18:59:22.984202Z",
     "iopub.status.idle": "2021-12-19T18:59:22.994868Z",
     "shell.execute_reply": "2021-12-19T18:59:22.995405Z",
     "shell.execute_reply.started": "2021-12-19T18:33:15.531566Z"
    },
    "papermill": {
     "duration": 0.087224,
     "end_time": "2021-12-19T18:59:22.995608",
     "exception": false,
     "start_time": "2021-12-19T18:59:22.908384",
     "status": "completed"
    },
    "tags": []
   },
   "outputs": [
    {
     "data": {
      "text/plain": [
       "0.6833333333333333"
      ]
     },
     "execution_count": 53,
     "metadata": {},
     "output_type": "execute_result"
    }
   ],
   "source": [
    "KNN.score(xtest,ytest)"
   ]
  },
  {
   "cell_type": "markdown",
   "id": "caebcf8e",
   "metadata": {
    "papermill": {
     "duration": 0.072189,
     "end_time": "2021-12-19T18:59:23.143199",
     "exception": false,
     "start_time": "2021-12-19T18:59:23.071010",
     "status": "completed"
    },
    "tags": []
   },
   "source": [
    "# Naive Bayes"
   ]
  },
  {
   "cell_type": "markdown",
   "id": "cbf83fb7",
   "metadata": {
    "papermill": {
     "duration": 0.072589,
     "end_time": "2021-12-19T18:59:23.289209",
     "exception": false,
     "start_time": "2021-12-19T18:59:23.216620",
     "status": "completed"
    },
    "tags": []
   },
   "source": [
    "![](https://www.astroml.org/_images/fig_simple_naivebayes_1.png)"
   ]
  },
  {
   "cell_type": "code",
   "execution_count": 54,
   "id": "ae6a07ad",
   "metadata": {
    "execution": {
     "iopub.execute_input": "2021-12-19T18:59:23.437778Z",
     "iopub.status.busy": "2021-12-19T18:59:23.437072Z",
     "iopub.status.idle": "2021-12-19T18:59:23.449693Z",
     "shell.execute_reply": "2021-12-19T18:59:23.450218Z",
     "shell.execute_reply.started": "2021-12-19T18:33:15.54482Z"
    },
    "papermill": {
     "duration": 0.088931,
     "end_time": "2021-12-19T18:59:23.450390",
     "exception": false,
     "start_time": "2021-12-19T18:59:23.361459",
     "status": "completed"
    },
    "tags": []
   },
   "outputs": [
    {
     "data": {
      "text/plain": [
       "array([0, 0, 1, 0, 0, 0, 0, 0, 0, 0, 1, 1, 0, 1, 1, 0, 0, 0, 0, 1, 0, 0,\n",
       "       0, 1, 0, 0, 0, 1, 1, 0, 0, 0, 0, 0, 0, 0, 1, 0, 0, 0, 0, 0, 0, 0,\n",
       "       0, 1, 0, 0, 0, 0, 1, 0, 0, 1, 0, 0, 0, 0, 0, 1])"
      ]
     },
     "execution_count": 54,
     "metadata": {},
     "output_type": "execute_result"
    }
   ],
   "source": [
    "from sklearn.naive_bayes import GaussianNB\n",
    "gnb = GaussianNB()\n",
    "ypred = gnb.fit(xtrain, ytrain).predict(xtest)\n",
    "ypred"
   ]
  },
  {
   "cell_type": "code",
   "execution_count": 55,
   "id": "83058aa9",
   "metadata": {
    "execution": {
     "iopub.execute_input": "2021-12-19T18:59:23.602356Z",
     "iopub.status.busy": "2021-12-19T18:59:23.599237Z",
     "iopub.status.idle": "2021-12-19T18:59:23.607760Z",
     "shell.execute_reply": "2021-12-19T18:59:23.607103Z",
     "shell.execute_reply.started": "2021-12-19T18:33:15.564285Z"
    },
    "papermill": {
     "duration": 0.084711,
     "end_time": "2021-12-19T18:59:23.607905",
     "exception": false,
     "start_time": "2021-12-19T18:59:23.523194",
     "status": "completed"
    },
    "tags": []
   },
   "outputs": [
    {
     "data": {
      "text/plain": [
       "0.8"
      ]
     },
     "execution_count": 55,
     "metadata": {},
     "output_type": "execute_result"
    }
   ],
   "source": [
    "gnb.score(xtest,ytest)"
   ]
  },
  {
   "cell_type": "code",
   "execution_count": 56,
   "id": "af6fd7cf",
   "metadata": {
    "execution": {
     "iopub.execute_input": "2021-12-19T18:59:23.758818Z",
     "iopub.status.busy": "2021-12-19T18:59:23.758130Z",
     "iopub.status.idle": "2021-12-19T18:59:23.763744Z",
     "shell.execute_reply": "2021-12-19T18:59:23.764219Z",
     "shell.execute_reply.started": "2021-12-19T18:33:15.573984Z"
    },
    "papermill": {
     "duration": 0.083464,
     "end_time": "2021-12-19T18:59:23.764383",
     "exception": false,
     "start_time": "2021-12-19T18:59:23.680919",
     "status": "completed"
    },
    "tags": []
   },
   "outputs": [
    {
     "data": {
      "text/plain": [
       "0.2"
      ]
     },
     "execution_count": 56,
     "metadata": {},
     "output_type": "execute_result"
    }
   ],
   "source": [
    "from sklearn.metrics import mean_absolute_error\n",
    "mean_absolute_error(ytest, ypred)"
   ]
  },
  {
   "cell_type": "markdown",
   "id": "1ef2038a",
   "metadata": {
    "papermill": {
     "duration": 0.073553,
     "end_time": "2021-12-19T18:59:23.910950",
     "exception": false,
     "start_time": "2021-12-19T18:59:23.837397",
     "status": "completed"
    },
    "tags": []
   },
   "source": [
    "# DecisionTreeClassifier"
   ]
  },
  {
   "cell_type": "markdown",
   "id": "bcaea7bb",
   "metadata": {
    "papermill": {
     "duration": 0.073579,
     "end_time": "2021-12-19T18:59:24.058621",
     "exception": false,
     "start_time": "2021-12-19T18:59:23.985042",
     "status": "completed"
    },
    "tags": []
   },
   "source": [
    "![](https://miro.medium.com/max/1200/1*xGsYc6aXehD7lyoLEn-mMA.png)"
   ]
  },
  {
   "cell_type": "code",
   "execution_count": 57,
   "id": "3e881570",
   "metadata": {
    "execution": {
     "iopub.execute_input": "2021-12-19T18:59:24.211184Z",
     "iopub.status.busy": "2021-12-19T18:59:24.210083Z",
     "iopub.status.idle": "2021-12-19T18:59:24.221686Z",
     "shell.execute_reply": "2021-12-19T18:59:24.222186Z",
     "shell.execute_reply.started": "2021-12-19T18:33:15.586384Z"
    },
    "papermill": {
     "duration": 0.089039,
     "end_time": "2021-12-19T18:59:24.222357",
     "exception": false,
     "start_time": "2021-12-19T18:59:24.133318",
     "status": "completed"
    },
    "tags": []
   },
   "outputs": [
    {
     "data": {
      "text/plain": [
       "array([0, 0, 0, 0, 0, 0, 0, 0, 0, 0, 1, 1, 0, 1, 1, 0, 0, 0, 1, 1, 1, 0,\n",
       "       0, 1, 0, 0, 0, 0, 0, 1, 0, 0, 0, 0, 0, 1, 0, 0, 0, 0, 0, 0, 0, 0,\n",
       "       1, 1, 0, 0, 0, 0, 1, 0, 0, 1, 0, 0, 1, 0, 0, 1])"
      ]
     },
     "execution_count": 57,
     "metadata": {},
     "output_type": "execute_result"
    }
   ],
   "source": [
    "from sklearn.tree import DecisionTreeClassifier\n",
    "mytree=DecisionTreeClassifier(max_depth=8)\n",
    "mytree.fit(xtrain,ytrain)\n",
    "ypred=mytree.predict(xtest)\n",
    "ypred"
   ]
  },
  {
   "cell_type": "code",
   "execution_count": 58,
   "id": "66e0cbed",
   "metadata": {
    "execution": {
     "iopub.execute_input": "2021-12-19T18:59:24.373663Z",
     "iopub.status.busy": "2021-12-19T18:59:24.372628Z",
     "iopub.status.idle": "2021-12-19T18:59:24.380396Z",
     "shell.execute_reply": "2021-12-19T18:59:24.380928Z",
     "shell.execute_reply.started": "2021-12-19T18:33:15.601838Z"
    },
    "papermill": {
     "duration": 0.085117,
     "end_time": "2021-12-19T18:59:24.381097",
     "exception": false,
     "start_time": "2021-12-19T18:59:24.295980",
     "status": "completed"
    },
    "tags": []
   },
   "outputs": [
    {
     "data": {
      "text/plain": [
       "0.7333333333333333"
      ]
     },
     "execution_count": 58,
     "metadata": {},
     "output_type": "execute_result"
    }
   ],
   "source": [
    "mytree.score(xtest,ytest)"
   ]
  },
  {
   "cell_type": "code",
   "execution_count": 59,
   "id": "dd574508",
   "metadata": {
    "execution": {
     "iopub.execute_input": "2021-12-19T18:59:24.533213Z",
     "iopub.status.busy": "2021-12-19T18:59:24.531985Z",
     "iopub.status.idle": "2021-12-19T18:59:24.538294Z",
     "shell.execute_reply": "2021-12-19T18:59:24.538771Z",
     "shell.execute_reply.started": "2021-12-19T18:33:15.61305Z"
    },
    "papermill": {
     "duration": 0.083853,
     "end_time": "2021-12-19T18:59:24.538951",
     "exception": false,
     "start_time": "2021-12-19T18:59:24.455098",
     "status": "completed"
    },
    "tags": []
   },
   "outputs": [
    {
     "data": {
      "text/plain": [
       "0.26666666666666666"
      ]
     },
     "execution_count": 59,
     "metadata": {},
     "output_type": "execute_result"
    }
   ],
   "source": [
    "from sklearn.metrics import mean_absolute_error\n",
    "mean_absolute_error(ytest, ypred)"
   ]
  },
  {
   "cell_type": "markdown",
   "id": "87b83945",
   "metadata": {
    "papermill": {
     "duration": 0.073989,
     "end_time": "2021-12-19T18:59:24.687902",
     "exception": false,
     "start_time": "2021-12-19T18:59:24.613913",
     "status": "completed"
    },
    "tags": []
   },
   "source": [
    "# ExtraTreeClassifier"
   ]
  },
  {
   "cell_type": "markdown",
   "id": "c8d484f7",
   "metadata": {
    "papermill": {
     "duration": 0.074533,
     "end_time": "2021-12-19T18:59:24.837081",
     "exception": false,
     "start_time": "2021-12-19T18:59:24.762548",
     "status": "completed"
    },
    "tags": []
   },
   "source": [
    "![](https://sigopt.com/wp-content/uploads/2018/10/majority-weighted-voting.png)"
   ]
  },
  {
   "cell_type": "code",
   "execution_count": 60,
   "id": "1ea4eccf",
   "metadata": {
    "execution": {
     "iopub.execute_input": "2021-12-19T18:59:24.994521Z",
     "iopub.status.busy": "2021-12-19T18:59:24.993450Z",
     "iopub.status.idle": "2021-12-19T18:59:25.000534Z",
     "shell.execute_reply": "2021-12-19T18:59:25.000989Z",
     "shell.execute_reply.started": "2021-12-19T18:33:15.626578Z"
    },
    "papermill": {
     "duration": 0.088859,
     "end_time": "2021-12-19T18:59:25.001165",
     "exception": false,
     "start_time": "2021-12-19T18:59:24.912306",
     "status": "completed"
    },
    "tags": []
   },
   "outputs": [
    {
     "data": {
      "text/plain": [
       "array([0, 0, 1, 0, 0, 1, 0, 0, 0, 0, 1, 0, 0, 0, 0, 1, 0, 0, 1, 1, 1, 0,\n",
       "       0, 1, 0, 0, 0, 0, 0, 1, 0, 0, 0, 0, 0, 1, 1, 0, 0, 0, 0, 0, 0, 0,\n",
       "       0, 0, 0, 0, 0, 0, 1, 0, 0, 1, 0, 0, 0, 0, 0, 1])"
      ]
     },
     "execution_count": 60,
     "metadata": {},
     "output_type": "execute_result"
    }
   ],
   "source": [
    "from sklearn.tree import ExtraTreeClassifier\n",
    "extree=ExtraTreeClassifier()\n",
    "extree.fit(xtrain,ytrain)\n",
    "ypred=extree.predict(xtest)\n",
    "ypred"
   ]
  },
  {
   "cell_type": "code",
   "execution_count": 61,
   "id": "b33b40a0",
   "metadata": {
    "execution": {
     "iopub.execute_input": "2021-12-19T18:59:25.155077Z",
     "iopub.status.busy": "2021-12-19T18:59:25.154110Z",
     "iopub.status.idle": "2021-12-19T18:59:25.161964Z",
     "shell.execute_reply": "2021-12-19T18:59:25.162518Z",
     "shell.execute_reply.started": "2021-12-19T18:33:15.644051Z"
    },
    "papermill": {
     "duration": 0.085863,
     "end_time": "2021-12-19T18:59:25.162699",
     "exception": false,
     "start_time": "2021-12-19T18:59:25.076836",
     "status": "completed"
    },
    "tags": []
   },
   "outputs": [
    {
     "data": {
      "text/plain": [
       "0.7333333333333333"
      ]
     },
     "execution_count": 61,
     "metadata": {},
     "output_type": "execute_result"
    }
   ],
   "source": [
    "extree.score(xtest,ytest)"
   ]
  },
  {
   "cell_type": "code",
   "execution_count": 62,
   "id": "00744431",
   "metadata": {
    "execution": {
     "iopub.execute_input": "2021-12-19T18:59:25.317163Z",
     "iopub.status.busy": "2021-12-19T18:59:25.316522Z",
     "iopub.status.idle": "2021-12-19T18:59:25.321766Z",
     "shell.execute_reply": "2021-12-19T18:59:25.322339Z",
     "shell.execute_reply.started": "2021-12-19T18:33:15.653337Z"
    },
    "papermill": {
     "duration": 0.08347,
     "end_time": "2021-12-19T18:59:25.322535",
     "exception": false,
     "start_time": "2021-12-19T18:59:25.239065",
     "status": "completed"
    },
    "tags": []
   },
   "outputs": [
    {
     "data": {
      "text/plain": [
       "0.26666666666666666"
      ]
     },
     "execution_count": 62,
     "metadata": {},
     "output_type": "execute_result"
    }
   ],
   "source": [
    "from sklearn.metrics import mean_absolute_error\n",
    "mean_absolute_error(ytest, ypred)"
   ]
  }
 ],
 "metadata": {
  "kernelspec": {
   "display_name": "Python 3",
   "language": "python",
   "name": "python3"
  },
  "language_info": {
   "codemirror_mode": {
    "name": "ipython",
    "version": 3
   },
   "file_extension": ".py",
   "mimetype": "text/x-python",
   "name": "python",
   "nbconvert_exporter": "python",
   "pygments_lexer": "ipython3",
   "version": "3.7.12"
  },
  "papermill": {
   "default_parameters": {},
   "duration": 24.792313,
   "end_time": "2021-12-19T18:59:26.107250",
   "environment_variables": {},
   "exception": null,
   "input_path": "__notebook__.ipynb",
   "output_path": "__notebook__.ipynb",
   "parameters": {},
   "start_time": "2021-12-19T18:59:01.314937",
   "version": "2.3.3"
  }
 },
 "nbformat": 4,
 "nbformat_minor": 5
}
