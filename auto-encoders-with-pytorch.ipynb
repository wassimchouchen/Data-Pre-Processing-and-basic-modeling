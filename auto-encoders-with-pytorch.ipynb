{
 "cells": [
  {
   "cell_type": "markdown",
   "id": "cbec3784",
   "metadata": {
    "papermill": {
     "duration": 0.007186,
     "end_time": "2022-07-15T21:06:29.014485",
     "exception": false,
     "start_time": "2022-07-15T21:06:29.007299",
     "status": "completed"
    },
    "tags": []
   },
   "source": [
    "## Autoencoder"
   ]
  },
  {
   "cell_type": "code",
   "execution_count": 1,
   "id": "bb137e96",
   "metadata": {
    "execution": {
     "iopub.execute_input": "2022-07-15T21:06:29.027798Z",
     "iopub.status.busy": "2022-07-15T21:06:29.027496Z",
     "iopub.status.idle": "2022-07-15T21:06:31.139950Z",
     "shell.execute_reply": "2022-07-15T21:06:31.139027Z"
    },
    "papermill": {
     "duration": 2.121815,
     "end_time": "2022-07-15T21:06:31.142323",
     "exception": false,
     "start_time": "2022-07-15T21:06:29.020508",
     "status": "completed"
    },
    "tags": []
   },
   "outputs": [],
   "source": [
    "import numpy as np\n",
    "import torch"
   ]
  },
  {
   "cell_type": "code",
   "execution_count": 2,
   "id": "6465e9ea",
   "metadata": {
    "execution": {
     "iopub.execute_input": "2022-07-15T21:06:31.155863Z",
     "iopub.status.busy": "2022-07-15T21:06:31.155456Z",
     "iopub.status.idle": "2022-07-15T21:06:33.725371Z",
     "shell.execute_reply": "2022-07-15T21:06:33.724457Z"
    },
    "papermill": {
     "duration": 2.578878,
     "end_time": "2022-07-15T21:06:33.727812",
     "exception": false,
     "start_time": "2022-07-15T21:06:31.148934",
     "status": "completed"
    },
    "tags": []
   },
   "outputs": [
    {
     "name": "stdout",
     "output_type": "stream",
     "text": [
      "Downloading http://yann.lecun.com/exdb/mnist/train-images-idx3-ubyte.gz\n",
      "Downloading http://yann.lecun.com/exdb/mnist/train-images-idx3-ubyte.gz to ./data/MNIST/raw/train-images-idx3-ubyte.gz\n"
     ]
    },
    {
     "data": {
      "application/vnd.jupyter.widget-view+json": {
       "model_id": "6d08e82e57b64269a5681dfa8c864560",
       "version_major": 2,
       "version_minor": 0
      },
      "text/plain": [
       "  0%|          | 0/9912422 [00:00<?, ?it/s]"
      ]
     },
     "metadata": {},
     "output_type": "display_data"
    },
    {
     "name": "stdout",
     "output_type": "stream",
     "text": [
      "Extracting ./data/MNIST/raw/train-images-idx3-ubyte.gz to ./data/MNIST/raw\n",
      "\n",
      "Downloading http://yann.lecun.com/exdb/mnist/train-labels-idx1-ubyte.gz\n",
      "Downloading http://yann.lecun.com/exdb/mnist/train-labels-idx1-ubyte.gz to ./data/MNIST/raw/train-labels-idx1-ubyte.gz\n"
     ]
    },
    {
     "data": {
      "application/vnd.jupyter.widget-view+json": {
       "model_id": "e7f17624faac47a08951104936d89149",
       "version_major": 2,
       "version_minor": 0
      },
      "text/plain": [
       "  0%|          | 0/28881 [00:00<?, ?it/s]"
      ]
     },
     "metadata": {},
     "output_type": "display_data"
    },
    {
     "name": "stdout",
     "output_type": "stream",
     "text": [
      "Extracting ./data/MNIST/raw/train-labels-idx1-ubyte.gz to ./data/MNIST/raw\n",
      "\n",
      "Downloading http://yann.lecun.com/exdb/mnist/t10k-images-idx3-ubyte.gz\n",
      "Downloading http://yann.lecun.com/exdb/mnist/t10k-images-idx3-ubyte.gz to ./data/MNIST/raw/t10k-images-idx3-ubyte.gz\n"
     ]
    },
    {
     "data": {
      "application/vnd.jupyter.widget-view+json": {
       "model_id": "4cbe0acda33b4ddebe3e1860fdca1e5c",
       "version_major": 2,
       "version_minor": 0
      },
      "text/plain": [
       "  0%|          | 0/1648877 [00:00<?, ?it/s]"
      ]
     },
     "metadata": {},
     "output_type": "display_data"
    },
    {
     "name": "stdout",
     "output_type": "stream",
     "text": [
      "Extracting ./data/MNIST/raw/t10k-images-idx3-ubyte.gz to ./data/MNIST/raw\n",
      "\n",
      "Downloading http://yann.lecun.com/exdb/mnist/t10k-labels-idx1-ubyte.gz\n",
      "Downloading http://yann.lecun.com/exdb/mnist/t10k-labels-idx1-ubyte.gz to ./data/MNIST/raw/t10k-labels-idx1-ubyte.gz\n"
     ]
    },
    {
     "data": {
      "application/vnd.jupyter.widget-view+json": {
       "model_id": "2601087844904d87bd7182511cf4ace6",
       "version_major": 2,
       "version_minor": 0
      },
      "text/plain": [
       "  0%|          | 0/4542 [00:00<?, ?it/s]"
      ]
     },
     "metadata": {},
     "output_type": "display_data"
    },
    {
     "name": "stdout",
     "output_type": "stream",
     "text": [
      "Extracting ./data/MNIST/raw/t10k-labels-idx1-ubyte.gz to ./data/MNIST/raw\n",
      "\n"
     ]
    }
   ],
   "source": [
    "from torchvision import datasets\n",
    "from torch.utils.data import DataLoader\n",
    "from torchvision import transforms\n",
    "totensor = transforms.ToTensor()\n",
    "traindata = datasets.MNIST(download=True, root = \"./data\", train = True, transform = totensor)\n",
    "testdata = datasets.MNIST(download=True, root = \"./data\", train = False, transform = totensor)\n",
    "trainloader = DataLoader(dataset = traindata, batch_size = 64, shuffle = True)\n",
    "testloader = DataLoader(dataset = testdata, batch_size = 64, shuffle = True)"
   ]
  },
  {
   "cell_type": "code",
   "execution_count": 3,
   "id": "c634f05c",
   "metadata": {
    "execution": {
     "iopub.execute_input": "2022-07-15T21:06:33.743097Z",
     "iopub.status.busy": "2022-07-15T21:06:33.742318Z",
     "iopub.status.idle": "2022-07-15T21:06:36.928600Z",
     "shell.execute_reply": "2022-07-15T21:06:36.927603Z"
    },
    "papermill": {
     "duration": 3.196334,
     "end_time": "2022-07-15T21:06:36.931234",
     "exception": false,
     "start_time": "2022-07-15T21:06:33.734900",
     "status": "completed"
    },
    "tags": []
   },
   "outputs": [],
   "source": [
    "class autoencoder(torch.nn.Module):\n",
    "    def __init__(self, lat_dim):\n",
    "        super().__init__()\n",
    "        self.encoder = torch.nn.Sequential(torch.nn.Linear(28*28, lat_dim), torch.nn.ReLU())\n",
    "        self.decoder = torch.nn.Sequential(torch.nn.Linear(lat_dim, 28*28), torch.nn.Sigmoid())\n",
    "    def forward(self,x):\n",
    "        return self.decoder(self.encoder(x))\n",
    "\n",
    "model = autoencoder(32).cuda()\n",
    "loss_function = torch.nn.MSELoss()\n",
    "  \n",
    "# Using an Adam Optimizer with lr = 0.1\n",
    "optimizer = torch.optim.Adam(model.parameters())"
   ]
  },
  {
   "cell_type": "code",
   "execution_count": 4,
   "id": "0052a3d7",
   "metadata": {
    "execution": {
     "iopub.execute_input": "2022-07-15T21:06:36.946044Z",
     "iopub.status.busy": "2022-07-15T21:06:36.945499Z",
     "iopub.status.idle": "2022-07-15T21:06:36.953003Z",
     "shell.execute_reply": "2022-07-15T21:06:36.952091Z"
    },
    "papermill": {
     "duration": 0.016987,
     "end_time": "2022-07-15T21:06:36.954943",
     "exception": false,
     "start_time": "2022-07-15T21:06:36.937956",
     "status": "completed"
    },
    "tags": []
   },
   "outputs": [],
   "source": [
    "def train(model, epochs):\n",
    "    for epoch in range(epochs):\n",
    "        trlosses = []\n",
    "        tslosses = []\n",
    "        for (images, other) in trainloader:\n",
    "            images = images.reshape(-1, 28*28).cuda()\n",
    "            output = model(images)\n",
    "            loss = loss_function(output, images)\n",
    "            trlosses.append(loss)\n",
    "            optimizer.zero_grad()\n",
    "            loss.backward()\n",
    "            optimizer.step()\n",
    "        for (images, other) in testloader:\n",
    "            images = images.reshape(-1, 28*28).cuda()\n",
    "            output = model(images)\n",
    "            loss = loss_function(output, images)\n",
    "            tslosses.append(loss)\n",
    "            optimizer.zero_grad()\n",
    "        print(f\"epoch {epoch}:\\nTraining Loss: {sum(trlosses)/len(trlosses)}\\nTesting Loss: {sum(tslosses)/len(tslosses)}\")"
   ]
  },
  {
   "cell_type": "code",
   "execution_count": 5,
   "id": "3455d295",
   "metadata": {
    "execution": {
     "iopub.execute_input": "2022-07-15T21:06:36.968942Z",
     "iopub.status.busy": "2022-07-15T21:06:36.968425Z",
     "iopub.status.idle": "2022-07-15T21:09:06.094722Z",
     "shell.execute_reply": "2022-07-15T21:09:06.093173Z"
    },
    "papermill": {
     "duration": 149.136457,
     "end_time": "2022-07-15T21:09:06.097844",
     "exception": false,
     "start_time": "2022-07-15T21:06:36.961387",
     "status": "completed"
    },
    "tags": []
   },
   "outputs": [
    {
     "name": "stdout",
     "output_type": "stream",
     "text": [
      "epoch 0:\n",
      "Training Loss: 0.04614754766225815\n",
      "Testing Loss: 0.026013238355517387\n",
      "epoch 1:\n",
      "Training Loss: 0.02140062302350998\n",
      "Testing Loss: 0.01768031343817711\n",
      "epoch 2:\n",
      "Training Loss: 0.016468457877635956\n",
      "Testing Loss: 0.014547677710652351\n",
      "epoch 3:\n",
      "Training Loss: 0.014397175051271915\n",
      "Testing Loss: 0.013543264009058475\n",
      "epoch 4:\n",
      "Training Loss: 0.013798221945762634\n",
      "Testing Loss: 0.013230234384536743\n",
      "epoch 5:\n",
      "Training Loss: 0.013530239462852478\n",
      "Testing Loss: 0.013023768551647663\n",
      "epoch 6:\n",
      "Training Loss: 0.013378971256315708\n",
      "Testing Loss: 0.012888055294752121\n",
      "epoch 7:\n",
      "Training Loss: 0.013282462023198605\n",
      "Testing Loss: 0.012837344780564308\n",
      "epoch 8:\n",
      "Training Loss: 0.013208519667387009\n",
      "Testing Loss: 0.012766984291374683\n",
      "epoch 9:\n",
      "Training Loss: 0.013154616579413414\n",
      "Testing Loss: 0.012718777172267437\n",
      "epoch 10:\n",
      "Training Loss: 0.01310912799090147\n",
      "Testing Loss: 0.012669379822909832\n",
      "epoch 11:\n",
      "Training Loss: 0.013072402216494083\n",
      "Testing Loss: 0.012630959041416645\n",
      "epoch 12:\n",
      "Training Loss: 0.013032185845077038\n",
      "Testing Loss: 0.012634249404072762\n",
      "epoch 13:\n",
      "Training Loss: 0.013005563989281654\n",
      "Testing Loss: 0.012642897665500641\n",
      "epoch 14:\n",
      "Training Loss: 0.012989604845643044\n",
      "Testing Loss: 0.012612534686923027\n",
      "epoch 15:\n",
      "Training Loss: 0.012960011139512062\n",
      "Testing Loss: 0.012592429295182228\n",
      "epoch 16:\n",
      "Training Loss: 0.012933840043842793\n",
      "Testing Loss: 0.0125576788559556\n",
      "epoch 17:\n",
      "Training Loss: 0.01290211733430624\n",
      "Testing Loss: 0.012491296976804733\n",
      "epoch 18:\n",
      "Training Loss: 0.012873675674200058\n",
      "Testing Loss: 0.012497386895120144\n",
      "epoch 19:\n",
      "Training Loss: 0.012863213196396828\n",
      "Testing Loss: 0.012509733438491821\n"
     ]
    }
   ],
   "source": [
    "train(model, 20)"
   ]
  },
  {
   "cell_type": "code",
   "execution_count": 6,
   "id": "2d976b90",
   "metadata": {
    "execution": {
     "iopub.execute_input": "2022-07-15T21:09:06.115958Z",
     "iopub.status.busy": "2022-07-15T21:09:06.115683Z",
     "iopub.status.idle": "2022-07-15T21:09:06.120054Z",
     "shell.execute_reply": "2022-07-15T21:09:06.119043Z"
    },
    "papermill": {
     "duration": 0.016131,
     "end_time": "2022-07-15T21:09:06.122191",
     "exception": false,
     "start_time": "2022-07-15T21:09:06.106060",
     "status": "completed"
    },
    "tags": []
   },
   "outputs": [],
   "source": [
    "import matplotlib.pyplot as plt"
   ]
  },
  {
   "cell_type": "code",
   "execution_count": 7,
   "id": "bddbf8ba",
   "metadata": {
    "execution": {
     "iopub.execute_input": "2022-07-15T21:09:06.138210Z",
     "iopub.status.busy": "2022-07-15T21:09:06.137915Z",
     "iopub.status.idle": "2022-07-15T21:09:06.143190Z",
     "shell.execute_reply": "2022-07-15T21:09:06.142378Z"
    },
    "papermill": {
     "duration": 0.015358,
     "end_time": "2022-07-15T21:09:06.144943",
     "exception": false,
     "start_time": "2022-07-15T21:09:06.129585",
     "status": "completed"
    },
    "tags": []
   },
   "outputs": [],
   "source": [
    "import random"
   ]
  },
  {
   "cell_type": "code",
   "execution_count": 8,
   "id": "20161b36",
   "metadata": {
    "execution": {
     "iopub.execute_input": "2022-07-15T21:09:06.161828Z",
     "iopub.status.busy": "2022-07-15T21:09:06.161090Z",
     "iopub.status.idle": "2022-07-15T21:09:06.168555Z",
     "shell.execute_reply": "2022-07-15T21:09:06.167735Z"
    },
    "papermill": {
     "duration": 0.017597,
     "end_time": "2022-07-15T21:09:06.170541",
     "exception": false,
     "start_time": "2022-07-15T21:09:06.152944",
     "status": "completed"
    },
    "tags": []
   },
   "outputs": [],
   "source": [
    "def plot_results(model):\n",
    "    for i in range(10):\n",
    "        ind = random.randint(0,10000)\n",
    "        fig, axes = plt.subplots(nrows=1, ncols=2, figsize=(12,4))\n",
    "        axes[0].imshow(testdata[ind][0].reshape(28,28))\n",
    "        axes[0].set_title(\"Original\")\n",
    "        axes[1].imshow(model.cpu()(testdata[ind][0].reshape(-1)).reshape(28,28).detach().numpy())\n",
    "        axes[1].set_title(\"Reconstruction\")\n",
    "    plt.show()"
   ]
  },
  {
   "cell_type": "code",
   "execution_count": 9,
   "id": "947f2e90",
   "metadata": {
    "execution": {
     "iopub.execute_input": "2022-07-15T21:09:06.186918Z",
     "iopub.status.busy": "2022-07-15T21:09:06.186116Z",
     "iopub.status.idle": "2022-07-15T21:09:08.832020Z",
     "shell.execute_reply": "2022-07-15T21:09:08.831074Z"
    },
    "papermill": {
     "duration": 2.656063,
     "end_time": "2022-07-15T21:09:08.834003",
     "exception": false,
     "start_time": "2022-07-15T21:09:06.177940",
     "status": "completed"
    },
    "tags": []
   },
   "outputs": [
    {
     "data": {
      "image/png": "[encoded data removed]",
      "text/plain": [
       "<Figure size 864x288 with 2 Axes>"
      ]
     },
     "metadata": {
      "needs_background": "light"
     },
     "output_type": "display_data"
    },
    {
     "data": {
      "image/png": "[encoded data removed]",
      "text/plain": [
       "<Figure size 864x288 with 2 Axes>"
      ]
     },
     "metadata": {
      "needs_background": "light"
     },
     "output_type": "display_data"
    },
    {
     "data": {
      "image/png": "[encoded data removed]",
      "text/plain": [
       "<Figure size 864x288 with 2 Axes>"
      ]
     },
     "metadata": {
      "needs_background": "light"
     },
     "output_type": "display_data"
    },
    {
     "data": {
      "image/png": "[encoded data removed]",
      "text/plain": [
       "<Figure size 864x288 with 2 Axes>"
      ]
     },
     "metadata": {
      "needs_background": "light"
     },
     "output_type": "display_data"
    },
    {
     "data": {
      "image/png": "[encoded data removed]",
      "text/plain": [
       "<Figure size 864x288 with 2 Axes>"
      ]
     },
     "metadata": {
      "needs_background": "light"
     },
     "output_type": "display_data"
    },
    {
     "data": {
      "image/png": "[encoded data removed]",
      "text/plain": [
       "<Figure size 864x288 with 2 Axes>"
      ]
     },
     "metadata": {
      "needs_background": "light"
     },
     "output_type": "display_data"
    },
    {
     "data": {
      "image/png": "[encoded data removed]",
      "text/plain": [
       "<Figure size 864x288 with 2 Axes>"
      ]
     },
     "metadata": {
      "needs_background": "light"
     },
     "output_type": "display_data"
    },
    {
     "data": {
      "image/png": "[encoded data removed]",
      "text/plain": [
       "<Figure size 864x288 with 2 Axes>"
      ]
     },
     "metadata": {
      "needs_background": "light"
     },
     "output_type": "display_data"
    },
    {
     "data": {
      "image/png": "[encoded data removed]",
      "text/plain": [
       "<Figure size 864x288 with 2 Axes>"
      ]
     },
     "metadata": {
      "needs_background": "light"
     },
     "output_type": "display_data"
    },
    {
     "data": {
      "image/png": "[encoded data removed]",
      "text/plain": [
       "<Figure size 864x288 with 2 Axes>"
      ]
     },
     "metadata": {
      "needs_background": "light"
     },
     "output_type": "display_data"
    }
   ],
   "source": [
    "plot_results(model)"
   ]
  },
  {
   "cell_type": "markdown",
   "id": "d64b9f54",
   "metadata": {
    "papermill": {
     "duration": 0.010011,
     "end_time": "2022-07-15T21:09:08.854850",
     "exception": false,
     "start_time": "2022-07-15T21:09:08.844839",
     "status": "completed"
    },
    "tags": []
   },
   "source": [
    "## Deep autoencoder"
   ]
  },
  {
   "cell_type": "code",
   "execution_count": 10,
   "id": "4a09e042",
   "metadata": {
    "execution": {
     "iopub.execute_input": "2022-07-15T21:09:08.877364Z",
     "iopub.status.busy": "2022-07-15T21:09:08.875811Z",
     "iopub.status.idle": "2022-07-15T21:09:08.886182Z",
     "shell.execute_reply": "2022-07-15T21:09:08.885378Z"
    },
    "papermill": {
     "duration": 0.023235,
     "end_time": "2022-07-15T21:09:08.888059",
     "exception": false,
     "start_time": "2022-07-15T21:09:08.864824",
     "status": "completed"
    },
    "tags": []
   },
   "outputs": [],
   "source": [
    "class deepautoencoder(torch.nn.Module):\n",
    "    def __init__(self, lat_dim):\n",
    "        super().__init__()\n",
    "        self.encoder = torch.nn.Sequential(torch.nn.Linear(28*28, lat_dim*8),\n",
    "                                           torch.nn.ReLU(),\n",
    "                                           torch.nn.Linear(lat_dim*8, lat_dim*4),\n",
    "                                           torch.nn.ReLU(),\n",
    "                                           torch.nn.Linear(lat_dim*4, lat_dim*2),\n",
    "                                           torch.nn.ReLU(),\n",
    "                                           torch.nn.Linear(lat_dim*2, lat_dim),\n",
    "                                           torch.nn.ReLU(),)\n",
    "        self.decoder = torch.nn.Sequential(torch.nn.Linear(lat_dim, lat_dim*2),\n",
    "                                           torch.nn.ReLU(),\n",
    "                                           torch.nn.Linear(lat_dim*2, lat_dim*4),\n",
    "                                           torch.nn.ReLU(),\n",
    "                                           torch.nn.Linear(lat_dim*4, lat_dim*8),\n",
    "                                           torch.nn.ReLU(),\n",
    "                                           torch.nn.Linear(lat_dim*8, 28*28),\n",
    "                                           torch.nn.Sigmoid())\n",
    "    def forward(self,x):\n",
    "        return self.decoder(self.encoder(x))"
   ]
  },
  {
   "cell_type": "code",
   "execution_count": 11,
   "id": "db54d450",
   "metadata": {
    "execution": {
     "iopub.execute_input": "2022-07-15T21:09:08.908496Z",
     "iopub.status.busy": "2022-07-15T21:09:08.908219Z",
     "iopub.status.idle": "2022-07-15T21:09:08.918359Z",
     "shell.execute_reply": "2022-07-15T21:09:08.917543Z"
    },
    "papermill": {
     "duration": 0.022952,
     "end_time": "2022-07-15T21:09:08.920689",
     "exception": false,
     "start_time": "2022-07-15T21:09:08.897737",
     "status": "completed"
    },
    "tags": []
   },
   "outputs": [],
   "source": [
    "deepmodel = deepautoencoder(32).cuda()"
   ]
  },
  {
   "cell_type": "code",
   "execution_count": 12,
   "id": "fce16439",
   "metadata": {
    "execution": {
     "iopub.execute_input": "2022-07-15T21:09:08.940964Z",
     "iopub.status.busy": "2022-07-15T21:09:08.940719Z",
     "iopub.status.idle": "2022-07-15T21:09:08.944987Z",
     "shell.execute_reply": "2022-07-15T21:09:08.944007Z"
    },
    "papermill": {
     "duration": 0.016764,
     "end_time": "2022-07-15T21:09:08.947121",
     "exception": false,
     "start_time": "2022-07-15T21:09:08.930357",
     "status": "completed"
    },
    "tags": []
   },
   "outputs": [],
   "source": [
    "optimizer = torch.optim.Adam(deepmodel.parameters())"
   ]
  },
  {
   "cell_type": "code",
   "execution_count": 13,
   "id": "a74d6da9",
   "metadata": {
    "execution": {
     "iopub.execute_input": "2022-07-15T21:09:08.967925Z",
     "iopub.status.busy": "2022-07-15T21:09:08.967672Z",
     "iopub.status.idle": "2022-07-15T21:12:13.432037Z",
     "shell.execute_reply": "2022-07-15T21:12:13.428022Z"
    },
    "papermill": {
     "duration": 184.488291,
     "end_time": "2022-07-15T21:12:13.445419",
     "exception": false,
     "start_time": "2022-07-15T21:09:08.957128",
     "status": "completed"
    },
    "tags": []
   },
   "outputs": [
    {
     "name": "stdout",
     "output_type": "stream",
     "text": [
      "epoch 0:\n",
      "Training Loss: 0.05158597603440285\n",
      "Testing Loss: 0.03548567369580269\n",
      "epoch 1:\n",
      "Training Loss: 0.02937924675643444\n",
      "Testing Loss: 0.025835402309894562\n",
      "epoch 2:\n",
      "Training Loss: 0.024563182145357132\n",
      "Testing Loss: 0.023040374740958214\n",
      "epoch 3:\n",
      "Training Loss: 0.021696148440241814\n",
      "Testing Loss: 0.020046168938279152\n",
      "epoch 4:\n",
      "Training Loss: 0.019047481939196587\n",
      "Testing Loss: 0.01762460544705391\n",
      "epoch 5:\n",
      "Training Loss: 0.017127927392721176\n",
      "Testing Loss: 0.016351738944649696\n",
      "epoch 6:\n",
      "Training Loss: 0.0159598458558321\n",
      "Testing Loss: 0.015434300526976585\n",
      "epoch 7:\n",
      "Training Loss: 0.01506885513663292\n",
      "Testing Loss: 0.014633470214903355\n",
      "epoch 8:\n",
      "Training Loss: 0.014415070414543152\n",
      "Testing Loss: 0.014192692004144192\n",
      "epoch 9:\n",
      "Training Loss: 0.013774349354207516\n",
      "Testing Loss: 0.013702168129384518\n",
      "epoch 10:\n",
      "Training Loss: 0.01313973031938076\n",
      "Testing Loss: 0.012840458191931248\n",
      "epoch 11:\n",
      "Training Loss: 0.01267942227423191\n",
      "Testing Loss: 0.012305435724556446\n",
      "epoch 12:\n",
      "Training Loss: 0.012192468158900738\n",
      "Testing Loss: 0.012010236270725727\n",
      "epoch 13:\n",
      "Training Loss: 0.011765955947339535\n",
      "Testing Loss: 0.011700702831149101\n",
      "epoch 14:\n",
      "Training Loss: 0.01141299121081829\n",
      "Testing Loss: 0.01135686319321394\n",
      "epoch 15:\n",
      "Training Loss: 0.01106902677565813\n",
      "Testing Loss: 0.010994142852723598\n",
      "epoch 16:\n",
      "Training Loss: 0.0107742790132761\n",
      "Testing Loss: 0.010907284915447235\n",
      "epoch 17:\n",
      "Training Loss: 0.010515534318983555\n",
      "Testing Loss: 0.010484815575182438\n",
      "epoch 18:\n",
      "Training Loss: 0.010281306691467762\n",
      "Testing Loss: 0.01024501584470272\n",
      "epoch 19:\n",
      "Training Loss: 0.01002359576523304\n",
      "Testing Loss: 0.009970733895897865\n"
     ]
    }
   ],
   "source": [
    "train(deepmodel, 20)"
   ]
  },
  {
   "cell_type": "code",
   "execution_count": 14,
   "id": "d7ab7af1",
   "metadata": {
    "execution": {
     "iopub.execute_input": "2022-07-15T21:12:13.469091Z",
     "iopub.status.busy": "2022-07-15T21:12:13.468795Z",
     "iopub.status.idle": "2022-07-15T21:12:16.048654Z",
     "shell.execute_reply": "2022-07-15T21:12:16.047682Z"
    },
    "papermill": {
     "duration": 2.593677,
     "end_time": "2022-07-15T21:12:16.050691",
     "exception": false,
     "start_time": "2022-07-15T21:12:13.457014",
     "status": "completed"
    },
    "tags": []
   },
   "outputs": [
    {
     "data": {
      "image/png": "[encoded data removed]",
      "text/plain": [
       "<Figure size 864x288 with 2 Axes>"
      ]
     },
     "metadata": {
      "needs_background": "light"
     },
     "output_type": "display_data"
    },
    {
     "data": {
      "image/png": "[encoded data removed]",
      "text/plain": [
       "<Figure size 864x288 with 2 Axes>"
      ]
     },
     "metadata": {
      "needs_background": "light"
     },
     "output_type": "display_data"
    },
    {
     "data": {
      "image/png": "[encoded data removed]",
      "text/plain": [
       "<Figure size 864x288 with 2 Axes>"
      ]
     },
     "metadata": {
      "needs_background": "light"
     },
     "output_type": "display_data"
    },
    {
     "data": {
      "image/png": "[encoded data removed]",
      "text/plain": [
       "<Figure size 864x288 with 2 Axes>"
      ]
     },
     "metadata": {
      "needs_background": "light"
     },
     "output_type": "display_data"
    },
    {
     "data": {
      "image/png": "[encoded data removed]",
      "text/plain": [
       "<Figure size 864x288 with 2 Axes>"
      ]
     },
     "metadata": {
      "needs_background": "light"
     },
     "output_type": "display_data"
    },
    {
     "data": {
      "image/png": "[encoded data removed]",
      "text/plain": [
       "<Figure size 864x288 with 2 Axes>"
      ]
     },
     "metadata": {
      "needs_background": "light"
     },
     "output_type": "display_data"
    },
    {
     "data": {
      "image/png": "[encoded data removed]",
      "text/plain": [
       "<Figure size 864x288 with 2 Axes>"
      ]
     },
     "metadata": {
      "needs_background": "light"
     },
     "output_type": "display_data"
    },
    {
     "data": {
      "image/png": "[encoded data removed]",
      "text/plain": [
       "<Figure size 864x288 with 2 Axes>"
      ]
     },
     "metadata": {
      "needs_background": "light"
     },
     "output_type": "display_data"
    },
    {
     "data": {
      "image/png": "[encoded data removed]",
      "text/plain": [
       "<Figure size 864x288 with 2 Axes>"
      ]
     },
     "metadata": {
      "needs_background": "light"
     },
     "output_type": "display_data"
    },
    {
     "data": {
      "image/png": "[encoded data removed]",
      "text/plain": [
       "<Figure size 864x288 with 2 Axes>"
      ]
     },
     "metadata": {
      "needs_background": "light"
     },
     "output_type": "display_data"
    }
   ],
   "source": [
    "plot_results(deepmodel)"
   ]
  },
  {
   "cell_type": "markdown",
   "id": "d3590677",
   "metadata": {
    "papermill": {
     "duration": 0.012998,
     "end_time": "2022-07-15T21:12:16.077463",
     "exception": false,
     "start_time": "2022-07-15T21:12:16.064465",
     "status": "completed"
    },
    "tags": []
   },
   "source": [
    "## Convolutional autoencoder and application to image denoising"
   ]
  },
  {
   "cell_type": "code",
   "execution_count": 15,
   "id": "bc82e499",
   "metadata": {
    "execution": {
     "iopub.execute_input": "2022-07-15T21:12:16.105036Z",
     "iopub.status.busy": "2022-07-15T21:12:16.104738Z",
     "iopub.status.idle": "2022-07-15T21:12:16.125906Z",
     "shell.execute_reply": "2022-07-15T21:12:16.125063Z"
    },
    "papermill": {
     "duration": 0.036968,
     "end_time": "2022-07-15T21:12:16.127773",
     "exception": false,
     "start_time": "2022-07-15T21:12:16.090805",
     "status": "completed"
    },
    "tags": []
   },
   "outputs": [
    {
     "data": {
      "text/plain": [
       "dtype('float64')"
      ]
     },
     "execution_count": 15,
     "metadata": {},
     "output_type": "execute_result"
    }
   ],
   "source": [
    "mat = (traindata[0][0].reshape(28,28) + 0.5*np.random.normal(loc = 0.0, scale=1.0, size=(28,28))).numpy()\n",
    "mat.dtype"
   ]
  },
  {
   "cell_type": "code",
   "execution_count": 16,
   "id": "34e19b97",
   "metadata": {
    "execution": {
     "iopub.execute_input": "2022-07-15T21:12:16.155027Z",
     "iopub.status.busy": "2022-07-15T21:12:16.154756Z",
     "iopub.status.idle": "2022-07-15T21:12:16.163178Z",
     "shell.execute_reply": "2022-07-15T21:12:16.162192Z"
    },
    "papermill": {
     "duration": 0.024807,
     "end_time": "2022-07-15T21:12:16.165569",
     "exception": false,
     "start_time": "2022-07-15T21:12:16.140762",
     "status": "completed"
    },
    "tags": []
   },
   "outputs": [],
   "source": [
    "class CNNautoencoder(torch.nn.Module):\n",
    "    def __init__(self):\n",
    "        super().__init__()\n",
    "        self.encoder = torch.nn.Sequential(torch.nn.Conv2d(1,32,3),\n",
    "                                           torch.nn.ReLU(),\n",
    "                                           torch.nn.Conv2d(32,64,3),\n",
    "                                           torch.nn.ReLU(),\n",
    "                                           torch.nn.Conv2d(64,128,3),\n",
    "                                           torch.nn.ReLU())\n",
    "        self.decoder = torch.nn.Sequential(torch.nn.ConvTranspose2d(128,64,3),\n",
    "                                           torch.nn.ReLU(),\n",
    "                                           torch.nn.ConvTranspose2d(64,32,3),\n",
    "                                           torch.nn.ReLU(),\n",
    "                                           torch.nn.ConvTranspose2d(32,1,3),\n",
    "                                           torch.nn.Sigmoid())\n",
    "    def forward(self,x):\n",
    "        return self.decoder(self.encoder(x))"
   ]
  },
  {
   "cell_type": "code",
   "execution_count": 17,
   "id": "8f197580",
   "metadata": {
    "execution": {
     "iopub.execute_input": "2022-07-15T21:12:16.192761Z",
     "iopub.status.busy": "2022-07-15T21:12:16.192294Z",
     "iopub.status.idle": "2022-07-15T21:12:16.201094Z",
     "shell.execute_reply": "2022-07-15T21:12:16.200266Z"
    },
    "papermill": {
     "duration": 0.024581,
     "end_time": "2022-07-15T21:12:16.202975",
     "exception": false,
     "start_time": "2022-07-15T21:12:16.178394",
     "status": "completed"
    },
    "tags": []
   },
   "outputs": [],
   "source": [
    "denoiser = CNNautoencoder().cuda()\n",
    "optimizer = torch.optim.Adam(denoiser.parameters())"
   ]
  },
  {
   "cell_type": "code",
   "execution_count": 18,
   "id": "e9b93b1c",
   "metadata": {
    "execution": {
     "iopub.execute_input": "2022-07-15T21:12:16.229921Z",
     "iopub.status.busy": "2022-07-15T21:12:16.229659Z",
     "iopub.status.idle": "2022-07-15T21:12:16.239146Z",
     "shell.execute_reply": "2022-07-15T21:12:16.238264Z"
    },
    "papermill": {
     "duration": 0.025156,
     "end_time": "2022-07-15T21:12:16.241008",
     "exception": false,
     "start_time": "2022-07-15T21:12:16.215852",
     "status": "completed"
    },
    "tags": []
   },
   "outputs": [],
   "source": [
    "def train_denoiser(model, epochs):\n",
    "    for epoch in range(epochs):\n",
    "        trlosses = []\n",
    "        tslosses = []\n",
    "        for (images, other) in trainloader:\n",
    "            images = images.reshape(-1, 1, 28, 28)\n",
    "            noise = 0.1*np.random.normal(loc = 0.0, scale=1.0, size=(images.shape[0], 1, 28, 28))\n",
    "            noisy_images = (images + noise).type(torch.FloatTensor).cuda()\n",
    "            output = model(noisy_images)\n",
    "            loss = loss_function(output, images.cuda())\n",
    "            trlosses.append(loss)\n",
    "            optimizer.zero_grad()\n",
    "            loss.backward()\n",
    "            optimizer.step()\n",
    "        for (images, other) in testloader:\n",
    "            images = images.reshape(-1, 1, 28, 28)\n",
    "            noise = 0.1*np.random.normal(loc = 0.0, scale=1.0, size=(images.shape[0], 1, 28, 28))\n",
    "            noisy_images = (images + noise).type(torch.FloatTensor).cuda()\n",
    "            output = model(noisy_images)\n",
    "            loss = loss_function(output, images.cuda())\n",
    "            tslosses.append(loss)\n",
    "            optimizer.zero_grad()\n",
    "        print(f\"epoch {epoch}:\\nTraining Loss: {sum(trlosses)/len(trlosses)}\\nTesting Loss: {sum(tslosses)/len(tslosses)}\")"
   ]
  },
  {
   "cell_type": "code",
   "execution_count": 19,
   "id": "d81ea3ac",
   "metadata": {
    "execution": {
     "iopub.execute_input": "2022-07-15T21:12:16.269293Z",
     "iopub.status.busy": "2022-07-15T21:12:16.268365Z",
     "iopub.status.idle": "2022-07-15T21:16:47.920849Z",
     "shell.execute_reply": "2022-07-15T21:16:47.919818Z"
    },
    "papermill": {
     "duration": 271.683927,
     "end_time": "2022-07-15T21:16:47.937960",
     "exception": false,
     "start_time": "2022-07-15T21:12:16.254033",
     "status": "completed"
    },
    "tags": []
   },
   "outputs": [
    {
     "name": "stdout",
     "output_type": "stream",
     "text": [
      "epoch 0:\n",
      "Training Loss: 0.0037670203018933535\n",
      "Testing Loss: 0.0009820109698921442\n",
      "epoch 1:\n",
      "Training Loss: 0.0009589573019184172\n",
      "Testing Loss: 0.00090589135652408\n",
      "epoch 2:\n",
      "Training Loss: 0.0009088783990591764\n",
      "Testing Loss: 0.0009352724300697446\n",
      "epoch 3:\n",
      "Training Loss: 0.0008909812313504517\n",
      "Testing Loss: 0.0008667588699609041\n",
      "epoch 4:\n",
      "Training Loss: 0.0008715324802324176\n",
      "Testing Loss: 0.0008726589730940759\n",
      "epoch 5:\n",
      "Training Loss: 0.0008584434981457889\n",
      "Testing Loss: 0.0008417388889938593\n",
      "epoch 6:\n",
      "Training Loss: 0.0008356496691703796\n",
      "Testing Loss: 0.000834609498269856\n",
      "epoch 7:\n",
      "Training Loss: 0.0008268927922472358\n",
      "Testing Loss: 0.000816355284769088\n",
      "epoch 8:\n",
      "Training Loss: 0.0008216123678721488\n",
      "Testing Loss: 0.0008092680363915861\n",
      "epoch 9:\n",
      "Training Loss: 0.0008149757049977779\n",
      "Testing Loss: 0.0008123127045109868\n",
      "epoch 10:\n",
      "Training Loss: 0.0008111849892884493\n",
      "Testing Loss: 0.0008028308511711657\n",
      "epoch 11:\n",
      "Training Loss: 0.0008065173169597983\n",
      "Testing Loss: 0.000798488617874682\n",
      "epoch 12:\n",
      "Training Loss: 0.0008018105872906744\n",
      "Testing Loss: 0.0008203258039429784\n",
      "epoch 13:\n",
      "Training Loss: 0.0007994102197699249\n",
      "Testing Loss: 0.0007959462236613035\n",
      "epoch 14:\n",
      "Training Loss: 0.0007974274922162294\n",
      "Testing Loss: 0.0008001888636499643\n",
      "epoch 15:\n",
      "Training Loss: 0.0007951368461363018\n",
      "Testing Loss: 0.0007903117802925408\n",
      "epoch 16:\n",
      "Training Loss: 0.0007930220453999937\n",
      "Testing Loss: 0.0008031610050238669\n",
      "epoch 17:\n",
      "Training Loss: 0.0007918074843473732\n",
      "Testing Loss: 0.0008049292955547571\n",
      "epoch 18:\n",
      "Training Loss: 0.0007893301662988961\n",
      "Testing Loss: 0.0007880227058194578\n",
      "epoch 19:\n",
      "Training Loss: 0.0007872454007156193\n",
      "Testing Loss: 0.000785677635576576\n"
     ]
    }
   ],
   "source": [
    "train_denoiser(denoiser, 20)"
   ]
  },
  {
   "cell_type": "code",
   "execution_count": 20,
   "id": "056fc3b7",
   "metadata": {
    "execution": {
     "iopub.execute_input": "2022-07-15T21:16:47.968372Z",
     "iopub.status.busy": "2022-07-15T21:16:47.968089Z",
     "iopub.status.idle": "2022-07-15T21:16:47.976199Z",
     "shell.execute_reply": "2022-07-15T21:16:47.975300Z"
    },
    "papermill": {
     "duration": 0.02531,
     "end_time": "2022-07-15T21:16:47.978171",
     "exception": false,
     "start_time": "2022-07-15T21:16:47.952861",
     "status": "completed"
    },
    "tags": []
   },
   "outputs": [],
   "source": [
    "def plot_denoising_results(model):\n",
    "    for i in range(10):\n",
    "        ind = random.randint(0,10000)\n",
    "        fig, axes = plt.subplots(nrows=1, ncols=2, figsize=(12,4))\n",
    "        img = testdata[ind][0].reshape(1,1,28,28)\n",
    "        noise = 0.25*np.random.normal(loc = 0.0, scale=1.0, size=(img.shape[0], 1, 28, 28))\n",
    "        noisy_image = img+noise\n",
    "        axes[0].imshow(noisy_image.reshape(28,28))\n",
    "        axes[0].set_title(\"Original\")\n",
    "        axes[1].imshow(model.cpu()(noisy_image.type(torch.FloatTensor)).reshape(28,28).detach().numpy())\n",
    "        axes[1].set_title(\"Reconstruction\")\n",
    "    plt.show()"
   ]
  },
  {
   "cell_type": "code",
   "execution_count": 21,
   "id": "54a4d7ea",
   "metadata": {
    "execution": {
     "iopub.execute_input": "2022-07-15T21:16:48.008680Z",
     "iopub.status.busy": "2022-07-15T21:16:48.008425Z",
     "iopub.status.idle": "2022-07-15T21:16:50.665166Z",
     "shell.execute_reply": "2022-07-15T21:16:50.664291Z"
    },
    "papermill": {
     "duration": 2.674015,
     "end_time": "2022-07-15T21:16:50.667387",
     "exception": false,
     "start_time": "2022-07-15T21:16:47.993372",
     "status": "completed"
    },
    "tags": []
   },
   "outputs": [
    {
     "data": {
      "image/png": "[encoded data removed]",
      "text/plain": [
       "<Figure size 864x288 with 2 Axes>"
      ]
     },
     "metadata": {
      "needs_background": "light"
     },
     "output_type": "display_data"
    },
    {
     "data": {
      "image/png": "[encoded data removed]",
      "text/plain": [
       "<Figure size 864x288 with 2 Axes>"
      ]
     },
     "metadata": {
      "needs_background": "light"
     },
     "output_type": "display_data"
    },
    {
     "data": {
      "image/png": "[encoded data removed]",
      "text/plain": [
       "<Figure size 864x288 with 2 Axes>"
      ]
     },
     "metadata": {
      "needs_background": "light"
     },
     "output_type": "display_data"
    },
    {
     "data": {
      "image/png": "[encoded data removed]",
      "text/plain": [
       "<Figure size 864x288 with 2 Axes>"
      ]
     },
     "metadata": {
      "needs_background": "light"
     },
     "output_type": "display_data"
    },
    {
     "data": {
      "image/png": "[encoded data removed]",
      "text/plain": [
       "<Figure size 864x288 with 2 Axes>"
      ]
     },
     "metadata": {
      "needs_background": "light"
     },
     "output_type": "display_data"
    },
    {
     "data": {
      "image/png": "[encoded data removed]",
      "text/plain": [
       "<Figure size 864x288 with 2 Axes>"
      ]
     },
     "metadata": {
      "needs_background": "light"
     },
     "output_type": "display_data"
    },
    {
     "data": {
      "image/png": "[encoded data removed]",
      "text/plain": [
       "<Figure size 864x288 with 2 Axes>"
      ]
     },
     "metadata": {
      "needs_background": "light"
     },
     "output_type": "display_data"
    },
    {
     "data": {
      "image/png": "[encoded data removed]",
      "text/plain": [
       "<Figure size 864x288 with 2 Axes>"
      ]
     },
     "metadata": {
      "needs_background": "light"
     },
     "output_type": "display_data"
    },
    {
     "data": {
      "image/png": "[encoded data removed]",
      "text/plain": [
       "<Figure size 864x288 with 2 Axes>"
      ]
     },
     "metadata": {
      "needs_background": "light"
     },
     "output_type": "display_data"
    },
    {
     "data": {
      "image/png": "[encoded data removed]",
      "text/plain": [
       "<Figure size 864x288 with 2 Axes>"
      ]
     },
     "metadata": {
      "needs_background": "light"
     },
     "output_type": "display_data"
    }
   ],
   "source": [
    "plot_denoising_results(denoiser)"
   ]
  },
  {
   "cell_type": "code",
   "execution_count": null,
   "id": "dbd8c453",
   "metadata": {
    "papermill": {
     "duration": 0.017307,
     "end_time": "2022-07-15T21:16:50.702650",
     "exception": false,
     "start_time": "2022-07-15T21:16:50.685343",
     "status": "completed"
    },
    "tags": []
   },
   "outputs": [],
   "source": []
  }
 ],
 "metadata": {
  "kernelspec": {
   "display_name": "Python 3",
   "language": "python",
   "name": "python3"
  },
  "language_info": {
   "codemirror_mode": {
    "name": "ipython",
    "version": 3
   },
   "file_extension": ".py",
   "mimetype": "text/x-python",
   "name": "python",
   "nbconvert_exporter": "python",
   "pygments_lexer": "ipython3",
   "version": "3.7.12"
  },
  "papermill": {
   "default_parameters": {},
   "duration": 632.719161,
   "end_time": "2022-07-15T21:16:53.173003",
   "environment_variables": {},
   "exception": null,
   "input_path": "__notebook__.ipynb",
   "output_path": "__notebook__.ipynb",
   "parameters": {},
   "start_time": "2022-07-15T21:06:20.453842",
   "version": "2.3.4"
  },
  "widgets": {
   "application/vnd.jupyter.widget-state+json": {
    "state": {
     "057d1b8e286e4972a5a44ea1a85fbad1": {
      "model_module": "@jupyter-widgets/base",
      "model_module_version": "1.2.0",
      "model_name": "LayoutModel",
      "state": {
       "_model_module": "@jupyter-widgets/base",
       "_model_module_version": "1.2.0",
       "_model_name": "LayoutModel",
       "_view_count": null,
       "_view_module": "@jupyter-widgets/base",
       "_view_module_version": "1.2.0",
       "_view_name": "LayoutView",
       "align_content": null,
       "align_items": null,
       "align_self": null,
       "border": null,
       "bottom": null,
       "display": null,
       "flex": null,
       "flex_flow": null,
       "grid_area": null,
       "grid_auto_columns": null,
       "grid_auto_flow": null,
       "grid_auto_rows": null,
       "grid_column": null,
       "grid_gap": null,
       "grid_row": null,
       "grid_template_areas": null,
       "grid_template_columns": null,
       "grid_template_rows": null,
       "height": null,
       "justify_content": null,
       "justify_items": null,
       "left": null,
       "margin": null,
       "max_height": null,
       "max_width": null,
       "min_height": null,
       "min_width": null,
       "object_fit": null,
       "object_position": null,
       "order": null,
       "overflow": null,
       "overflow_x": null,
       "overflow_y": null,
       "padding": null,
       "right": null,
       "top": null,
       "visibility": null,
       "width": null
      }
     },
     "068777d358854f278172d0ae2ba20707": {
      "model_module": "@jupyter-widgets/controls",
      "model_module_version": "1.5.0",
      "model_name": "DescriptionStyleModel",
      "state": {
       "_model_module": "@jupyter-widgets/controls",
       "_model_module_version": "1.5.0",
       "_model_name": "DescriptionStyleModel",
       "_view_count": null,
       "_view_module": "@jupyter-widgets/base",
       "_view_module_version": "1.2.0",
       "_view_name": "StyleView",
       "description_width": ""
      }
     },
     "0d4c5c80bb7c41709ad95661e9f2123a": {
      "model_module": "@jupyter-widgets/controls",
      "model_module_version": "1.5.0",
      "model_name": "FloatProgressModel",
      "state": {
       "_dom_classes": [],
       "_model_module": "@jupyter-widgets/controls",
       "_model_module_version": "1.5.0",
       "_model_name": "FloatProgressModel",
       "_view_count": null,
       "_view_module": "@jupyter-widgets/controls",
       "_view_module_version": "1.5.0",
       "_view_name": "ProgressView",
       "bar_style": "success",
       "description": "",
       "description_tooltip": null,
       "layout": "IPY_MODEL_d35a14330fc440feb7edcdd0b6aedcd0",
       "max": 28881.0,
       "min": 0.0,
       "orientation": "horizontal",
       "style": "IPY_MODEL_ff70fda93a9047df8df4511bc1db96c0",
       "value": 28881.0
      }
     },
     "1b9465e3a2be49e1920b648d00fcf326": {
      "model_module": "@jupyter-widgets/controls",
      "model_module_version": "1.5.0",
      "model_name": "DescriptionStyleModel",
      "state": {
       "_model_module": "@jupyter-widgets/controls",
       "_model_module_version": "1.5.0",
       "_model_name": "DescriptionStyleModel",
       "_view_count": null,
       "_view_module": "@jupyter-widgets/base",
       "_view_module_version": "1.2.0",
       "_view_name": "StyleView",
       "description_width": ""
      }
     },
     "2349cbce98c54643aba1d1d4fe78d936": {
      "model_module": "@jupyter-widgets/controls",
      "model_module_version": "1.5.0",
      "model_name": "HTMLModel",
      "state": {
       "_dom_classes": [],
       "_model_module": "@jupyter-widgets/controls",
       "_model_module_version": "1.5.0",
       "_model_name": "HTMLModel",
       "_view_count": null,
       "_view_module": "@jupyter-widgets/controls",
       "_view_module_version": "1.5.0",
       "_view_name": "HTMLView",
       "description": "",
       "description_tooltip": null,
       "layout": "IPY_MODEL_a9a02932dc324533b813e5b5571b80dc",
       "placeholder": "​",
       "style": "IPY_MODEL_1b9465e3a2be49e1920b648d00fcf326",
       "value": ""
      }
     },
     "23e18d5bfd474fc9b56204fd8ae65526": {
      "model_module": "@jupyter-widgets/base",
      "model_module_version": "1.2.0",
      "model_name": "LayoutModel",
      "state": {
       "_model_module": "@jupyter-widgets/base",
       "_model_module_version": "1.2.0",
       "_model_name": "LayoutModel",
       "_view_count": null,
       "_view_module": "@jupyter-widgets/base",
       "_view_module_version": "1.2.0",
       "_view_name": "LayoutView",
       "align_content": null,
       "align_items": null,
       "align_self": null,
       "border": null,
       "bottom": null,
       "display": null,
       "flex": null,
       "flex_flow": null,
       "grid_area": null,
       "grid_auto_columns": null,
       "grid_auto_flow": null,
       "grid_auto_rows": null,
       "grid_column": null,
       "grid_gap": null,
       "grid_row": null,
       "grid_template_areas": null,
       "grid_template_columns": null,
       "grid_template_rows": null,
       "height": null,
       "justify_content": null,
       "justify_items": null,
       "left": null,
       "margin": null,
       "max_height": null,
       "max_width": null,
       "min_height": null,
       "min_width": null,
       "object_fit": null,
       "object_position": null,
       "order": null,
       "overflow": null,
       "overflow_x": null,
       "overflow_y": null,
       "padding": null,
       "right": null,
       "top": null,
       "visibility": null,
       "width": null
      }
     },
     "24ead71ce3844f08a90eefdab0e90a31": {
      "model_module": "@jupyter-widgets/controls",
      "model_module_version": "1.5.0",
      "model_name": "FloatProgressModel",
      "state": {
       "_dom_classes": [],
       "_model_module": "@jupyter-widgets/controls",
       "_model_module_version": "1.5.0",
       "_model_name": "FloatProgressModel",
       "_view_count": null,
       "_view_module": "@jupyter-widgets/controls",
       "_view_module_version": "1.5.0",
       "_view_name": "ProgressView",
       "bar_style": "success",
       "description": "",
       "description_tooltip": null,
       "layout": "IPY_MODEL_a2d79a6570d84e55a0235402aa352595",
       "max": 9912422.0,
       "min": 0.0,
       "orientation": "horizontal",
       "style": "IPY_MODEL_2afad676e7f04069856bdfec25ed6cec",
       "value": 9912422.0
      }
     },
     "24ef8022832f43a59338276f225e5ec1": {
      "model_module": "@jupyter-widgets/base",
      "model_module_version": "1.2.0",
      "model_name": "LayoutModel",
      "state": {
       "_model_module": "@jupyter-widgets/base",
       "_model_module_version": "1.2.0",
       "_model_name": "LayoutModel",
       "_view_count": null,
       "_view_module": "@jupyter-widgets/base",
       "_view_module_version": "1.2.0",
       "_view_name": "LayoutView",
       "align_content": null,
       "align_items": null,
       "align_self": null,
       "border": null,
       "bottom": null,
       "display": null,
       "flex": null,
       "flex_flow": null,
       "grid_area": null,
       "grid_auto_columns": null,
       "grid_auto_flow": null,
       "grid_auto_rows": null,
       "grid_column": null,
       "grid_gap": null,
       "grid_row": null,
       "grid_template_areas": null,
       "grid_template_columns": null,
       "grid_template_rows": null,
       "height": null,
       "justify_content": null,
       "justify_items": null,
       "left": null,
       "margin": null,
       "max_height": null,
       "max_width": null,
       "min_height": null,
       "min_width": null,
       "object_fit": null,
       "object_position": null,
       "order": null,
       "overflow": null,
       "overflow_x": null,
       "overflow_y": null,
       "padding": null,
       "right": null,
       "top": null,
       "visibility": null,
       "width": null
      }
     },
     "2601087844904d87bd7182511cf4ace6": {
      "model_module": "@jupyter-widgets/controls",
      "model_module_version": "1.5.0",
      "model_name": "HBoxModel",
      "state": {
       "_dom_classes": [],
       "_model_module": "@jupyter-widgets/controls",
       "_model_module_version": "1.5.0",
       "_model_name": "HBoxModel",
       "_view_count": null,
       "_view_module": "@jupyter-widgets/controls",
       "_view_module_version": "1.5.0",
       "_view_name": "HBoxView",
       "box_style": "",
       "children": [
        "IPY_MODEL_dc1424d76b484a42adefb26682d22121",
        "IPY_MODEL_e29d6ce6c1ce4b71a0c424611a5e0d57",
        "IPY_MODEL_4180f810d2b14155a5baf21e73685365"
       ],
       "layout": "IPY_MODEL_5bc44b76e5964c9d95887c919f3fdae0"
      }
     },
     "260e116b0c02429b9724966df719b43b": {
      "model_module": "@jupyter-widgets/base",
      "model_module_version": "1.2.0",
      "model_name": "LayoutModel",
      "state": {
       "_model_module": "@jupyter-widgets/base",
       "_model_module_version": "1.2.0",
       "_model_name": "LayoutModel",
       "_view_count": null,
       "_view_module": "@jupyter-widgets/base",
       "_view_module_version": "1.2.0",
       "_view_name": "LayoutView",
       "align_content": null,
       "align_items": null,
       "align_self": null,
       "border": null,
       "bottom": null,
       "display": null,
       "flex": null,
       "flex_flow": null,
       "grid_area": null,
       "grid_auto_columns": null,
       "grid_auto_flow": null,
       "grid_auto_rows": null,
       "grid_column": null,
       "grid_gap": null,
       "grid_row": null,
       "grid_template_areas": null,
       "grid_template_columns": null,
       "grid_template_rows": null,
       "height": null,
       "justify_content": null,
       "justify_items": null,
       "left": null,
       "margin": null,
       "max_height": null,
       "max_width": null,
       "min_height": null,
       "min_width": null,
       "object_fit": null,
       "object_position": null,
       "order": null,
       "overflow": null,
       "overflow_x": null,
       "overflow_y": null,
       "padding": null,
       "right": null,
       "top": null,
       "visibility": null,
       "width": null
      }
     },
     "2afad676e7f04069856bdfec25ed6cec": {
      "model_module": "@jupyter-widgets/controls",
      "model_module_version": "1.5.0",
      "model_name": "ProgressStyleModel",
      "state": {
       "_model_module": "@jupyter-widgets/controls",
       "_model_module_version": "1.5.0",
       "_model_name": "ProgressStyleModel",
       "_view_count": null,
       "_view_module": "@jupyter-widgets/base",
       "_view_module_version": "1.2.0",
       "_view_name": "StyleView",
       "bar_color": null,
       "description_width": ""
      }
     },
     "3479a5f3749445de864215bbb9b10ddd": {
      "model_module": "@jupyter-widgets/controls",
      "model_module_version": "1.5.0",
      "model_name": "HTMLModel",
      "state": {
       "_dom_classes": [],
       "_model_module": "@jupyter-widgets/controls",
       "_model_module_version": "1.5.0",
       "_model_name": "HTMLModel",
       "_view_count": null,
       "_view_module": "@jupyter-widgets/controls",
       "_view_module_version": "1.5.0",
       "_view_name": "HTMLView",
       "description": "",
       "description_tooltip": null,
       "layout": "IPY_MODEL_24ef8022832f43a59338276f225e5ec1",
       "placeholder": "​",
       "style": "IPY_MODEL_068777d358854f278172d0ae2ba20707",
       "value": " 29696/? [00:00&lt;00:00, 1185314.68it/s]"
      }
     },
     "4180f810d2b14155a5baf21e73685365": {
      "model_module": "@jupyter-widgets/controls",
      "model_module_version": "1.5.0",
      "model_name": "HTMLModel",
      "state": {
       "_dom_classes": [],
       "_model_module": "@jupyter-widgets/controls",
       "_model_module_version": "1.5.0",
       "_model_name": "HTMLModel",
       "_view_count": null,
       "_view_module": "@jupyter-widgets/controls",
       "_view_module_version": "1.5.0",
       "_view_name": "HTMLView",
       "description": "",
       "description_tooltip": null,
       "layout": "IPY_MODEL_4aa182ed0c99466da0c0b27ee3e26e8d",
       "placeholder": "​",
       "style": "IPY_MODEL_de20aee3392246cc8eac98aa9899c7b3",
       "value": " 5120/? [00:00&lt;00:00, 199725.05it/s]"
      }
     },
     "44c08285b4b649b791fa292cee9ff29b": {
      "model_module": "@jupyter-widgets/base",
      "model_module_version": "1.2.0",
      "model_name": "LayoutModel",
      "state": {
       "_model_module": "@jupyter-widgets/base",
       "_model_module_version": "1.2.0",
       "_model_name": "LayoutModel",
       "_view_count": null,
       "_view_module": "@jupyter-widgets/base",
       "_view_module_version": "1.2.0",
       "_view_name": "LayoutView",
       "align_content": null,
       "align_items": null,
       "align_self": null,
       "border": null,
       "bottom": null,
       "display": null,
       "flex": null,
       "flex_flow": null,
       "grid_area": null,
       "grid_auto_columns": null,
       "grid_auto_flow": null,
       "grid_auto_rows": null,
       "grid_column": null,
       "grid_gap": null,
       "grid_row": null,
       "grid_template_areas": null,
       "grid_template_columns": null,
       "grid_template_rows": null,
       "height": null,
       "justify_content": null,
       "justify_items": null,
       "left": null,
       "margin": null,
       "max_height": null,
       "max_width": null,
       "min_height": null,
       "min_width": null,
       "object_fit": null,
       "object_position": null,
       "order": null,
       "overflow": null,
       "overflow_x": null,
       "overflow_y": null,
       "padding": null,
       "right": null,
       "top": null,
       "visibility": null,
       "width": null
      }
     },
     "4aa182ed0c99466da0c0b27ee3e26e8d": {
      "model_module": "@jupyter-widgets/base",
      "model_module_version": "1.2.0",
      "model_name": "LayoutModel",
      "state": {
       "_model_module": "@jupyter-widgets/base",
       "_model_module_version": "1.2.0",
       "_model_name": "LayoutModel",
       "_view_count": null,
       "_view_module": "@jupyter-widgets/base",
       "_view_module_version": "1.2.0",
       "_view_name": "LayoutView",
       "align_content": null,
       "align_items": null,
       "align_self": null,
       "border": null,
       "bottom": null,
       "display": null,
       "flex": null,
       "flex_flow": null,
       "grid_area": null,
       "grid_auto_columns": null,
       "grid_auto_flow": null,
       "grid_auto_rows": null,
       "grid_column": null,
       "grid_gap": null,
       "grid_row": null,
       "grid_template_areas": null,
       "grid_template_columns": null,
       "grid_template_rows": null,
       "height": null,
       "justify_content": null,
       "justify_items": null,
       "left": null,
       "margin": null,
       "max_height": null,
       "max_width": null,
       "min_height": null,
       "min_width": null,
       "object_fit": null,
       "object_position": null,
       "order": null,
       "overflow": null,
       "overflow_x": null,
       "overflow_y": null,
       "padding": null,
       "right": null,
       "top": null,
       "visibility": null,
       "width": null
      }
     },
     "4ba5cdfaa49d473d857270cd44a74b0a": {
      "model_module": "@jupyter-widgets/base",
      "model_module_version": "1.2.0",
      "model_name": "LayoutModel",
      "state": {
       "_model_module": "@jupyter-widgets/base",
       "_model_module_version": "1.2.0",
       "_model_name": "LayoutModel",
       "_view_count": null,
       "_view_module": "@jupyter-widgets/base",
       "_view_module_version": "1.2.0",
       "_view_name": "LayoutView",
       "align_content": null,
       "align_items": null,
       "align_self": null,
       "border": null,
       "bottom": null,
       "display": null,
       "flex": null,
       "flex_flow": null,
       "grid_area": null,
       "grid_auto_columns": null,
       "grid_auto_flow": null,
       "grid_auto_rows": null,
       "grid_column": null,
       "grid_gap": null,
       "grid_row": null,
       "grid_template_areas": null,
       "grid_template_columns": null,
       "grid_template_rows": null,
       "height": null,
       "justify_content": null,
       "justify_items": null,
       "left": null,
       "margin": null,
       "max_height": null,
       "max_width": null,
       "min_height": null,
       "min_width": null,
       "object_fit": null,
       "object_position": null,
       "order": null,
       "overflow": null,
       "overflow_x": null,
       "overflow_y": null,
       "padding": null,
       "right": null,
       "top": null,
       "visibility": null,
       "width": null
      }
     },
     "4cbe0acda33b4ddebe3e1860fdca1e5c": {
      "model_module": "@jupyter-widgets/controls",
      "model_module_version": "1.5.0",
      "model_name": "HBoxModel",
      "state": {
       "_dom_classes": [],
       "_model_module": "@jupyter-widgets/controls",
       "_model_module_version": "1.5.0",
       "_model_name": "HBoxModel",
       "_view_count": null,
       "_view_module": "@jupyter-widgets/controls",
       "_view_module_version": "1.5.0",
       "_view_name": "HBoxView",
       "box_style": "",
       "children": [
        "IPY_MODEL_2349cbce98c54643aba1d1d4fe78d936",
        "IPY_MODEL_8d0ad48aa5834b64946e68b2723f755f",
        "IPY_MODEL_fd047cc6ab0a4dde8b904e46493f653e"
       ],
       "layout": "IPY_MODEL_549dcb0df4c54ccf868dc5587f3ce3f0"
      }
     },
     "549dcb0df4c54ccf868dc5587f3ce3f0": {
      "model_module": "@jupyter-widgets/base",
      "model_module_version": "1.2.0",
      "model_name": "LayoutModel",
      "state": {
       "_model_module": "@jupyter-widgets/base",
       "_model_module_version": "1.2.0",
       "_model_name": "LayoutModel",
       "_view_count": null,
       "_view_module": "@jupyter-widgets/base",
       "_view_module_version": "1.2.0",
       "_view_name": "LayoutView",
       "align_content": null,
       "align_items": null,
       "align_self": null,
       "border": null,
       "bottom": null,
       "display": null,
       "flex": null,
       "flex_flow": null,
       "grid_area": null,
       "grid_auto_columns": null,
       "grid_auto_flow": null,
       "grid_auto_rows": null,
       "grid_column": null,
       "grid_gap": null,
       "grid_row": null,
       "grid_template_areas": null,
       "grid_template_columns": null,
       "grid_template_rows": null,
       "height": null,
       "justify_content": null,
       "justify_items": null,
       "left": null,
       "margin": null,
       "max_height": null,
       "max_width": null,
       "min_height": null,
       "min_width": null,
       "object_fit": null,
       "object_position": null,
       "order": null,
       "overflow": null,
       "overflow_x": null,
       "overflow_y": null,
       "padding": null,
       "right": null,
       "top": null,
       "visibility": null,
       "width": null
      }
     },
     "5bc44b76e5964c9d95887c919f3fdae0": {
      "model_module": "@jupyter-widgets/base",
      "model_module_version": "1.2.0",
      "model_name": "LayoutModel",
      "state": {
       "_model_module": "@jupyter-widgets/base",
       "_model_module_version": "1.2.0",
       "_model_name": "LayoutModel",
       "_view_count": null,
       "_view_module": "@jupyter-widgets/base",
       "_view_module_version": "1.2.0",
       "_view_name": "LayoutView",
       "align_content": null,
       "align_items": null,
       "align_self": null,
       "border": null,
       "bottom": null,
       "display": null,
       "flex": null,
       "flex_flow": null,
       "grid_area": null,
       "grid_auto_columns": null,
       "grid_auto_flow": null,
       "grid_auto_rows": null,
       "grid_column": null,
       "grid_gap": null,
       "grid_row": null,
       "grid_template_areas": null,
       "grid_template_columns": null,
       "grid_template_rows": null,
       "height": null,
       "justify_content": null,
       "justify_items": null,
       "left": null,
       "margin": null,
       "max_height": null,
       "max_width": null,
       "min_height": null,
       "min_width": null,
       "object_fit": null,
       "object_position": null,
       "order": null,
       "overflow": null,
       "overflow_x": null,
       "overflow_y": null,
       "padding": null,
       "right": null,
       "top": null,
       "visibility": null,
       "width": null
      }
     },
     "6d08e82e57b64269a5681dfa8c864560": {
      "model_module": "@jupyter-widgets/controls",
      "model_module_version": "1.5.0",
      "model_name": "HBoxModel",
      "state": {
       "_dom_classes": [],
       "_model_module": "@jupyter-widgets/controls",
       "_model_module_version": "1.5.0",
       "_model_name": "HBoxModel",
       "_view_count": null,
       "_view_module": "@jupyter-widgets/controls",
       "_view_module_version": "1.5.0",
       "_view_name": "HBoxView",
       "box_style": "",
       "children": [
        "IPY_MODEL_928f07f33d9441f1a9bd9806507e8080",
        "IPY_MODEL_24ead71ce3844f08a90eefdab0e90a31",
        "IPY_MODEL_6e910f3dd4f4481a83f59a805d9334dc"
       ],
       "layout": "IPY_MODEL_23e18d5bfd474fc9b56204fd8ae65526"
      }
     },
     "6e910f3dd4f4481a83f59a805d9334dc": {
      "model_module": "@jupyter-widgets/controls",
      "model_module_version": "1.5.0",
      "model_name": "HTMLModel",
      "state": {
       "_dom_classes": [],
       "_model_module": "@jupyter-widgets/controls",
       "_model_module_version": "1.5.0",
       "_model_name": "HTMLModel",
       "_view_count": null,
       "_view_module": "@jupyter-widgets/controls",
       "_view_module_version": "1.5.0",
       "_view_name": "HTMLView",
       "description": "",
       "description_tooltip": null,
       "layout": "IPY_MODEL_fdc1467dc430471392366382cd981936",
       "placeholder": "​",
       "style": "IPY_MODEL_bc755c07cd18460b829099e37ddd097a",
       "value": " 9913344/? [00:00&lt;00:00, 32769913.95it/s]"
      }
     },
     "8d0ad48aa5834b64946e68b2723f755f": {
      "model_module": "@jupyter-widgets/controls",
      "model_module_version": "1.5.0",
      "model_name": "FloatProgressModel",
      "state": {
       "_dom_classes": [],
       "_model_module": "@jupyter-widgets/controls",
       "_model_module_version": "1.5.0",
       "_model_name": "FloatProgressModel",
       "_view_count": null,
       "_view_module": "@jupyter-widgets/controls",
       "_view_module_version": "1.5.0",
       "_view_name": "ProgressView",
       "bar_style": "success",
       "description": "",
       "description_tooltip": null,
       "layout": "IPY_MODEL_4ba5cdfaa49d473d857270cd44a74b0a",
       "max": 1648877.0,
       "min": 0.0,
       "orientation": "horizontal",
       "style": "IPY_MODEL_f50f33432b864ab691c9a1414a2f5f2e",
       "value": 1648877.0
      }
     },
     "928f07f33d9441f1a9bd9806507e8080": {
      "model_module": "@jupyter-widgets/controls",
      "model_module_version": "1.5.0",
      "model_name": "HTMLModel",
      "state": {
       "_dom_classes": [],
       "_model_module": "@jupyter-widgets/controls",
       "_model_module_version": "1.5.0",
       "_model_name": "HTMLModel",
       "_view_count": null,
       "_view_module": "@jupyter-widgets/controls",
       "_view_module_version": "1.5.0",
       "_view_name": "HTMLView",
       "description": "",
       "description_tooltip": null,
       "layout": "IPY_MODEL_a48867c465c64c5eb18328a5836aaa5c",
       "placeholder": "​",
       "style": "IPY_MODEL_9c1b07db315944f4828f9e59d482d624",
       "value": ""
      }
     },
     "9c1b07db315944f4828f9e59d482d624": {
      "model_module": "@jupyter-widgets/controls",
      "model_module_version": "1.5.0",
      "model_name": "DescriptionStyleModel",
      "state": {
       "_model_module": "@jupyter-widgets/controls",
       "_model_module_version": "1.5.0",
       "_model_name": "DescriptionStyleModel",
       "_view_count": null,
       "_view_module": "@jupyter-widgets/base",
       "_view_module_version": "1.2.0",
       "_view_name": "StyleView",
       "description_width": ""
      }
     },
     "9ef561c2672f4c5cb7ee0b2ece9b4c4e": {
      "model_module": "@jupyter-widgets/controls",
      "model_module_version": "1.5.0",
      "model_name": "DescriptionStyleModel",
      "state": {
       "_model_module": "@jupyter-widgets/controls",
       "_model_module_version": "1.5.0",
       "_model_name": "DescriptionStyleModel",
       "_view_count": null,
       "_view_module": "@jupyter-widgets/base",
       "_view_module_version": "1.2.0",
       "_view_name": "StyleView",
       "description_width": ""
      }
     },
     "9f354b83225449fdb417f454b58088a8": {
      "model_module": "@jupyter-widgets/base",
      "model_module_version": "1.2.0",
      "model_name": "LayoutModel",
      "state": {
       "_model_module": "@jupyter-widgets/base",
       "_model_module_version": "1.2.0",
       "_model_name": "LayoutModel",
       "_view_count": null,
       "_view_module": "@jupyter-widgets/base",
       "_view_module_version": "1.2.0",
       "_view_name": "LayoutView",
       "align_content": null,
       "align_items": null,
       "align_self": null,
       "border": null,
       "bottom": null,
       "display": null,
       "flex": null,
       "flex_flow": null,
       "grid_area": null,
       "grid_auto_columns": null,
       "grid_auto_flow": null,
       "grid_auto_rows": null,
       "grid_column": null,
       "grid_gap": null,
       "grid_row": null,
       "grid_template_areas": null,
       "grid_template_columns": null,
       "grid_template_rows": null,
       "height": null,
       "justify_content": null,
       "justify_items": null,
       "left": null,
       "margin": null,
       "max_height": null,
       "max_width": null,
       "min_height": null,
       "min_width": null,
       "object_fit": null,
       "object_position": null,
       "order": null,
       "overflow": null,
       "overflow_x": null,
       "overflow_y": null,
       "padding": null,
       "right": null,
       "top": null,
       "visibility": null,
       "width": null
      }
     },
     "a2d79a6570d84e55a0235402aa352595": {
      "model_module": "@jupyter-widgets/base",
      "model_module_version": "1.2.0",
      "model_name": "LayoutModel",
      "state": {
       "_model_module": "@jupyter-widgets/base",
       "_model_module_version": "1.2.0",
       "_model_name": "LayoutModel",
       "_view_count": null,
       "_view_module": "@jupyter-widgets/base",
       "_view_module_version": "1.2.0",
       "_view_name": "LayoutView",
       "align_content": null,
       "align_items": null,
       "align_self": null,
       "border": null,
       "bottom": null,
       "display": null,
       "flex": null,
       "flex_flow": null,
       "grid_area": null,
       "grid_auto_columns": null,
       "grid_auto_flow": null,
       "grid_auto_rows": null,
       "grid_column": null,
       "grid_gap": null,
       "grid_row": null,
       "grid_template_areas": null,
       "grid_template_columns": null,
       "grid_template_rows": null,
       "height": null,
       "justify_content": null,
       "justify_items": null,
       "left": null,
       "margin": null,
       "max_height": null,
       "max_width": null,
       "min_height": null,
       "min_width": null,
       "object_fit": null,
       "object_position": null,
       "order": null,
       "overflow": null,
       "overflow_x": null,
       "overflow_y": null,
       "padding": null,
       "right": null,
       "top": null,
       "visibility": null,
       "width": null
      }
     },
     "a48867c465c64c5eb18328a5836aaa5c": {
      "model_module": "@jupyter-widgets/base",
      "model_module_version": "1.2.0",
      "model_name": "LayoutModel",
      "state": {
       "_model_module": "@jupyter-widgets/base",
       "_model_module_version": "1.2.0",
       "_model_name": "LayoutModel",
       "_view_count": null,
       "_view_module": "@jupyter-widgets/base",
       "_view_module_version": "1.2.0",
       "_view_name": "LayoutView",
       "align_content": null,
       "align_items": null,
       "align_self": null,
       "border": null,
       "bottom": null,
       "display": null,
       "flex": null,
       "flex_flow": null,
       "grid_area": null,
       "grid_auto_columns": null,
       "grid_auto_flow": null,
       "grid_auto_rows": null,
       "grid_column": null,
       "grid_gap": null,
       "grid_row": null,
       "grid_template_areas": null,
       "grid_template_columns": null,
       "grid_template_rows": null,
       "height": null,
       "justify_content": null,
       "justify_items": null,
       "left": null,
       "margin": null,
       "max_height": null,
       "max_width": null,
       "min_height": null,
       "min_width": null,
       "object_fit": null,
       "object_position": null,
       "order": null,
       "overflow": null,
       "overflow_x": null,
       "overflow_y": null,
       "padding": null,
       "right": null,
       "top": null,
       "visibility": null,
       "width": null
      }
     },
     "a9a02932dc324533b813e5b5571b80dc": {
      "model_module": "@jupyter-widgets/base",
      "model_module_version": "1.2.0",
      "model_name": "LayoutModel",
      "state": {
       "_model_module": "@jupyter-widgets/base",
       "_model_module_version": "1.2.0",
       "_model_name": "LayoutModel",
       "_view_count": null,
       "_view_module": "@jupyter-widgets/base",
       "_view_module_version": "1.2.0",
       "_view_name": "LayoutView",
       "align_content": null,
       "align_items": null,
       "align_self": null,
       "border": null,
       "bottom": null,
       "display": null,
       "flex": null,
       "flex_flow": null,
       "grid_area": null,
       "grid_auto_columns": null,
       "grid_auto_flow": null,
       "grid_auto_rows": null,
       "grid_column": null,
       "grid_gap": null,
       "grid_row": null,
       "grid_template_areas": null,
       "grid_template_columns": null,
       "grid_template_rows": null,
       "height": null,
       "justify_content": null,
       "justify_items": null,
       "left": null,
       "margin": null,
       "max_height": null,
       "max_width": null,
       "min_height": null,
       "min_width": null,
       "object_fit": null,
       "object_position": null,
       "order": null,
       "overflow": null,
       "overflow_x": null,
       "overflow_y": null,
       "padding": null,
       "right": null,
       "top": null,
       "visibility": null,
       "width": null
      }
     },
     "bc755c07cd18460b829099e37ddd097a": {
      "model_module": "@jupyter-widgets/controls",
      "model_module_version": "1.5.0",
      "model_name": "DescriptionStyleModel",
      "state": {
       "_model_module": "@jupyter-widgets/controls",
       "_model_module_version": "1.5.0",
       "_model_name": "DescriptionStyleModel",
       "_view_count": null,
       "_view_module": "@jupyter-widgets/base",
       "_view_module_version": "1.2.0",
       "_view_name": "StyleView",
       "description_width": ""
      }
     },
     "ce6b6d3bb1cc4ff5a9cde005542b164b": {
      "model_module": "@jupyter-widgets/controls",
      "model_module_version": "1.5.0",
      "model_name": "HTMLModel",
      "state": {
       "_dom_classes": [],
       "_model_module": "@jupyter-widgets/controls",
       "_model_module_version": "1.5.0",
       "_model_name": "HTMLModel",
       "_view_count": null,
       "_view_module": "@jupyter-widgets/controls",
       "_view_module_version": "1.5.0",
       "_view_name": "HTMLView",
       "description": "",
       "description_tooltip": null,
       "layout": "IPY_MODEL_44c08285b4b649b791fa292cee9ff29b",
       "placeholder": "​",
       "style": "IPY_MODEL_fea16ff25e6c4fdda36d219a137f684c",
       "value": ""
      }
     },
     "d35a14330fc440feb7edcdd0b6aedcd0": {
      "model_module": "@jupyter-widgets/base",
      "model_module_version": "1.2.0",
      "model_name": "LayoutModel",
      "state": {
       "_model_module": "@jupyter-widgets/base",
       "_model_module_version": "1.2.0",
       "_model_name": "LayoutModel",
       "_view_count": null,
       "_view_module": "@jupyter-widgets/base",
       "_view_module_version": "1.2.0",
       "_view_name": "LayoutView",
       "align_content": null,
       "align_items": null,
       "align_self": null,
       "border": null,
       "bottom": null,
       "display": null,
       "flex": null,
       "flex_flow": null,
       "grid_area": null,
       "grid_auto_columns": null,
       "grid_auto_flow": null,
       "grid_auto_rows": null,
       "grid_column": null,
       "grid_gap": null,
       "grid_row": null,
       "grid_template_areas": null,
       "grid_template_columns": null,
       "grid_template_rows": null,
       "height": null,
       "justify_content": null,
       "justify_items": null,
       "left": null,
       "margin": null,
       "max_height": null,
       "max_width": null,
       "min_height": null,
       "min_width": null,
       "object_fit": null,
       "object_position": null,
       "order": null,
       "overflow": null,
       "overflow_x": null,
       "overflow_y": null,
       "padding": null,
       "right": null,
       "top": null,
       "visibility": null,
       "width": null
      }
     },
     "d6d43b5bc4e749469d444589d7a64d5d": {
      "model_module": "@jupyter-widgets/base",
      "model_module_version": "1.2.0",
      "model_name": "LayoutModel",
      "state": {
       "_model_module": "@jupyter-widgets/base",
       "_model_module_version": "1.2.0",
       "_model_name": "LayoutModel",
       "_view_count": null,
       "_view_module": "@jupyter-widgets/base",
       "_view_module_version": "1.2.0",
       "_view_name": "LayoutView",
       "align_content": null,
       "align_items": null,
       "align_self": null,
       "border": null,
       "bottom": null,
       "display": null,
       "flex": null,
       "flex_flow": null,
       "grid_area": null,
       "grid_auto_columns": null,
       "grid_auto_flow": null,
       "grid_auto_rows": null,
       "grid_column": null,
       "grid_gap": null,
       "grid_row": null,
       "grid_template_areas": null,
       "grid_template_columns": null,
       "grid_template_rows": null,
       "height": null,
       "justify_content": null,
       "justify_items": null,
       "left": null,
       "margin": null,
       "max_height": null,
       "max_width": null,
       "min_height": null,
       "min_width": null,
       "object_fit": null,
       "object_position": null,
       "order": null,
       "overflow": null,
       "overflow_x": null,
       "overflow_y": null,
       "padding": null,
       "right": null,
       "top": null,
       "visibility": null,
       "width": null
      }
     },
     "db43a45ea628489793732a2120bcbbc6": {
      "model_module": "@jupyter-widgets/controls",
      "model_module_version": "1.5.0",
      "model_name": "ProgressStyleModel",
      "state": {
       "_model_module": "@jupyter-widgets/controls",
       "_model_module_version": "1.5.0",
       "_model_name": "ProgressStyleModel",
       "_view_count": null,
       "_view_module": "@jupyter-widgets/base",
       "_view_module_version": "1.2.0",
       "_view_name": "StyleView",
       "bar_color": null,
       "description_width": ""
      }
     },
     "dc1424d76b484a42adefb26682d22121": {
      "model_module": "@jupyter-widgets/controls",
      "model_module_version": "1.5.0",
      "model_name": "HTMLModel",
      "state": {
       "_dom_classes": [],
       "_model_module": "@jupyter-widgets/controls",
       "_model_module_version": "1.5.0",
       "_model_name": "HTMLModel",
       "_view_count": null,
       "_view_module": "@jupyter-widgets/controls",
       "_view_module_version": "1.5.0",
       "_view_name": "HTMLView",
       "description": "",
       "description_tooltip": null,
       "layout": "IPY_MODEL_9f354b83225449fdb417f454b58088a8",
       "placeholder": "​",
       "style": "IPY_MODEL_e839fae7f7dd4d5c8c9664f184299c07",
       "value": ""
      }
     },
     "de20aee3392246cc8eac98aa9899c7b3": {
      "model_module": "@jupyter-widgets/controls",
      "model_module_version": "1.5.0",
      "model_name": "DescriptionStyleModel",
      "state": {
       "_model_module": "@jupyter-widgets/controls",
       "_model_module_version": "1.5.0",
       "_model_name": "DescriptionStyleModel",
       "_view_count": null,
       "_view_module": "@jupyter-widgets/base",
       "_view_module_version": "1.2.0",
       "_view_name": "StyleView",
       "description_width": ""
      }
     },
     "e29d6ce6c1ce4b71a0c424611a5e0d57": {
      "model_module": "@jupyter-widgets/controls",
      "model_module_version": "1.5.0",
      "model_name": "FloatProgressModel",
      "state": {
       "_dom_classes": [],
       "_model_module": "@jupyter-widgets/controls",
       "_model_module_version": "1.5.0",
       "_model_name": "FloatProgressModel",
       "_view_count": null,
       "_view_module": "@jupyter-widgets/controls",
       "_view_module_version": "1.5.0",
       "_view_name": "ProgressView",
       "bar_style": "success",
       "description": "",
       "description_tooltip": null,
       "layout": "IPY_MODEL_260e116b0c02429b9724966df719b43b",
       "max": 4542.0,
       "min": 0.0,
       "orientation": "horizontal",
       "style": "IPY_MODEL_db43a45ea628489793732a2120bcbbc6",
       "value": 4542.0
      }
     },
     "e7f17624faac47a08951104936d89149": {
      "model_module": "@jupyter-widgets/controls",
      "model_module_version": "1.5.0",
      "model_name": "HBoxModel",
      "state": {
       "_dom_classes": [],
       "_model_module": "@jupyter-widgets/controls",
       "_model_module_version": "1.5.0",
       "_model_name": "HBoxModel",
       "_view_count": null,
       "_view_module": "@jupyter-widgets/controls",
       "_view_module_version": "1.5.0",
       "_view_name": "HBoxView",
       "box_style": "",
       "children": [
        "IPY_MODEL_ce6b6d3bb1cc4ff5a9cde005542b164b",
        "IPY_MODEL_0d4c5c80bb7c41709ad95661e9f2123a",
        "IPY_MODEL_3479a5f3749445de864215bbb9b10ddd"
       ],
       "layout": "IPY_MODEL_d6d43b5bc4e749469d444589d7a64d5d"
      }
     },
     "e839fae7f7dd4d5c8c9664f184299c07": {
      "model_module": "@jupyter-widgets/controls",
      "model_module_version": "1.5.0",
      "model_name": "DescriptionStyleModel",
      "state": {
       "_model_module": "@jupyter-widgets/controls",
       "_model_module_version": "1.5.0",
       "_model_name": "DescriptionStyleModel",
       "_view_count": null,
       "_view_module": "@jupyter-widgets/base",
       "_view_module_version": "1.2.0",
       "_view_name": "StyleView",
       "description_width": ""
      }
     },
     "f50f33432b864ab691c9a1414a2f5f2e": {
      "model_module": "@jupyter-widgets/controls",
      "model_module_version": "1.5.0",
      "model_name": "ProgressStyleModel",
      "state": {
       "_model_module": "@jupyter-widgets/controls",
       "_model_module_version": "1.5.0",
       "_model_name": "ProgressStyleModel",
       "_view_count": null,
       "_view_module": "@jupyter-widgets/base",
       "_view_module_version": "1.2.0",
       "_view_name": "StyleView",
       "bar_color": null,
       "description_width": ""
      }
     },
     "fd047cc6ab0a4dde8b904e46493f653e": {
      "model_module": "@jupyter-widgets/controls",
      "model_module_version": "1.5.0",
      "model_name": "HTMLModel",
      "state": {
       "_dom_classes": [],
       "_model_module": "@jupyter-widgets/controls",
       "_model_module_version": "1.5.0",
       "_model_name": "HTMLModel",
       "_view_count": null,
       "_view_module": "@jupyter-widgets/controls",
       "_view_module_version": "1.5.0",
       "_view_name": "HTMLView",
       "description": "",
       "description_tooltip": null,
       "layout": "IPY_MODEL_057d1b8e286e4972a5a44ea1a85fbad1",
       "placeholder": "​",
       "style": "IPY_MODEL_9ef561c2672f4c5cb7ee0b2ece9b4c4e",
       "value": " 1649664/? [00:00&lt;00:00, 4724710.39it/s]"
      }
     },
     "fdc1467dc430471392366382cd981936": {
      "model_module": "@jupyter-widgets/base",
      "model_module_version": "1.2.0",
      "model_name": "LayoutModel",
      "state": {
       "_model_module": "@jupyter-widgets/base",
       "_model_module_version": "1.2.0",
       "_model_name": "LayoutModel",
       "_view_count": null,
       "_view_module": "@jupyter-widgets/base",
       "_view_module_version": "1.2.0",
       "_view_name": "LayoutView",
       "align_content": null,
       "align_items": null,
       "align_self": null,
       "border": null,
       "bottom": null,
       "display": null,
       "flex": null,
       "flex_flow": null,
       "grid_area": null,
       "grid_auto_columns": null,
       "grid_auto_flow": null,
       "grid_auto_rows": null,
       "grid_column": null,
       "grid_gap": null,
       "grid_row": null,
       "grid_template_areas": null,
       "grid_template_columns": null,
       "grid_template_rows": null,
       "height": null,
       "justify_content": null,
       "justify_items": null,
       "left": null,
       "margin": null,
       "max_height": null,
       "max_width": null,
       "min_height": null,
       "min_width": null,
       "object_fit": null,
       "object_position": null,
       "order": null,
       "overflow": null,
       "overflow_x": null,
       "overflow_y": null,
       "padding": null,
       "right": null,
       "top": null,
       "visibility": null,
       "width": null
      }
     },
     "fea16ff25e6c4fdda36d219a137f684c": {
      "model_module": "@jupyter-widgets/controls",
      "model_module_version": "1.5.0",
      "model_name": "DescriptionStyleModel",
      "state": {
       "_model_module": "@jupyter-widgets/controls",
       "_model_module_version": "1.5.0",
       "_model_name": "DescriptionStyleModel",
       "_view_count": null,
       "_view_module": "@jupyter-widgets/base",
       "_view_module_version": "1.2.0",
       "_view_name": "StyleView",
       "description_width": ""
      }
     },
     "ff70fda93a9047df8df4511bc1db96c0": {
      "model_module": "@jupyter-widgets/controls",
      "model_module_version": "1.5.0",
      "model_name": "ProgressStyleModel",
      "state": {
       "_model_module": "@jupyter-widgets/controls",
       "_model_module_version": "1.5.0",
       "_model_name": "ProgressStyleModel",
       "_view_count": null,
       "_view_module": "@jupyter-widgets/base",
       "_view_module_version": "1.2.0",
       "_view_name": "StyleView",
       "bar_color": null,
       "description_width": ""
      }
     }
    },
    "version_major": 2,
    "version_minor": 0
   }
  }
 },
 "nbformat": 4,
 "nbformat_minor": 5
}
